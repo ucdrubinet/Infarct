{
 "cells": [
  {
   "cell_type": "code",
   "execution_count": 1,
   "id": "ea6a14b5",
   "metadata": {},
   "outputs": [
    {
     "data": {
      "text/plain": [
       "True"
      ]
     },
     "execution_count": 1,
     "metadata": {},
     "output_type": "execute_result"
    }
   ],
   "source": [
    "import numpy as np\n",
    "import cv2\n",
    "from PIL import Image\n",
    "\n",
    "\n",
    "# Load the ground truth mask from .npy file\n",
    "true_mask = np.load('/cache/S23_Infarct/masks/NA5077-17_HE.npy')\n",
    "true_mask = Image.fromarray(true_mask*255)\n",
    "\n",
    "# Load the predicted image and convert it to grayscale\n",
    "image_pred = cv2.imread('/cache/Infarct/GNN_Hybrid/EfficientNetPretrained_512-July03_conf75/NA5077-17_HE.png')\n",
    "gray_image = cv2.cvtColor(image_pred, cv2.COLOR_BGR2GRAY)\n",
    "\n",
    "# Convert the grayscale image to binary\n",
    "_, pred_mask = cv2.threshold(gray_image, 0, 255, cv2.THRESH_BINARY)\n",
    "cv2.imwrite('binary_NA5077-17_HE_predicted.png', pred_mask)\n"
   ]
  },
  {
   "cell_type": "code",
   "execution_count": 2,
   "id": "5e69f122",
   "metadata": {},
   "outputs": [],
   "source": [
    "true_mask1 = true_mask.resize(size = (pred_mask.shape[1], pred_mask.shape[0]))"
   ]
  },
  {
   "cell_type": "code",
   "execution_count": 3,
   "id": "b003f204",
   "metadata": {},
   "outputs": [],
   "source": [
    "true_mask1.save('binary_NA5077-17_HE_GT_resized.png')"
   ]
  },
  {
   "cell_type": "code",
   "execution_count": 4,
   "id": "b6a8f522",
   "metadata": {},
   "outputs": [
    {
     "data": {
      "text/plain": [
       "(688, 656)"
      ]
     },
     "execution_count": 4,
     "metadata": {},
     "output_type": "execute_result"
    }
   ],
   "source": [
    "true_mask1.size"
   ]
  },
  {
   "cell_type": "code",
   "execution_count": null,
   "id": "53a1928b",
   "metadata": {
    "scrolled": false
   },
   "outputs": [],
   "source": [
    "import matplotlib.pyplot as plt\n",
    "plt.imshow(pred_mask)"
   ]
  },
  {
   "cell_type": "code",
   "execution_count": null,
   "id": "9fe75d47",
   "metadata": {},
   "outputs": [],
   "source": [
    "import matplotlib.pyplot as plt\n",
    "plt.imshow(true_mask1, 'gray')"
   ]
  },
  {
   "cell_type": "code",
   "execution_count": 5,
   "id": "ac04a859",
   "metadata": {},
   "outputs": [
    {
     "name": "stdout",
     "output_type": "stream",
     "text": [
      "Intersection over Union (IoU): 0.022712235420698865\n",
      "Dice coefficient: 0.044415691206346135\n",
      "Confusion_matrix: 868827 473976 162 11019\n",
      "Sensitivity: 0.6470249172812393\n",
      "specificity: 0.9855111349610947\n",
      "IoU: 0.022712235420698865\n"
     ]
    }
   ],
   "source": [
    "from sklearn.metrics import f1_score, jaccard_score, confusion_matrix\n",
    "import cv2\n",
    "\n",
    "# Load the ground truth and predicted images\n",
    "true_image = cv2.imread('binary_NA5077-17_HE_GT_resized.png')\n",
    "pred_image = cv2.imread('binary_NA5077-17_HE_predicted.png')\n",
    "\n",
    "_, true_image = cv2.threshold(true_image, 0, 255, cv2.THRESH_BINARY)\n",
    "\n",
    "# Flatten the masks to 1D arrays\n",
    "true_mask = true_image.flatten()\n",
    "pred_mask = pred_image.flatten()\n",
    "\n",
    "# Calculate IoU and Dice coefficient\n",
    "iou = jaccard_score(true_mask, pred_mask, pos_label=255,\n",
    "                                           average='binary')\n",
    "dice = f1_score(true_mask, pred_mask, pos_label=255,\n",
    "                                           average='binary')\n",
    "conf = confusion_matrix(true_mask, pred_mask)\n",
    "tn, fp, fn, tp =  confusion_matrix(true_mask, pred_mask).ravel()\n",
    "specificity = tp / (tp+fn)\n",
    "sensitivity = tn/(tn+fp)\n",
    "\n",
    "IOU = tp/(tp+fp+fn)\n",
    "\n",
    "print(\"Intersection over Union (IoU):\", iou)\n",
    "print(\"Dice coefficient:\", dice)\n",
    "print(\"Confusion_matrix:\", tn, fp, fn, tp)\n",
    "print(\"Sensitivity:\", sensitivity)\n",
    "print(\"specificity:\", specificity)\n",
    "print(\"IoU:\", IOU)"
   ]
  },
  {
   "cell_type": "code",
   "execution_count": null,
   "id": "6658d448",
   "metadata": {},
   "outputs": [],
   "source": []
  }
 ],
 "metadata": {
  "kernelspec": {
   "display_name": "Python 3",
   "language": "python",
   "name": "python3"
  },
  "language_info": {
   "codemirror_mode": {
    "name": "ipython",
    "version": 3
   },
   "file_extension": ".py",
   "mimetype": "text/x-python",
   "name": "python",
   "nbconvert_exporter": "python",
   "pygments_lexer": "ipython3",
   "version": "3.7.10"
  }
 },
 "nbformat": 4,
 "nbformat_minor": 5
}
