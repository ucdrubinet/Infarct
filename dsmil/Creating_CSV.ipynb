{
 "cells": [
  {
   "cell_type": "code",
   "execution_count": 11,
   "id": "4d1757e9",
   "metadata": {},
   "outputs": [
    {
     "name": "stdout",
     "output_type": "stream",
     "text": [
      "Wed May 10 08:38:51 2023       \n",
      "+-----------------------------------------------------------------------------+\n",
      "| NVIDIA-SMI 450.36.06    Driver Version: 450.36.06    CUDA Version: 11.0     |\n",
      "|-------------------------------+----------------------+----------------------+\n",
      "| GPU  Name        Persistence-M| Bus-Id        Disp.A | Volatile Uncorr. ECC |\n",
      "| Fan  Temp  Perf  Pwr:Usage/Cap|         Memory-Usage | GPU-Util  Compute M. |\n",
      "|                               |                      |               MIG M. |\n",
      "|===============================+======================+======================|\n",
      "|   0  Tesla T4            On   | 00000000:17:00.0 Off |                    0 |\n",
      "| N/A   70C    P0    37W /  65W |  13897MiB / 15109MiB |     42%      Default |\n",
      "|                               |                      |                  N/A |\n",
      "+-------------------------------+----------------------+----------------------+\n",
      "|   1  Tesla T4            On   | 00000000:B3:00.0 Off |                    0 |\n",
      "| N/A   36C    P8    10W /  70W |      3MiB / 15109MiB |      0%      Default |\n",
      "|                               |                      |                  N/A |\n",
      "+-------------------------------+----------------------+----------------------+\n",
      "                                                                               \n",
      "+-----------------------------------------------------------------------------+\n",
      "| Processes:                                                                  |\n",
      "|  GPU   GI   CI        PID   Type   Process name                  GPU Memory |\n",
      "|        ID   ID                                                   Usage      |\n",
      "|=============================================================================|\n",
      "|    0   N/A  N/A      1700      C   /usr/bin/python                   103MiB |\n",
      "|    0   N/A  N/A     30325      C   python                          13791MiB |\n",
      "+-----------------------------------------------------------------------------+\n"
     ]
    }
   ],
   "source": [
    "!nvidia-smi"
   ]
  },
  {
   "cell_type": "code",
   "execution_count": 2,
   "id": "1d073c59",
   "metadata": {},
   "outputs": [],
   "source": [
    "import pandas as pd\n",
    "import os"
   ]
  },
  {
   "cell_type": "code",
   "execution_count": 8,
   "id": "e2cf1969",
   "metadata": {},
   "outputs": [],
   "source": [
    "fp = []\n",
    "case_id = []\n",
    "for split in os.listdir('./WSI/Infarct/'):\n",
    "    for case in os.listdir('./WSI/Infarct/'+split):\n",
    "        for file in os.listdir('./WSI/Infarct/'+split+'/'+case):\n",
    "            fp.append('./WSI/Infarct/'+split+'/'+case+'/'+file)\n",
    "            case_id.append(case)"
   ]
  },
  {
   "cell_type": "code",
   "execution_count": 9,
   "id": "6e63ade5",
   "metadata": {},
   "outputs": [],
   "source": [
    "d = {'fp': fp, 'case': case_id}\n",
    "df = pd.DataFrame(data=d)"
   ]
  },
  {
   "cell_type": "code",
   "execution_count": 10,
   "id": "b9bdc453",
   "metadata": {},
   "outputs": [
    {
     "data": {
      "text/plain": [
       "'./WSI/Infarct/training/NA5093-17_HE_pos/7431_neg.jpg'"
      ]
     },
     "execution_count": 10,
     "metadata": {},
     "output_type": "execute_result"
    }
   ],
   "source": [
    "df.iloc[1,0]"
   ]
  },
  {
   "cell_type": "code",
   "execution_count": null,
   "id": "fd3cd7cd",
   "metadata": {},
   "outputs": [],
   "source": [
    "df.to_csv('')"
   ]
  }
 ],
 "metadata": {
  "kernelspec": {
   "display_name": "Python 3",
   "language": "python",
   "name": "python3"
  },
  "language_info": {
   "codemirror_mode": {
    "name": "ipython",
    "version": 3
   },
   "file_extension": ".py",
   "mimetype": "text/x-python",
   "name": "python",
   "nbconvert_exporter": "python",
   "pygments_lexer": "ipython3",
   "version": "3.7.10"
  }
 },
 "nbformat": 4,
 "nbformat_minor": 5
}
