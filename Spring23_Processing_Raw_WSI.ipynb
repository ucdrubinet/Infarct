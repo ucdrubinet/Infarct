{
 "cells": [
  {
   "cell_type": "code",
   "execution_count": 1,
   "id": "0acb8eb9",
   "metadata": {},
   "outputs": [],
   "source": [
    "#Luca: We must tile all the WSI before proceeding with either segmentation or WSI-level. This notebook does the preprocessing \n",
    "\n",
    "\n",
    "#Segmentation Pipeline\n",
    "    # Tile\n",
    "    # Give tile name based on coordinate\n",
    "    # Extract polygon annotation\n",
    "    # Generate Masks based on Polygon Annotation\n",
    "    # Find BG using ../saved_models/patched_512_NewAnnotation+preprocess_ResNet18_Feb12.pt (in 224)\n",
    "    # Separate tiles into BG, Inf and Healthy folders\n",
    "    \n",
    "#WSI-level Pipeline\n",
    "    # Tile\n",
    "    # Remove BG tiles using ../saved_models/patched_512_NewAnnotation+preprocess_ResNet18_Feb12.pt (in 224)\n",
    "        # and name them sequentially\n"
   ]
  },
  {
   "cell_type": "code",
   "execution_count": 1,
   "id": "38979adf",
   "metadata": {},
   "outputs": [],
   "source": [
    "import os\n",
    "#import os.path\n",
    "import pandas as pd\n",
    "import glob\n",
    "import numpy as np\n",
    "import matplotlib.pyplot as plt\n",
    "import pyvips as Vips\n",
    "from tqdm import tqdm\n",
    "from utils import vips_utils, normalize\n",
    "from torchvision import transforms, utils\n",
    "import time\n",
    "import torchvision.models as models\n",
    "import torchvision.transforms.functional as TF\n",
    "import torch.nn.functional as F\n",
    "from PIL import Image, ImageFile\n",
    "import statistics\n",
    "from typing import Optional, Tuple\n",
    "import pylibczi\n",
    "from pylibczi import CziScene\n",
    "import czifile\n",
    "from czifile import CziFile \n",
    "import xml.etree.ElementTree as ET\n",
    "import argparse\n",
    "import gc \n",
    "import psutil\n",
    "import resource\n",
    "import platform\n",
    "import pickle\n",
    "import xmltodict\n",
    "import time\n",
    "import matplotlib.path as mpath\n",
    "from skimage.draw import polygon\n",
    "import cv2\n",
    "import copy\n",
    "import shutil\n",
    "\n",
    "import torch\n",
    "import random\n",
    "import torchvision\n",
    "import torch.nn as nn\n",
    "from skimage import io, transform\n",
    "\n"
   ]
  },
  {
   "cell_type": "code",
   "execution_count": 2,
   "id": "1475bd0e",
   "metadata": {},
   "outputs": [],
   "source": [
    "### PARAMETERS\n",
    "\n",
    "TILE_SIZE = 512\n",
    "\n",
    "WSI_DIR = '/cache/Inf_May23_dataset/'\n",
    "SAVE_DIR = '/cache/S23_Infarct/patched_'+str(TILE_SIZE)+'/'\n",
    "CZ_DIR = '/cache/S23_Infarct/annotation/'\n",
    "MASK_DIR = '/cache/S23_Infarct/masks/'\n",
    "\n",
    "SEGMENTATION_TILE_DIR = '/cache/S23_Infarct/seg_data_'+str(TILE_SIZE)+'/'\n",
    "WSI_TILE_DIR = '/cache/S23_Infarct/wsi_level_data_'+str(TILE_SIZE)+'/'\n",
    "\n",
    "tile_czi = True\n",
    "tile_svs = True"
   ]
  },
  {
   "cell_type": "code",
   "execution_count": 3,
   "id": "7dcb2c0f",
   "metadata": {},
   "outputs": [
    {
     "name": "stdout",
     "output_type": "stream",
     "text": [
      "Tile folder for WSI-level you provided us does not exist, being created now...\n",
      "Found WSI folder... \n",
      "All WSIs in wsi_dir: \n",
      "['NA-5029-16_HE.svs', 'NA-5029-17_HE.svs', 'NA-5029-18_HE.svs', 'NA5004-16_HE.svs', 'NA5004-17_HE.svs', 'NA5004-18_HE.svs', 'NA5007-16_HE.svs', 'NA5007-17_HE.svs', 'NA5007-18_HE.svs', 'NA5009-16_HE.svs', 'NA5009-17_HE.svs', 'NA5009-18_HE.svs', 'NA5031-16_HE.svs', 'NA5031-17_HE.svs', 'NA5031-18_HE.svs', 'NA5041-16_HE.svs', 'NA5041-17_HE.svs', 'NA5041-18_HE.svs', 'NA5045-16_HE.svs', 'NA5045-17_HE.svs', 'NA5045-18_HE.svs', 'NA5051-16_HE.czi', 'NA5051-17_HE.czi', 'NA5051-18_HE.czi', 'NA5057-16_HE.svs', 'NA5057-17_HE.svs', 'NA5057-18_HE.svs', 'NA5063-16_HE.czi', 'NA5063-17_HE.czi', 'NA5063-18_HE.czi', 'NA5077-16_HE.czi', 'NA5077-17_HE.czi', 'NA5077-18_HE.czi', 'NA5085-16_HE.czi', 'NA5085-17_HE.czi', 'NA5085-18_HE.czi', 'NA5089-16_HE.czi', 'NA5089-17_HE.czi', 'NA5089-18_HE.czi', 'NA5090-16_HE.czi', 'NA5090-17_HE.czi', 'NA5090-18_HE.czi', 'NA5091-16_HE.czi', 'NA5091-17_HE.czi', 'NA5091-18_HE.czi', 'NA5093-16_HE.czi', 'NA5093-17_HE.czi', 'NA5093-18_HE.czi', 'NA5095-16_HE.czi', 'NA5095-17_HE.czi', 'NA5095-18_HE.czi', 'NA5098-16_HE.czi', 'NA5098-17_HE.czi', 'NA5098-18_HE.czi', 'NA5114-16_HE.czi', 'NA5114-17_HE.czi', 'NA5114-18_HE.czi', 'NA5116-16_HE.czi', 'NA5116-17_HE.czi', 'NA5116-18_HE.czi', 'NA5137-16_HE.czi', 'NA5137-17_HE.czi', 'NA5137-18_HE.czi', 'NA5146-16_HE.svs', 'NA5146-17_HE.svs', 'NA5146-18_HE.svs', 'NA5161-16_HE.czi', 'NA5161-17_HE.czi', 'NA5161-18_HE.czi']\n"
     ]
    }
   ],
   "source": [
    "if not os.path.exists(WSI_DIR):\n",
    "    print(\"WSI folder does not exist, script should stop now\")\n",
    "else:\n",
    "    if not os.path.exists(SEGMENTATION_TILE_DIR):\n",
    "        print(\"Tile folder you provided us does not exist, being created now...\")\n",
    "        os.makedirs(SEGMENTATION_TILE_DIR)\n",
    "        \n",
    "    if not os.path.exists(WSI_TILE_DIR):\n",
    "        print(\"Tile folder for WSI-level you provided us does not exist, being created now...\")\n",
    "        os.makedirs(WSI_TILE_DIR)\n",
    "\n",
    "    if not os.path.exists(SAVE_DIR):\n",
    "        print(\"Tile folder you provided us does not exist, being created now...\")\n",
    "        os.makedirs(SAVE_DIR)\n",
    "\n",
    "    if not os.path.exists(CZ_DIR):\n",
    "        print(\"Annotation folder you provided us does not exist, being created now...\")\n",
    "        os.makedirs(CZ_DIR)\n",
    "\n",
    "    if not os.path.exists(MASK_DIR):\n",
    "        print(\"Mask folder you provided us does not exist, being created now...\")\n",
    "        os.makedirs(MASK_DIR)\n",
    "\n",
    "    print(\"Found WSI folder... \")\n",
    "    wsi_slides = os.listdir(WSI_DIR)\n",
    "    imagenames = sorted(wsi_slides)\n",
    "    print(\"All WSIs in wsi_dir: \")\n",
    "    print(imagenames)"
   ]
  },
  {
   "cell_type": "code",
   "execution_count": 5,
   "id": "3e91adac",
   "metadata": {},
   "outputs": [
    {
     "name": "stdout",
     "output_type": "stream",
     "text": [
      "Starting tiling....\n"
     ]
    },
    {
     "name": "stderr",
     "output_type": "stream",
     "text": [
      "  0%|          | 0/69 [00:00<?, ?it/s]"
     ]
    },
    {
     "name": "stdout",
     "output_type": "stream",
     "text": [
      "Loading NA-5029-16_HE.svs  ......\n",
      "Pre resize:  34033 x 45816\n",
      "Resizing small case\n",
      "Post resize:  68066 x 91632\n",
      "Loaded Image: /cache/Inf_May23_dataset/NA-5029-16_HE.svs\n",
      "/cache/S23_Infarct/patched_512/NA-5029-16_HE\n"
     ]
    },
    {
     "name": "stderr",
     "output_type": "stream",
     "text": [
      "  1%|▏         | 1/69 [01:13<1:22:47, 73.05s/it]"
     ]
    },
    {
     "name": "stdout",
     "output_type": "stream",
     "text": [
      "Done Tiling:  /cache/Inf_May23_dataset/NA-5029-16_HE.svs\n",
      "processed in  73.0525529384613  seconds\n",
      "____________________________________________\n",
      "Loading NA-5029-17_HE.svs  ......\n",
      "Pre resize:  33509 x 53784\n",
      "Resizing small case\n",
      "Post resize:  67018 x 107568\n",
      "Loaded Image: /cache/Inf_May23_dataset/NA-5029-17_HE.svs\n",
      "/cache/S23_Infarct/patched_512/NA-5029-17_HE\n"
     ]
    },
    {
     "name": "stderr",
     "output_type": "stream",
     "text": [
      "  3%|▎         | 2/69 [02:37<1:29:10, 79.85s/it]"
     ]
    },
    {
     "name": "stdout",
     "output_type": "stream",
     "text": [
      "Done Tiling:  /cache/Inf_May23_dataset/NA-5029-17_HE.svs\n",
      "processed in  84.61224961280823  seconds\n",
      "____________________________________________\n",
      "Loading NA-5029-18_HE.svs  ......\n",
      "Pre resize:  41428 x 47808\n",
      "Resizing small case\n",
      "Post resize:  82856 x 95616\n",
      "Loaded Image: /cache/Inf_May23_dataset/NA-5029-18_HE.svs\n",
      "/cache/S23_Infarct/patched_512/NA-5029-18_HE\n"
     ]
    },
    {
     "name": "stderr",
     "output_type": "stream",
     "text": [
      "  4%|▍         | 3/69 [04:08<1:33:06, 84.64s/it]"
     ]
    },
    {
     "name": "stdout",
     "output_type": "stream",
     "text": [
      "Done Tiling:  /cache/Inf_May23_dataset/NA-5029-18_HE.svs\n",
      "processed in  90.33986592292786  seconds\n",
      "____________________________________________\n",
      "Loading NA5004-16_HE.svs  ......\n",
      "Pre resize:  32738 x 43824\n",
      "Resizing small case\n",
      "Post resize:  65476 x 87648\n",
      "Loaded Image: /cache/Inf_May23_dataset/NA5004-16_HE.svs\n",
      "/cache/S23_Infarct/patched_512/NA5004-16_HE\n"
     ]
    },
    {
     "name": "stderr",
     "output_type": "stream",
     "text": [
      "  6%|▌         | 4/69 [05:15<1:24:20, 77.85s/it]"
     ]
    },
    {
     "name": "stdout",
     "output_type": "stream",
     "text": [
      "Done Tiling:  /cache/Inf_May23_dataset/NA5004-16_HE.svs\n",
      "processed in  67.43946599960327  seconds\n",
      "____________________________________________\n",
      "Loading NA5004-17_HE.svs  ......\n",
      "Pre resize:  38781 x 37848\n",
      "Resizing small case\n",
      "Post resize:  77562 x 75696\n",
      "Loaded Image: /cache/Inf_May23_dataset/NA5004-17_HE.svs\n",
      "/cache/S23_Infarct/patched_512/NA5004-17_HE\n"
     ]
    },
    {
     "name": "stderr",
     "output_type": "stream",
     "text": [
      "  7%|▋         | 5/69 [06:22<1:18:58, 74.04s/it]"
     ]
    },
    {
     "name": "stdout",
     "output_type": "stream",
     "text": [
      "Done Tiling:  /cache/Inf_May23_dataset/NA5004-17_HE.svs\n",
      "processed in  67.27084422111511  seconds\n",
      "____________________________________________\n",
      "Loading NA5004-18_HE.svs  ......\n",
      "Pre resize:  25985 x 43824\n",
      "Resizing small case\n",
      "Post resize:  51970 x 87648\n",
      "Loaded Image: /cache/Inf_May23_dataset/NA5004-18_HE.svs\n",
      "/cache/S23_Infarct/patched_512/NA5004-18_HE\n"
     ]
    },
    {
     "name": "stderr",
     "output_type": "stream",
     "text": [
      "  9%|▊         | 6/69 [07:16<1:10:21, 67.00s/it]"
     ]
    },
    {
     "name": "stdout",
     "output_type": "stream",
     "text": [
      "Done Tiling:  /cache/Inf_May23_dataset/NA5004-18_HE.svs\n",
      "processed in  53.34234619140625  seconds\n",
      "____________________________________________\n",
      "Loading NA5007-16_HE.svs  ......\n",
      "Pre resize:  31271 x 45816\n",
      "Resizing small case\n",
      "Post resize:  62542 x 91632\n",
      "Loaded Image: /cache/Inf_May23_dataset/NA5007-16_HE.svs\n",
      "/cache/S23_Infarct/patched_512/NA5007-16_HE\n"
     ]
    },
    {
     "name": "stderr",
     "output_type": "stream",
     "text": [
      " 10%|█         | 7/69 [08:22<1:08:58, 66.75s/it]"
     ]
    },
    {
     "name": "stdout",
     "output_type": "stream",
     "text": [
      "Done Tiling:  /cache/Inf_May23_dataset/NA5007-16_HE.svs\n",
      "processed in  66.22521376609802  seconds\n",
      "____________________________________________\n",
      "Loading NA5007-17_HE.svs  ......\n",
      "Pre resize:  35906 x 45816\n",
      "Resizing small case\n",
      "Post resize:  71812 x 91632\n",
      "Loaded Image: /cache/Inf_May23_dataset/NA5007-17_HE.svs\n",
      "/cache/S23_Infarct/patched_512/NA5007-17_HE\n"
     ]
    },
    {
     "name": "stderr",
     "output_type": "stream",
     "text": [
      " 12%|█▏        | 8/69 [09:38<1:10:57, 69.79s/it]"
     ]
    },
    {
     "name": "stdout",
     "output_type": "stream",
     "text": [
      "Done Tiling:  /cache/Inf_May23_dataset/NA5007-17_HE.svs\n",
      "processed in  76.29296875  seconds\n",
      "____________________________________________\n",
      "Loading NA5007-18_HE.svs  ......\n",
      "Pre resize:  32734 x 45816\n",
      "Resizing small case\n",
      "Post resize:  65468 x 91632\n",
      "Loaded Image: /cache/Inf_May23_dataset/NA5007-18_HE.svs\n",
      "/cache/S23_Infarct/patched_512/NA5007-18_HE\n"
     ]
    },
    {
     "name": "stderr",
     "output_type": "stream",
     "text": [
      " 13%|█▎        | 9/69 [10:50<1:10:18, 70.32s/it]"
     ]
    },
    {
     "name": "stdout",
     "output_type": "stream",
     "text": [
      "Done Tiling:  /cache/Inf_May23_dataset/NA5007-18_HE.svs\n",
      "processed in  71.47823810577393  seconds\n",
      "____________________________________________\n",
      "Loading NA5009-16_HE.svs  ......\n",
      "Pre resize:  76304 x 63743\n",
      "Post resize:  76304 x 63743\n",
      "Loaded Image: /cache/Inf_May23_dataset/NA5009-16_HE.svs\n",
      "/cache/S23_Infarct/patched_512/NA5009-16_HE\n"
     ]
    },
    {
     "name": "stderr",
     "output_type": "stream",
     "text": [
      " 14%|█▍        | 10/69 [11:48<1:05:25, 66.54s/it]"
     ]
    },
    {
     "name": "stdout",
     "output_type": "stream",
     "text": [
      "Done Tiling:  /cache/Inf_May23_dataset/NA5009-16_HE.svs\n",
      "processed in  58.076857805252075  seconds\n",
      "____________________________________________\n",
      "Loading NA5009-17_HE.svs  ......\n",
      "Pre resize:  73791 x 83663\n",
      "Post resize:  73791 x 83663\n",
      "Loaded Image: /cache/Inf_May23_dataset/NA5009-17_HE.svs\n",
      "/cache/S23_Infarct/patched_512/NA5009-17_HE\n"
     ]
    },
    {
     "name": "stderr",
     "output_type": "stream",
     "text": [
      " 16%|█▌        | 11/69 [13:02<1:06:32, 68.84s/it]"
     ]
    },
    {
     "name": "stdout",
     "output_type": "stream",
     "text": [
      "Done Tiling:  /cache/Inf_May23_dataset/NA5009-17_HE.svs\n",
      "processed in  74.05102014541626  seconds\n",
      "____________________________________________\n",
      "Loading NA5009-18_HE.svs  ......\n",
      "Pre resize:  62183 x 67727\n",
      "Post resize:  62183 x 67727\n",
      "Loaded Image: /cache/Inf_May23_dataset/NA5009-18_HE.svs\n",
      "/cache/S23_Infarct/patched_512/NA5009-18_HE\n"
     ]
    },
    {
     "name": "stderr",
     "output_type": "stream",
     "text": [
      " 17%|█▋        | 12/69 [13:53<1:00:21, 63.53s/it]"
     ]
    },
    {
     "name": "stdout",
     "output_type": "stream",
     "text": [
      "Done Tiling:  /cache/Inf_May23_dataset/NA5009-18_HE.svs\n",
      "processed in  51.38315010070801  seconds\n",
      "____________________________________________\n",
      "Loading NA5031-16_HE.svs  ......\n",
      "Pre resize:  39219 x 49800\n",
      "Resizing small case\n",
      "Post resize:  78438 x 99600\n",
      "Loaded Image: /cache/Inf_May23_dataset/NA5031-16_HE.svs\n",
      "/cache/S23_Infarct/patched_512/NA5031-16_HE\n"
     ]
    },
    {
     "name": "stderr",
     "output_type": "stream",
     "text": [
      " 19%|█▉        | 13/69 [15:26<1:07:43, 72.57s/it]"
     ]
    },
    {
     "name": "stdout",
     "output_type": "stream",
     "text": [
      "Done Tiling:  /cache/Inf_May23_dataset/NA5031-16_HE.svs\n",
      "processed in  93.36549115180969  seconds\n",
      "____________________________________________\n",
      "Loading NA5031-17_HE.svs  ......\n",
      "Pre resize:  40448 x 47808\n",
      "Resizing small case\n",
      "Post resize:  80896 x 95616\n",
      "Loaded Image: /cache/Inf_May23_dataset/NA5031-17_HE.svs\n",
      "/cache/S23_Infarct/patched_512/NA5031-17_HE\n"
     ]
    },
    {
     "name": "stderr",
     "output_type": "stream",
     "text": [
      " 20%|██        | 14/69 [16:58<1:11:49, 78.35s/it]"
     ]
    },
    {
     "name": "stdout",
     "output_type": "stream",
     "text": [
      "Done Tiling:  /cache/Inf_May23_dataset/NA5031-17_HE.svs\n",
      "processed in  91.70992636680603  seconds\n",
      "____________________________________________\n",
      "Loading NA5031-18_HE.svs  ......\n",
      "Pre resize:  39322 x 45816\n",
      "Resizing small case\n",
      "Post resize:  78644 x 91632\n",
      "Loaded Image: /cache/Inf_May23_dataset/NA5031-18_HE.svs\n",
      "/cache/S23_Infarct/patched_512/NA5031-18_HE\n"
     ]
    },
    {
     "name": "stderr",
     "output_type": "stream",
     "text": [
      " 22%|██▏       | 15/69 [18:22<1:12:03, 80.06s/it]"
     ]
    },
    {
     "name": "stdout",
     "output_type": "stream",
     "text": [
      "Done Tiling:  /cache/Inf_May23_dataset/NA5031-18_HE.svs\n",
      "processed in  84.0335648059845  seconds\n",
      "____________________________________________\n",
      "Loading NA5041-16_HE.svs  ......\n",
      "Pre resize:  39803 x 47808\n",
      "Resizing small case\n",
      "Post resize:  79606 x 95616\n",
      "Loaded Image: /cache/Inf_May23_dataset/NA5041-16_HE.svs\n",
      "/cache/S23_Infarct/patched_512/NA5041-16_HE\n"
     ]
    },
    {
     "name": "stderr",
     "output_type": "stream",
     "text": [
      " 23%|██▎       | 16/69 [19:53<1:13:29, 83.21s/it]"
     ]
    },
    {
     "name": "stdout",
     "output_type": "stream",
     "text": [
      "Done Tiling:  /cache/Inf_May23_dataset/NA5041-16_HE.svs\n",
      "processed in  90.50665259361267  seconds\n",
      "____________________________________________\n",
      "Loading NA5041-17_HE.svs  ......\n",
      "Pre resize:  41872 x 57768\n",
      "Resizing small case\n",
      "Post resize:  83744 x 115536\n",
      "Loaded Image: /cache/Inf_May23_dataset/NA5041-17_HE.svs\n",
      "/cache/S23_Infarct/patched_512/NA5041-17_HE\n"
     ]
    },
    {
     "name": "stderr",
     "output_type": "stream",
     "text": [
      " 25%|██▍       | 17/69 [21:46<1:19:58, 92.27s/it]"
     ]
    },
    {
     "name": "stdout",
     "output_type": "stream",
     "text": [
      "Done Tiling:  /cache/Inf_May23_dataset/NA5041-17_HE.svs\n",
      "processed in  113.3499801158905  seconds\n",
      "____________________________________________\n",
      "Loading NA5041-18_HE.svs  ......\n",
      "Pre resize:  29973 x 43824\n",
      "Resizing small case\n",
      "Post resize:  59946 x 87648\n",
      "Loaded Image: /cache/Inf_May23_dataset/NA5041-18_HE.svs\n",
      "/cache/S23_Infarct/patched_512/NA5041-18_HE\n"
     ]
    },
    {
     "name": "stderr",
     "output_type": "stream",
     "text": [
      " 26%|██▌       | 18/69 [22:48<1:10:42, 83.18s/it]"
     ]
    },
    {
     "name": "stdout",
     "output_type": "stream",
     "text": [
      "Done Tiling:  /cache/Inf_May23_dataset/NA5041-18_HE.svs\n",
      "processed in  62.02910351753235  seconds\n",
      "____________________________________________\n",
      "Loading NA5045-16_HE.svs  ......\n",
      "Pre resize:  32977 x 45816\n",
      "Resizing small case\n",
      "Post resize:  65954 x 91632\n",
      "Loaded Image: /cache/Inf_May23_dataset/NA5045-16_HE.svs\n",
      "/cache/S23_Infarct/patched_512/NA5045-16_HE\n"
     ]
    },
    {
     "name": "stderr",
     "output_type": "stream",
     "text": [
      " 28%|██▊       | 19/69 [24:00<1:06:29, 79.79s/it]"
     ]
    },
    {
     "name": "stdout",
     "output_type": "stream",
     "text": [
      "Done Tiling:  /cache/Inf_May23_dataset/NA5045-16_HE.svs\n",
      "processed in  71.88495087623596  seconds\n",
      "____________________________________________\n",
      "Loading NA5045-17_HE.svs  ......\n",
      "Pre resize:  40773 x 47808\n",
      "Resizing small case\n",
      "Post resize:  81546 x 95616\n",
      "Loaded Image: /cache/Inf_May23_dataset/NA5045-17_HE.svs\n",
      "/cache/S23_Infarct/patched_512/NA5045-17_HE\n"
     ]
    },
    {
     "name": "stderr",
     "output_type": "stream",
     "text": [
      " 29%|██▉       | 20/69 [25:32<1:08:14, 83.57s/it]"
     ]
    },
    {
     "name": "stdout",
     "output_type": "stream",
     "text": [
      "Done Tiling:  /cache/Inf_May23_dataset/NA5045-17_HE.svs\n",
      "processed in  92.37596726417542  seconds\n",
      "____________________________________________\n",
      "Loading NA5045-18_HE.svs  ......\n",
      "Pre resize:  28975 x 49800\n",
      "Resizing small case\n",
      "Post resize:  57950 x 99600\n",
      "Loaded Image: /cache/Inf_May23_dataset/NA5045-18_HE.svs\n",
      "/cache/S23_Infarct/patched_512/NA5045-18_HE\n"
     ]
    },
    {
     "name": "stderr",
     "output_type": "stream",
     "text": [
      " 30%|███       | 21/69 [26:41<1:03:16, 79.08s/it]"
     ]
    },
    {
     "name": "stdout",
     "output_type": "stream",
     "text": [
      "Done Tiling:  /cache/Inf_May23_dataset/NA5045-18_HE.svs\n",
      "processed in  68.62402391433716  seconds\n",
      "____________________________________________\n",
      "Loading NA5051-16_HE.czi  ......\n",
      "Loaded Image: /cache/Inf_May23_dataset/NA5051-16_HE.czi\n",
      "Pre resize:  82132 x 102470\n",
      "/cache/S23_Infarct/patched_512/NA5051-16_HE\n"
     ]
    },
    {
     "name": "stderr",
     "output_type": "stream",
     "text": [
      " 32%|███▏      | 22/69 [28:09<1:04:04, 81.81s/it]"
     ]
    },
    {
     "name": "stdout",
     "output_type": "stream",
     "text": [
      "Done Tiling:  /cache/Inf_May23_dataset/NA5051-16_HE.czi\n",
      "Finish Delete /cache/Inf_May23_dataset/NA5051-16_HE.czi\n",
      "processed in  88.15199732780457  seconds\n",
      "____________________________________________\n",
      "Loading NA5051-17_HE.czi  ......\n",
      "Loaded Image: /cache/Inf_May23_dataset/NA5051-17_HE.czi\n",
      "Pre resize:  102539 x 112542\n",
      "/cache/S23_Infarct/patched_512/NA5051-17_HE\n"
     ]
    },
    {
     "name": "stderr",
     "output_type": "stream",
     "text": [
      " 33%|███▎      | 23/69 [30:08<1:11:08, 92.79s/it]"
     ]
    },
    {
     "name": "stdout",
     "output_type": "stream",
     "text": [
      "Done Tiling:  /cache/Inf_May23_dataset/NA5051-17_HE.czi\n",
      "Finish Delete /cache/Inf_May23_dataset/NA5051-17_HE.czi\n",
      "processed in  118.41663956642151  seconds\n",
      "____________________________________________\n",
      "Loading NA5051-18_HE.czi  ......\n",
      "Loaded Image: /cache/Inf_May23_dataset/NA5051-18_HE.czi\n",
      "Pre resize:  65974 x 76534\n",
      "/cache/S23_Infarct/patched_512/NA5051-18_HE\n"
     ]
    },
    {
     "name": "stderr",
     "output_type": "stream",
     "text": [
      " 35%|███▍      | 24/69 [31:03<1:01:12, 81.60s/it]"
     ]
    },
    {
     "name": "stdout",
     "output_type": "stream",
     "text": [
      "Done Tiling:  /cache/Inf_May23_dataset/NA5051-18_HE.czi\n",
      "Finish Delete /cache/Inf_May23_dataset/NA5051-18_HE.czi\n",
      "processed in  55.49828553199768  seconds\n",
      "____________________________________________\n",
      "Loading NA5057-16_HE.svs  ......\n",
      "Pre resize:  32243 x 45816\n",
      "Resizing small case\n",
      "Post resize:  64486 x 91632\n",
      "Loaded Image: /cache/Inf_May23_dataset/NA5057-16_HE.svs\n",
      "/cache/S23_Infarct/patched_512/NA5057-16_HE\n"
     ]
    },
    {
     "name": "stderr",
     "output_type": "stream",
     "text": [
      " 36%|███▌      | 25/69 [32:12<57:04, 77.84s/it]  "
     ]
    },
    {
     "name": "stdout",
     "output_type": "stream",
     "text": [
      "Done Tiling:  /cache/Inf_May23_dataset/NA5057-16_HE.svs\n",
      "processed in  69.04982590675354  seconds\n",
      "____________________________________________\n",
      "Loading NA5057-17_HE.svs  ......\n",
      "Pre resize:  38022 x 45816\n",
      "Resizing small case\n",
      "Post resize:  76044 x 91632\n",
      "Loaded Image: /cache/Inf_May23_dataset/NA5057-17_HE.svs\n",
      "/cache/S23_Infarct/patched_512/NA5057-17_HE\n"
     ]
    },
    {
     "name": "stderr",
     "output_type": "stream",
     "text": [
      " 38%|███▊      | 26/69 [33:34<56:39, 79.06s/it]"
     ]
    },
    {
     "name": "stdout",
     "output_type": "stream",
     "text": [
      "Done Tiling:  /cache/Inf_May23_dataset/NA5057-17_HE.svs\n",
      "processed in  81.90738677978516  seconds\n",
      "____________________________________________\n",
      "Loading NA5057-18_HE.svs  ......\n",
      "Pre resize:  35798 x 31872\n",
      "Resizing small case\n",
      "Post resize:  71596 x 63744\n",
      "Loaded Image: /cache/Inf_May23_dataset/NA5057-18_HE.svs\n",
      "/cache/S23_Infarct/patched_512/NA5057-18_HE\n"
     ]
    },
    {
     "name": "stderr",
     "output_type": "stream",
     "text": [
      " 39%|███▉      | 27/69 [34:28<50:05, 71.55s/it]"
     ]
    },
    {
     "name": "stdout",
     "output_type": "stream",
     "text": [
      "Done Tiling:  /cache/Inf_May23_dataset/NA5057-18_HE.svs\n",
      "processed in  54.03426742553711  seconds\n",
      "____________________________________________\n",
      "Loading NA5063-16_HE.czi  ......\n",
      "Loaded Image: /cache/Inf_May23_dataset/NA5063-16_HE.czi\n",
      "Pre resize:  78883 x 102452\n",
      "/cache/S23_Infarct/patched_512/NA5063-16_HE\n"
     ]
    },
    {
     "name": "stderr",
     "output_type": "stream",
     "text": [
      " 41%|████      | 28/69 [35:51<51:17, 75.05s/it]"
     ]
    },
    {
     "name": "stdout",
     "output_type": "stream",
     "text": [
      "Done Tiling:  /cache/Inf_May23_dataset/NA5063-16_HE.czi\n",
      "Finish Delete /cache/Inf_May23_dataset/NA5063-16_HE.czi\n",
      "processed in  83.21706819534302  seconds\n",
      "____________________________________________\n",
      "Loading NA5063-17_HE.czi  ......\n",
      "Loaded Image: /cache/Inf_May23_dataset/NA5063-17_HE.czi\n",
      "Pre resize:  86400 x 92365\n",
      "/cache/S23_Infarct/patched_512/NA5063-17_HE\n"
     ]
    },
    {
     "name": "stderr",
     "output_type": "stream",
     "text": [
      " 42%|████▏     | 29/69 [37:19<52:28, 78.71s/it]"
     ]
    },
    {
     "name": "stdout",
     "output_type": "stream",
     "text": [
      "Done Tiling:  /cache/Inf_May23_dataset/NA5063-17_HE.czi\n",
      "Finish Delete /cache/Inf_May23_dataset/NA5063-17_HE.czi\n",
      "processed in  87.25541257858276  seconds\n",
      "____________________________________________\n",
      "Loading NA5063-18_HE.czi  ......\n",
      "Loaded Image: /cache/Inf_May23_dataset/NA5063-18_HE.czi\n",
      "Pre resize:  71310 x 69312\n",
      "/cache/S23_Infarct/patched_512/NA5063-18_HE\n"
     ]
    },
    {
     "name": "stderr",
     "output_type": "stream",
     "text": [
      " 43%|████▎     | 30/69 [38:10<45:52, 70.57s/it]"
     ]
    },
    {
     "name": "stdout",
     "output_type": "stream",
     "text": [
      "Done Tiling:  /cache/Inf_May23_dataset/NA5063-18_HE.czi\n",
      "Finish Delete /cache/Inf_May23_dataset/NA5063-18_HE.czi\n",
      "processed in  51.55607485771179  seconds\n",
      "____________________________________________\n",
      "Loading NA5077-16_HE.czi  ......\n",
      "Loaded Image: /cache/Inf_May23_dataset/NA5077-16_HE.czi\n",
      "Pre resize:  75664 x 83725\n",
      "/cache/S23_Infarct/patched_512/NA5077-16_HE\n"
     ]
    },
    {
     "name": "stderr",
     "output_type": "stream",
     "text": [
      " 45%|████▍     | 31/69 [39:20<44:39, 70.50s/it]"
     ]
    },
    {
     "name": "stdout",
     "output_type": "stream",
     "text": [
      "Done Tiling:  /cache/Inf_May23_dataset/NA5077-16_HE.czi\n",
      "Finish Delete /cache/Inf_May23_dataset/NA5077-16_HE.czi\n",
      "processed in  70.35215616226196  seconds\n",
      "____________________________________________\n",
      "Loading NA5077-17_HE.czi  ......\n",
      "Loaded Image: /cache/Inf_May23_dataset/NA5077-17_HE.czi\n",
      "Pre resize:  75664 x 118281\n",
      "/cache/S23_Infarct/patched_512/NA5077-17_HE\n"
     ]
    },
    {
     "name": "stderr",
     "output_type": "stream",
     "text": [
      " 46%|████▋     | 32/69 [40:48<46:38, 75.64s/it]"
     ]
    },
    {
     "name": "stdout",
     "output_type": "stream",
     "text": [
      "Done Tiling:  /cache/Inf_May23_dataset/NA5077-17_HE.czi\n",
      "Finish Delete /cache/Inf_May23_dataset/NA5077-17_HE.czi\n",
      "processed in  87.61565971374512  seconds\n",
      "____________________________________________\n",
      "Loading NA5077-18_HE.czi  ......\n",
      "Loaded Image: /cache/Inf_May23_dataset/NA5077-18_HE.czi\n",
      "Pre resize:  81060 x 86659\n",
      "/cache/S23_Infarct/patched_512/NA5077-18_HE\n"
     ]
    },
    {
     "name": "stderr",
     "output_type": "stream",
     "text": [
      " 48%|████▊     | 33/69 [42:00<44:47, 74.65s/it]"
     ]
    },
    {
     "name": "stdout",
     "output_type": "stream",
     "text": [
      "Done Tiling:  /cache/Inf_May23_dataset/NA5077-18_HE.czi\n",
      "Finish Delete /cache/Inf_May23_dataset/NA5077-18_HE.czi\n",
      "processed in  72.3484902381897  seconds\n",
      "____________________________________________\n",
      "Loading NA5085-16_HE.czi  ......\n",
      "Loaded Image: /cache/Inf_May23_dataset/NA5085-16_HE.czi\n",
      "Pre resize:  78923 x 124053\n",
      "/cache/S23_Infarct/patched_512/NA5085-16_HE\n"
     ]
    },
    {
     "name": "stderr",
     "output_type": "stream",
     "text": [
      " 49%|████▉     | 34/69 [43:37<47:20, 81.16s/it]"
     ]
    },
    {
     "name": "stdout",
     "output_type": "stream",
     "text": [
      "Done Tiling:  /cache/Inf_May23_dataset/NA5085-16_HE.czi\n",
      "Finish Delete /cache/Inf_May23_dataset/NA5085-16_HE.czi\n",
      "processed in  96.36086177825928  seconds\n",
      "____________________________________________\n",
      "Loading NA5085-17_HE.czi  ......\n",
      "Loaded Image: /cache/Inf_May23_dataset/NA5085-17_HE.czi\n",
      "Pre resize:  88615 x 132743\n",
      "/cache/S23_Infarct/patched_512/NA5085-17_HE\n"
     ]
    },
    {
     "name": "stderr",
     "output_type": "stream",
     "text": [
      " 51%|█████     | 35/69 [45:40<53:04, 93.66s/it]"
     ]
    },
    {
     "name": "stdout",
     "output_type": "stream",
     "text": [
      "Done Tiling:  /cache/Inf_May23_dataset/NA5085-17_HE.czi\n",
      "Finish Delete /cache/Inf_May23_dataset/NA5085-17_HE.czi\n",
      "processed in  122.83016061782837  seconds\n",
      "____________________________________________\n",
      "Loading NA5085-18_HE.czi  ......\n",
      "Loaded Image: /cache/Inf_May23_dataset/NA5085-18_HE.czi\n",
      "Pre resize:  75675 x 89507\n",
      "/cache/S23_Infarct/patched_512/NA5085-18_HE\n"
     ]
    },
    {
     "name": "stderr",
     "output_type": "stream",
     "text": [
      " 52%|█████▏    | 36/69 [46:51<47:51, 87.02s/it]"
     ]
    },
    {
     "name": "stdout",
     "output_type": "stream",
     "text": [
      "Done Tiling:  /cache/Inf_May23_dataset/NA5085-18_HE.czi\n",
      "Finish Delete /cache/Inf_May23_dataset/NA5085-18_HE.czi\n",
      "processed in  71.53025698661804  seconds\n",
      "____________________________________________\n",
      "Loading NA5089-16_HE.czi  ......\n",
      "Loaded Image: /cache/Inf_May23_dataset/NA5089-16_HE.czi\n",
      "Pre resize:  77787 x 105331\n",
      "/cache/S23_Infarct/patched_512/NA5089-16_HE\n"
     ]
    },
    {
     "name": "stderr",
     "output_type": "stream",
     "text": [
      " 54%|█████▎    | 37/69 [48:18<46:26, 87.09s/it]"
     ]
    },
    {
     "name": "stdout",
     "output_type": "stream",
     "text": [
      "Done Tiling:  /cache/Inf_May23_dataset/NA5089-16_HE.czi\n",
      "Finish Delete /cache/Inf_May23_dataset/NA5089-16_HE.czi\n",
      "processed in  87.22399234771729  seconds\n",
      "____________________________________________\n",
      "Loading NA5089-17_HE.czi  ......\n",
      "Loaded Image: /cache/Inf_May23_dataset/NA5089-17_HE.czi\n",
      "Pre resize:  83221 x 125462\n",
      "/cache/S23_Infarct/patched_512/NA5089-17_HE\n"
     ]
    },
    {
     "name": "stderr",
     "output_type": "stream",
     "text": [
      " 55%|█████▌    | 38/69 [50:06<48:13, 93.33s/it]"
     ]
    },
    {
     "name": "stdout",
     "output_type": "stream",
     "text": [
      "Done Tiling:  /cache/Inf_May23_dataset/NA5089-17_HE.czi\n",
      "Finish Delete /cache/Inf_May23_dataset/NA5089-17_HE.czi\n",
      "processed in  107.89422249794006  seconds\n",
      "____________________________________________\n",
      "Loading NA5089-18_HE.czi  ......\n",
      "Loaded Image: /cache/Inf_May23_dataset/NA5089-18_HE.czi\n",
      "Pre resize:  92921 x 86686\n",
      "/cache/S23_Infarct/patched_512/NA5089-18_HE\n"
     ]
    },
    {
     "name": "stderr",
     "output_type": "stream",
     "text": [
      " 57%|█████▋    | 39/69 [51:26<44:38, 89.27s/it]"
     ]
    },
    {
     "name": "stdout",
     "output_type": "stream",
     "text": [
      "Done Tiling:  /cache/Inf_May23_dataset/NA5089-18_HE.czi\n",
      "Finish Delete /cache/Inf_May23_dataset/NA5089-18_HE.czi\n",
      "processed in  79.81149768829346  seconds\n",
      "____________________________________________\n",
      "Loading NA5090-16_HE.czi  ......\n",
      "Loaded Image: /cache/Inf_May23_dataset/NA5090-16_HE.czi\n",
      "Pre resize:  70268 x 82356\n",
      "/cache/S23_Infarct/patched_512/NA5090-16_HE\n"
     ]
    },
    {
     "name": "stderr",
     "output_type": "stream",
     "text": [
      " 58%|█████▊    | 40/69 [52:27<39:03, 80.82s/it]"
     ]
    },
    {
     "name": "stdout",
     "output_type": "stream",
     "text": [
      "Done Tiling:  /cache/Inf_May23_dataset/NA5090-16_HE.czi\n",
      "Finish Delete /cache/Inf_May23_dataset/NA5090-16_HE.czi\n",
      "processed in  61.08108735084534  seconds\n",
      "____________________________________________\n",
      "Loading NA5090-17_HE.czi  ......\n",
      "Loaded Image: /cache/Inf_May23_dataset/NA5090-17_HE.czi\n",
      "Pre resize:  97250 x 102463\n",
      "/cache/S23_Infarct/patched_512/NA5090-17_HE\n"
     ]
    },
    {
     "name": "stderr",
     "output_type": "stream",
     "text": [
      " 59%|█████▉    | 41/69 [54:15<41:25, 88.78s/it]"
     ]
    },
    {
     "name": "stdout",
     "output_type": "stream",
     "text": [
      "Done Tiling:  /cache/Inf_May23_dataset/NA5090-17_HE.czi\n",
      "Finish Delete /cache/Inf_May23_dataset/NA5090-17_HE.czi\n",
      "processed in  107.36684322357178  seconds\n",
      "____________________________________________\n",
      "Loading NA5090-18_HE.czi  ......\n",
      "Loaded Image: /cache/Inf_May23_dataset/NA5090-18_HE.czi\n",
      "Pre resize:  77820 x 85200\n",
      "/cache/S23_Infarct/patched_512/NA5090-18_HE\n"
     ]
    },
    {
     "name": "stderr",
     "output_type": "stream",
     "text": [
      " 61%|██████    | 42/69 [55:19<36:38, 81.42s/it]"
     ]
    },
    {
     "name": "stdout",
     "output_type": "stream",
     "text": [
      "Done Tiling:  /cache/Inf_May23_dataset/NA5090-18_HE.czi\n",
      "Finish Delete /cache/Inf_May23_dataset/NA5090-18_HE.czi\n",
      "processed in  64.23906230926514  seconds\n",
      "____________________________________________\n",
      "Loading NA5091-16_HE.czi  ......\n",
      "Loaded Image: /cache/Inf_May23_dataset/NA5091-16_HE.czi\n",
      "Pre resize:  69180 x 93850\n",
      "/cache/S23_Infarct/patched_512/NA5091-16_HE\n"
     ]
    },
    {
     "name": "stderr",
     "output_type": "stream",
     "text": [
      " 62%|██████▏   | 43/69 [56:28<33:42, 77.78s/it]"
     ]
    },
    {
     "name": "stdout",
     "output_type": "stream",
     "text": [
      "Done Tiling:  /cache/Inf_May23_dataset/NA5091-16_HE.czi\n",
      "Finish Delete /cache/Inf_May23_dataset/NA5091-16_HE.czi\n",
      "processed in  69.28714108467102  seconds\n",
      "____________________________________________\n",
      "Loading NA5091-17_HE.czi  ......\n",
      "Loaded Image: /cache/Inf_May23_dataset/NA5091-17_HE.czi\n",
      "Pre resize:  103704 x 124124\n",
      "/cache/S23_Infarct/patched_512/NA5091-17_HE\n"
     ]
    },
    {
     "name": "stderr",
     "output_type": "stream",
     "text": [
      " 64%|██████▍   | 44/69 [58:39<39:02, 93.68s/it]"
     ]
    },
    {
     "name": "stdout",
     "output_type": "stream",
     "text": [
      "Done Tiling:  /cache/Inf_May23_dataset/NA5091-17_HE.czi\n",
      "Finish Delete /cache/Inf_May23_dataset/NA5091-17_HE.czi\n",
      "processed in  130.78157448768616  seconds\n",
      "____________________________________________\n",
      "Loading NA5091-18_HE.czi  ......\n",
      "Loaded Image: /cache/Inf_May23_dataset/NA5091-18_HE.czi\n",
      "Pre resize:  71312 x 83719\n",
      "/cache/S23_Infarct/patched_512/NA5091-18_HE\n"
     ]
    },
    {
     "name": "stderr",
     "output_type": "stream",
     "text": [
      " 65%|██████▌   | 45/69 [59:38<33:20, 83.37s/it]"
     ]
    },
    {
     "name": "stdout",
     "output_type": "stream",
     "text": [
      "Done Tiling:  /cache/Inf_May23_dataset/NA5091-18_HE.czi\n",
      "Finish Delete /cache/Inf_May23_dataset/NA5091-18_HE.czi\n",
      "processed in  59.32135272026062  seconds\n",
      "____________________________________________\n",
      "Loading NA5093-16_HE.czi  ......\n",
      "Loaded Image: /cache/Inf_May23_dataset/NA5093-16_HE.czi\n",
      "Pre resize:  90746 x 131258\n",
      "/cache/S23_Infarct/patched_512/NA5093-16_HE\n"
     ]
    },
    {
     "name": "stderr",
     "output_type": "stream",
     "text": [
      " 67%|██████▋   | 46/69 [1:01:40<36:24, 94.98s/it]"
     ]
    },
    {
     "name": "stdout",
     "output_type": "stream",
     "text": [
      "Done Tiling:  /cache/Inf_May23_dataset/NA5093-16_HE.czi\n",
      "Finish Delete /cache/Inf_May23_dataset/NA5093-16_HE.czi\n",
      "processed in  122.04823279380798  seconds\n",
      "____________________________________________\n",
      "Loading NA5093-17_HE.czi  ......\n",
      "Loaded Image: /cache/Inf_May23_dataset/NA5093-17_HE.czi\n",
      "Pre resize:  82114 x 86587\n",
      "/cache/S23_Infarct/patched_512/NA5093-17_HE\n"
     ]
    },
    {
     "name": "stderr",
     "output_type": "stream",
     "text": [
      " 68%|██████▊   | 47/69 [1:02:56<32:44, 89.31s/it]"
     ]
    },
    {
     "name": "stdout",
     "output_type": "stream",
     "text": [
      "Done Tiling:  /cache/Inf_May23_dataset/NA5093-17_HE.czi\n",
      "Finish Delete /cache/Inf_May23_dataset/NA5093-17_HE.czi\n",
      "processed in  76.0802640914917  seconds\n",
      "____________________________________________\n",
      "Loading NA5093-18_HE.czi  ......\n",
      "Loaded Image: /cache/Inf_May23_dataset/NA5093-18_HE.czi\n",
      "Pre resize:  81054 x 92345\n",
      "/cache/S23_Infarct/patched_512/NA5093-18_HE\n"
     ]
    },
    {
     "name": "stderr",
     "output_type": "stream",
     "text": [
      " 70%|██████▉   | 48/69 [1:04:12<29:52, 85.38s/it]"
     ]
    },
    {
     "name": "stdout",
     "output_type": "stream",
     "text": [
      "Done Tiling:  /cache/Inf_May23_dataset/NA5093-18_HE.czi\n",
      "Finish Delete /cache/Inf_May23_dataset/NA5093-18_HE.czi\n",
      "processed in  76.21147871017456  seconds\n",
      "____________________________________________\n",
      "Loading NA5095-16_HE.czi  ......\n",
      "Loaded Image: /cache/Inf_May23_dataset/NA5095-16_HE.czi\n",
      "Pre resize:  89689 x 89554\n",
      "/cache/S23_Infarct/patched_512/NA5095-16_HE\n"
     ]
    },
    {
     "name": "stderr",
     "output_type": "stream",
     "text": [
      " 71%|███████   | 49/69 [1:05:37<28:20, 85.02s/it]"
     ]
    },
    {
     "name": "stdout",
     "output_type": "stream",
     "text": [
      "Done Tiling:  /cache/Inf_May23_dataset/NA5095-16_HE.czi\n",
      "Finish Delete /cache/Inf_May23_dataset/NA5095-16_HE.czi\n",
      "processed in  84.19488000869751  seconds\n",
      "____________________________________________\n",
      "Loading NA5095-17_HE.czi  ......\n",
      "Loaded Image: /cache/Inf_May23_dataset/NA5095-17_HE.czi\n",
      "Pre resize:  105876 x 121175\n",
      "/cache/S23_Infarct/patched_512/NA5095-17_HE\n"
     ]
    },
    {
     "name": "stderr",
     "output_type": "stream",
     "text": [
      " 72%|███████▏  | 50/69 [1:07:53<31:49, 100.52s/it]"
     ]
    },
    {
     "name": "stdout",
     "output_type": "stream",
     "text": [
      "Done Tiling:  /cache/Inf_May23_dataset/NA5095-17_HE.czi\n",
      "Finish Delete /cache/Inf_May23_dataset/NA5095-17_HE.czi\n",
      "processed in  136.6811399459839  seconds\n",
      "____________________________________________\n",
      "Loading NA5095-18_HE.czi  ......\n",
      "Loaded Image: /cache/Inf_May23_dataset/NA5095-18_HE.czi\n",
      "Pre resize:  79983 x 102518\n",
      "/cache/S23_Infarct/patched_512/NA5095-18_HE\n"
     ]
    },
    {
     "name": "stderr",
     "output_type": "stream",
     "text": [
      " 74%|███████▍  | 51/69 [1:09:17<28:40, 95.56s/it] "
     ]
    },
    {
     "name": "stdout",
     "output_type": "stream",
     "text": [
      "Done Tiling:  /cache/Inf_May23_dataset/NA5095-18_HE.czi\n",
      "Finish Delete /cache/Inf_May23_dataset/NA5095-18_HE.czi\n",
      "processed in  83.98739123344421  seconds\n",
      "____________________________________________\n",
      "Loading NA5098-16_HE.czi  ......\n",
      "Loaded Image: /cache/Inf_May23_dataset/NA5098-16_HE.czi\n",
      "Pre resize:  73484 x 69396\n",
      "/cache/S23_Infarct/patched_512/NA5098-16_HE\n"
     ]
    },
    {
     "name": "stderr",
     "output_type": "stream",
     "text": [
      " 75%|███████▌  | 52/69 [1:10:14<23:44, 83.79s/it]"
     ]
    },
    {
     "name": "stdout",
     "output_type": "stream",
     "text": [
      "Done Tiling:  /cache/Inf_May23_dataset/NA5098-16_HE.czi\n",
      "Finish Delete /cache/Inf_May23_dataset/NA5098-16_HE.czi\n",
      "processed in  56.33109498023987  seconds\n",
      "____________________________________________\n",
      "Loading NA5098-17_HE.czi  ......\n",
      "Loaded Image: /cache/Inf_May23_dataset/NA5098-17_HE.czi\n",
      "Pre resize:  89666 x 102438\n",
      "/cache/S23_Infarct/patched_512/NA5098-17_HE\n"
     ]
    },
    {
     "name": "stderr",
     "output_type": "stream",
     "text": [
      " 77%|███████▋  | 53/69 [1:11:50<23:22, 87.68s/it]"
     ]
    },
    {
     "name": "stdout",
     "output_type": "stream",
     "text": [
      "Done Tiling:  /cache/Inf_May23_dataset/NA5098-17_HE.czi\n",
      "Finish Delete /cache/Inf_May23_dataset/NA5098-17_HE.czi\n",
      "processed in  96.74413084983826  seconds\n",
      "____________________________________________\n",
      "Loading NA5098-18_HE.czi  ......\n",
      "Loaded Image: /cache/Inf_May23_dataset/NA5098-18_HE.czi\n",
      "Pre resize:  59453 x 85154\n",
      "/cache/S23_Infarct/patched_512/NA5098-18_HE\n"
     ]
    },
    {
     "name": "stderr",
     "output_type": "stream",
     "text": [
      " 78%|███████▊  | 54/69 [1:12:43<19:16, 77.11s/it]"
     ]
    },
    {
     "name": "stdout",
     "output_type": "stream",
     "text": [
      "Done Tiling:  /cache/Inf_May23_dataset/NA5098-18_HE.czi\n",
      "Finish Delete /cache/Inf_May23_dataset/NA5098-18_HE.czi\n",
      "processed in  52.46259021759033  seconds\n",
      "____________________________________________\n",
      "Loading NA5114-16_HE.czi  ......\n",
      "Loaded Image: /cache/Inf_May23_dataset/NA5114-16_HE.czi\n",
      "Pre resize:  97244 x 142848\n",
      "/cache/S23_Infarct/patched_512/NA5114-16_HE\n"
     ]
    },
    {
     "name": "stderr",
     "output_type": "stream",
     "text": [
      " 80%|███████▉  | 55/69 [1:14:56<21:55, 93.98s/it]"
     ]
    },
    {
     "name": "stdout",
     "output_type": "stream",
     "text": [
      "Done Tiling:  /cache/Inf_May23_dataset/NA5114-16_HE.czi\n",
      "Finish Delete /cache/Inf_May23_dataset/NA5114-16_HE.czi\n",
      "processed in  133.32446885108948  seconds\n",
      "____________________________________________\n",
      "Loading NA5114-17_HE.czi  ......\n",
      "Loaded Image: /cache/Inf_May23_dataset/NA5114-17_HE.czi\n",
      "Pre resize:  75686 x 108274\n",
      "/cache/S23_Infarct/patched_512/NA5114-17_HE\n"
     ]
    },
    {
     "name": "stderr",
     "output_type": "stream",
     "text": [
      " 81%|████████  | 56/69 [1:16:21<19:44, 91.12s/it]"
     ]
    },
    {
     "name": "stdout",
     "output_type": "stream",
     "text": [
      "Done Tiling:  /cache/Inf_May23_dataset/NA5114-17_HE.czi\n",
      "Finish Delete /cache/Inf_May23_dataset/NA5114-17_HE.czi\n",
      "processed in  84.46247911453247  seconds\n",
      "____________________________________________\n",
      "Loading NA5114-18_HE.czi  ......\n",
      "Loaded Image: /cache/Inf_May23_dataset/NA5114-18_HE.czi\n",
      "Pre resize:  88608 x 134326\n",
      "/cache/S23_Infarct/patched_512/NA5114-18_HE\n"
     ]
    },
    {
     "name": "stderr",
     "output_type": "stream",
     "text": [
      " 83%|████████▎ | 57/69 [1:18:22<20:01, 100.13s/it]"
     ]
    },
    {
     "name": "stdout",
     "output_type": "stream",
     "text": [
      "Done Tiling:  /cache/Inf_May23_dataset/NA5114-18_HE.czi\n",
      "Finish Delete /cache/Inf_May23_dataset/NA5114-18_HE.czi\n",
      "processed in  121.15052604675293  seconds\n",
      "____________________________________________\n",
      "Loading NA5116-16_HE.czi  ......\n",
      "Loaded Image: /cache/Inf_May23_dataset/NA5116-16_HE.czi\n",
      "Pre resize:  82114 x 79382\n",
      "/cache/S23_Infarct/patched_512/NA5116-16_HE\n"
     ]
    },
    {
     "name": "stderr",
     "output_type": "stream",
     "text": [
      " 84%|████████▍ | 58/69 [1:19:29<16:32, 90.27s/it] "
     ]
    },
    {
     "name": "stdout",
     "output_type": "stream",
     "text": [
      "Done Tiling:  /cache/Inf_May23_dataset/NA5116-16_HE.czi\n",
      "Finish Delete /cache/Inf_May23_dataset/NA5116-16_HE.czi\n",
      "processed in  67.26631045341492  seconds\n",
      "____________________________________________\n",
      "Loading NA5116-17_HE.czi  ......\n",
      "Loaded Image: /cache/Inf_May23_dataset/NA5116-17_HE.czi\n",
      "Pre resize:  75635 x 108183\n",
      "/cache/S23_Infarct/patched_512/NA5116-17_HE\n"
     ]
    },
    {
     "name": "stderr",
     "output_type": "stream",
     "text": [
      " 86%|████████▌ | 59/69 [1:20:55<14:50, 89.06s/it]"
     ]
    },
    {
     "name": "stdout",
     "output_type": "stream",
     "text": [
      "Done Tiling:  /cache/Inf_May23_dataset/NA5116-17_HE.czi\n",
      "Finish Delete /cache/Inf_May23_dataset/NA5116-17_HE.czi\n",
      "processed in  86.229984998703  seconds\n",
      "____________________________________________\n",
      "Loading NA5116-18_HE.czi  ......\n",
      "Loaded Image: /cache/Inf_May23_dataset/NA5116-18_HE.czi\n",
      "Pre resize:  73466 x 118297\n",
      "/cache/S23_Infarct/patched_512/NA5116-18_HE\n"
     ]
    },
    {
     "name": "stderr",
     "output_type": "stream",
     "text": [
      " 87%|████████▋ | 60/69 [1:22:25<13:23, 89.30s/it]"
     ]
    },
    {
     "name": "stdout",
     "output_type": "stream",
     "text": [
      "Done Tiling:  /cache/Inf_May23_dataset/NA5116-18_HE.czi\n",
      "Finish Delete /cache/Inf_May23_dataset/NA5116-18_HE.czi\n",
      "processed in  89.8471326828003  seconds\n",
      "____________________________________________\n",
      "Loading NA5137-16_HE.czi  ......\n",
      "Loaded Image: /cache/Inf_May23_dataset/NA5137-16_HE.czi\n",
      "Pre resize:  59461 x 89487\n",
      "/cache/S23_Infarct/patched_512/NA5137-16_HE\n"
     ]
    },
    {
     "name": "stderr",
     "output_type": "stream",
     "text": [
      " 88%|████████▊ | 61/69 [1:23:25<10:43, 80.38s/it]"
     ]
    },
    {
     "name": "stdout",
     "output_type": "stream",
     "text": [
      "Done Tiling:  /cache/Inf_May23_dataset/NA5137-16_HE.czi\n",
      "Finish Delete /cache/Inf_May23_dataset/NA5137-16_HE.czi\n",
      "processed in  59.57741355895996  seconds\n",
      "____________________________________________\n",
      "Loading NA5137-17_HE.czi  ......\n",
      "Loaded Image: /cache/Inf_May23_dataset/NA5137-17_HE.czi\n",
      "Pre resize:  84281 x 112511\n",
      "/cache/S23_Infarct/patched_512/NA5137-17_HE\n"
     ]
    },
    {
     "name": "stderr",
     "output_type": "stream",
     "text": [
      " 90%|████████▉ | 62/69 [1:25:04<10:01, 85.98s/it]"
     ]
    },
    {
     "name": "stdout",
     "output_type": "stream",
     "text": [
      "Done Tiling:  /cache/Inf_May23_dataset/NA5137-17_HE.czi\n",
      "Finish Delete /cache/Inf_May23_dataset/NA5137-17_HE.czi\n",
      "processed in  99.04516673088074  seconds\n",
      "____________________________________________\n",
      "Loading NA5137-18_HE.czi  ......\n",
      "Loaded Image: /cache/Inf_May23_dataset/NA5137-18_HE.czi\n",
      "Pre resize:  56222 x 52070\n",
      "/cache/S23_Infarct/patched_512/NA5137-18_HE\n"
     ]
    },
    {
     "name": "stderr",
     "output_type": "stream",
     "text": [
      " 91%|█████████▏| 63/69 [1:25:37<07:00, 70.01s/it]"
     ]
    },
    {
     "name": "stdout",
     "output_type": "stream",
     "text": [
      "Done Tiling:  /cache/Inf_May23_dataset/NA5137-18_HE.czi\n",
      "Finish Delete /cache/Inf_May23_dataset/NA5137-18_HE.czi\n",
      "processed in  32.73525333404541  seconds\n",
      "____________________________________________\n",
      "Loading NA5146-16_HE.svs  ......\n",
      "Pre resize:  34899 x 51792\n",
      "Resizing small case\n",
      "Post resize:  69798 x 103584\n",
      "Loaded Image: /cache/Inf_May23_dataset/NA5146-16_HE.svs\n",
      "/cache/S23_Infarct/patched_512/NA5146-16_HE\n"
     ]
    },
    {
     "name": "stderr",
     "output_type": "stream",
     "text": [
      " 93%|█████████▎| 64/69 [1:27:01<06:12, 74.48s/it]"
     ]
    },
    {
     "name": "stdout",
     "output_type": "stream",
     "text": [
      "Done Tiling:  /cache/Inf_May23_dataset/NA5146-16_HE.svs\n",
      "processed in  84.91850686073303  seconds\n",
      "____________________________________________\n",
      "Loading NA5146-17_HE.svs  ......\n",
      "Pre resize:  33624 x 45816\n",
      "Resizing small case\n",
      "Post resize:  67248 x 91632\n",
      "Loaded Image: /cache/Inf_May23_dataset/NA5146-17_HE.svs\n",
      "/cache/S23_Infarct/patched_512/NA5146-17_HE\n"
     ]
    },
    {
     "name": "stderr",
     "output_type": "stream",
     "text": [
      " 94%|█████████▍| 65/69 [1:28:13<04:54, 73.53s/it]"
     ]
    },
    {
     "name": "stdout",
     "output_type": "stream",
     "text": [
      "Done Tiling:  /cache/Inf_May23_dataset/NA5146-17_HE.svs\n",
      "processed in  71.30714654922485  seconds\n",
      "____________________________________________\n",
      "Loading NA5146-18_HE.svs  ......\n",
      "Pre resize:  32618 x 33864\n",
      "Resizing small case\n",
      "Post resize:  65236 x 67728\n",
      "Loaded Image: /cache/Inf_May23_dataset/NA5146-18_HE.svs\n",
      "/cache/S23_Infarct/patched_512/NA5146-18_HE\n"
     ]
    },
    {
     "name": "stderr",
     "output_type": "stream",
     "text": [
      " 96%|█████████▌| 66/69 [1:29:04<03:20, 66.77s/it]"
     ]
    },
    {
     "name": "stdout",
     "output_type": "stream",
     "text": [
      "Done Tiling:  /cache/Inf_May23_dataset/NA5146-18_HE.svs\n",
      "processed in  51.01246953010559  seconds\n",
      "____________________________________________\n",
      "Loading NA5161-16_HE.czi  ......\n",
      "Loaded Image: /cache/Inf_May23_dataset/NA5161-16_HE.czi\n",
      "Pre resize:  71435 x 101053\n",
      "/cache/S23_Infarct/patched_512/NA5161-16_HE\n"
     ]
    },
    {
     "name": "stderr",
     "output_type": "stream",
     "text": [
      " 97%|█████████▋| 67/69 [1:30:24<02:21, 70.90s/it]"
     ]
    },
    {
     "name": "stdout",
     "output_type": "stream",
     "text": [
      "Done Tiling:  /cache/Inf_May23_dataset/NA5161-16_HE.czi\n",
      "Finish Delete /cache/Inf_May23_dataset/NA5161-16_HE.czi\n",
      "processed in  80.53710341453552  seconds\n",
      "____________________________________________\n",
      "Loading NA5161-17_HE.czi  ......\n",
      "Loaded Image: /cache/Inf_May23_dataset/NA5161-17_HE.czi\n",
      "Pre resize:  87597 x 105358\n",
      "/cache/S23_Infarct/patched_512/NA5161-17_HE\n"
     ]
    },
    {
     "name": "stderr",
     "output_type": "stream",
     "text": [
      " 99%|█████████▊| 68/69 [1:32:06<01:20, 80.18s/it]"
     ]
    },
    {
     "name": "stdout",
     "output_type": "stream",
     "text": [
      "Done Tiling:  /cache/Inf_May23_dataset/NA5161-17_HE.czi\n",
      "Finish Delete /cache/Inf_May23_dataset/NA5161-17_HE.czi\n",
      "processed in  101.81130051612854  seconds\n",
      "____________________________________________\n",
      "Loading NA5161-18_HE.czi  ......\n",
      "Loaded Image: /cache/Inf_May23_dataset/NA5161-18_HE.czi\n",
      "Pre resize:  63797 x 70783\n",
      "/cache/S23_Infarct/patched_512/NA5161-18_HE\n"
     ]
    },
    {
     "name": "stderr",
     "output_type": "stream",
     "text": [
      "100%|██████████| 69/69 [1:32:56<00:00, 80.83s/it]"
     ]
    },
    {
     "name": "stdout",
     "output_type": "stream",
     "text": [
      "Done Tiling:  /cache/Inf_May23_dataset/NA5161-18_HE.czi\n",
      "Finish Delete /cache/Inf_May23_dataset/NA5161-18_HE.czi\n",
      "processed in  50.34272623062134  seconds\n",
      "____________________________________________\n"
     ]
    },
    {
     "name": "stderr",
     "output_type": "stream",
     "text": [
      "\n"
     ]
    }
   ],
   "source": [
    "###### SEGMENTATION / WSI-level Pipeline - Tile\n",
    "\n",
    "\n",
    "def grabCZI(path, verbose = False):\n",
    "    img = czifile.imread(path)\n",
    "    if verbose:\n",
    "        print(img.shape)\n",
    "        print(img)\n",
    "    \n",
    "    img = np.array(img, dtype = np.uint8)\n",
    "    \n",
    "    scenes = img.shape[0]\n",
    "    time = img.shape[1]\n",
    "    height = img.shape[2]\n",
    "    width = img.shape[3]\n",
    "    channels = img.shape[4]\n",
    "    \n",
    "    \n",
    "    img = img.reshape((height, width, channels))\n",
    "    if verbose:\n",
    "        print(img)\n",
    "        print(img.shape) \n",
    "        \n",
    "    dtype_to_format = {\n",
    "        'uint8': 'uchar',\n",
    "        'int8': 'char',\n",
    "        'uint16': 'ushort',\n",
    "        'int16': 'short',\n",
    "        'uint32': 'uint',\n",
    "        'int32': 'int',\n",
    "        'float32': 'float',\n",
    "        'float64': 'double',\n",
    "        'complex64': 'complex',\n",
    "        'complex128': 'dpcomplex',\n",
    "    }\n",
    "    \n",
    "    ###codes from numpy2vips\n",
    "    height, width, bands = img.shape\n",
    "    img = img.reshape(width * height * bands)\n",
    "    vips = Vips.Image.new_from_memory(img.data, width, height, bands,\n",
    "                                      dtype_to_format['uint8'])\n",
    "    try: \n",
    "        del img, height, width, bands\n",
    "        gc.collect()\n",
    "    except: \n",
    "        pass\n",
    "    \n",
    "    return vips\n",
    "\n",
    "print(\"Starting tiling....\")\n",
    "for imagename in tqdm(imagenames[:]):\n",
    "    start = time.time()\n",
    "    if imagename.split('.')[-1] == 'svs':\n",
    "        NAID = imagename.split('.')[0]\n",
    "        print(\"Loading\", imagename, \" ......\")\n",
    "        vips_img = Vips.Image.new_from_file(WSI_DIR + imagename, level=0)\n",
    "        \n",
    "        print(\"Pre resize: \", vips_img.height, \"x\", vips_img.width)\n",
    "        \n",
    "        if NAID in ['NA5009-16_HE', 'NA5009-17_HE', 'NA5009-18_HE']:\n",
    "            pass\n",
    "            #vips_img = vips_img.resize(0.25)\n",
    "        else:\n",
    "            print(\"Resizing small case\")\n",
    "            vips_img = vips_img.resize(2)\n",
    "            \n",
    "        print(\"Post resize: \", vips_img.height, \"x\", vips_img.width)\n",
    "            \n",
    "        print(\"Loaded Image: \" + WSI_DIR + imagename)\n",
    "\n",
    "        if tile_svs:\n",
    "        \n",
    "            vips_utils.save_and_tile(vips_img, os.path.splitext(imagename)[0] \\\n",
    "                                     , SAVE_DIR, tile_size = TILE_SIZE)\n",
    "            print(\"Done Tiling: \", WSI_DIR + imagename)\n",
    "        \n",
    "    elif imagename.split('.')[-1] == 'czi':\n",
    "        NAID = imagename.split('.')[0]\n",
    "        print(\"Loading\", imagename, \" ......\")\n",
    "        try: \n",
    "            vips_img = grabCZI(WSI_DIR + imagename)\n",
    "            print(\"Loaded Image: \" + WSI_DIR + imagename)\n",
    "            \n",
    "            print(\"Pre resize: \", vips_img.height, \"x\", vips_img.width)\n",
    "            \n",
    "            if tile_czi:\n",
    "        \n",
    "                vips_utils.save_and_tile(vips_img, os.path.splitext(imagename)[0] \\\n",
    "                                         , SAVE_DIR, tile_size = TILE_SIZE)\n",
    "\n",
    "                print(\"Done Tiling: \", WSI_DIR + imagename)\n",
    "                del vips_img\n",
    "                gc.collect()\n",
    "                print(\"Finish Delete\", WSI_DIR + imagename)\n",
    "        except:\n",
    "            print(\"Error in tiling\")\n",
    "        \n",
    "        \n",
    "\n",
    "    else:\n",
    "        print(\"Skipped,\", imagename, '. This file is either not .czi or .svs, or not the file assigned')\n",
    "    \n",
    "    try: \n",
    "        del vips_img \n",
    "        gc.collect()\n",
    "    except:\n",
    "        pass\n",
    "    \n",
    "    print(\"processed in \", time.time()-start,\" seconds\")\n",
    "    print(\"____________________________________________\")"
   ]
  },
  {
   "cell_type": "code",
   "execution_count": null,
   "id": "732fbf67",
   "metadata": {},
   "outputs": [
    {
     "name": "stdout",
     "output_type": "stream",
     "text": [
      "Processing  NA-5029-16_HE\n"
     ]
    },
    {
     "name": "stderr",
     "output_type": "stream",
     "text": [
      "/home/lzhengfe/anaconda3/envs/vips/lib/python3.7/site-packages/torch/nn/functional.py:1569: UserWarning: nn.functional.sigmoid is deprecated. Use torch.sigmoid instead.\n",
      "  warnings.warn(\"nn.functional.sigmoid is deprecated. Use torch.sigmoid instead.\")\n"
     ]
    },
    {
     "name": "stdout",
     "output_type": "stream",
     "text": [
      "46.47372621497879 % of the WSI was detected as BG and removed\n",
      "processed in  192.93044233322144  seconds\n",
      "____________________________________________\n",
      "Processing  NA-5029-17_HE\n",
      "46.15245468687819 % of the WSI was detected as BG and removed\n",
      "processed in  222.93017482757568  seconds\n",
      "____________________________________________\n",
      "Processing  NA-5029-18_HE\n"
     ]
    }
   ],
   "source": [
    "###### WSI-level Pipeline - Find BG using ./patched_512_NewAnnotation+preprocess_ResNet18_Feb12.pt (in 224) and name\n",
    "# files sequentially\n",
    "\n",
    "MODEL_SEG_DIR = './patched_512_NewAnnotation+preprocess_ResNet18_Feb12.pt'\n",
    "\n",
    "seg_model = torchvision.models.resnet18(pretrained=True)\n",
    "seg_model.fc = nn.Linear(512, 3)\n",
    "\n",
    "checkpoint = torch.load(MODEL_SEG_DIR,map_location='cpu')\n",
    "seg_model.load_state_dict(checkpoint['model_state_dict'])\n",
    "\n",
    "device = torch.device('cuda:0' if torch.cuda.is_available() else 'cpu')\n",
    "seg_model.to(device)\n",
    "\n",
    "\n",
    "for NAID in os.listdir(SAVE_DIR):\n",
    "    start = time.time()\n",
    "    print(\"Processing \", NAID)\n",
    "    if not os.path.exists(WSI_TILE_DIR+NAID):\n",
    "        os.makedirs(WSI_TILE_DIR+NAID)\n",
    "    \n",
    "    seq_ct = 0\n",
    "    bg_ct = 0\n",
    "    for tile_folder in os.listdir(SAVE_DIR+NAID+'/0/'):\n",
    "        for tile in os.listdir(SAVE_DIR+NAID+'/0/'+tile_folder):\n",
    "            \n",
    "            seg_model.train(False)\n",
    "            \n",
    "            img = Image.open(SAVE_DIR+NAID+'/0/'+tile_folder+'/'+tile)\n",
    "            \n",
    "            img_tensor = transforms.ToTensor()(img)\n",
    "            img_tensor = transforms.Normalize(mean=[0.4409763317567454, 0.4016568471536302, 0.4988298669112181],\n",
    "                             std=[0.31297803931100737, 0.2990562933047881, 0.33747493782548915])(img_tensor)\n",
    "            img_tensor = torch.reshape(img_tensor,(1,3,512,512))\n",
    "            img_tensor = img_tensor.cuda()\n",
    "            \n",
    "            predict = seg_model(img_tensor)\n",
    "            preds = F.sigmoid(predict)\n",
    "            _, indices = torch.max(predict.data, 1) # indices = 0:Background, 1:WM, 2:GM\n",
    "            indices = indices.type(torch.uint8)\n",
    "            running_seg =  indices.data.cpu()\n",
    "            \n",
    "            \n",
    "            if running_seg != 0:\n",
    "                shutil.copyfile(SAVE_DIR+NAID+'/0/'+tile_folder+'/'+tile, WSI_TILE_DIR+NAID+'/'+str(seq_ct)+'.jpg')\n",
    "            else:\n",
    "                bg_ct += 1\n",
    "                #print(\"bg removed\")\n",
    "                \n",
    "            seq_ct += 1\n",
    "            \n",
    "    print((bg_ct*100)/seq_ct, \"% of the WSI was detected as BG and removed\")\n",
    "    print(\"processed in \", time.time()-start,\" seconds\")\n",
    "    print(\"____________________________________________\")"
   ]
  },
  {
   "cell_type": "code",
   "execution_count": null,
   "id": "50a35334",
   "metadata": {},
   "outputs": [],
   "source": [
    "###### SEGMENTATION - Give tile name based on coordinate\n",
    "\n",
    "print(\"About to change names to add coordinates\")\n",
    "for case_folder in sorted(os.listdir(SAVE_DIR)):\n",
    "    NAID = case_folder\n",
    "    print('NAID: ', NAID)\n",
    "    for tile_folder in sorted(os.listdir(SAVE_DIR+NAID+'/0/')):\n",
    "        # folder_level == y axis distance determinant\n",
    "        # file_level == x axis distance determinant\n",
    "        y0 = int(tile_folder)*TILE_SIZE\n",
    "        y1 = (int(tile_folder)+1)*TILE_SIZE\n",
    "        #print(\"Y axis = (\", y0,',',y1,')')\n",
    "        for tile_file in sorted(os.listdir(SAVE_DIR+NAID+'/0/'+tile_folder+'/')):\n",
    "            x0 = int(tile_file.split('.')[0])*TILE_SIZE\n",
    "            x1 = (int(tile_file.split('.')[0])+1)*TILE_SIZE\n",
    "            #print(\"X axis = (\", x0,',',x1,')')\n",
    "            #print(\"Renaming \", SAVE_DIR+NAID+'/0/'+str(tile_folder)+'/'+tile_file)\n",
    "            os.rename(SAVE_DIR+NAID+'/0/'+str(tile_folder)+'/'+tile_file, \n",
    "                      SAVE_DIR+NAID+'/0/'+str(tile_folder)+'/'+str(y0)+'_'+str(x0)+'_'+str(y1)+'_'+str(x1)+'_'+tile_file)\n",
    "            #print(\"Renamed into \", SAVE_DIR+NAID+'/0/'+tile_folder+'/'+str(y0)+'_'+str(x0)+'_'+str(y1)+'_'+str(x1)+'_'+tile_file)"
   ]
  },
  {
   "cell_type": "code",
   "execution_count": null,
   "id": "63e0653c",
   "metadata": {},
   "outputs": [],
   "source": [
    "###### SEGMENTATION - Extract polygon annotation\n",
    "\n",
    "for imagename in tqdm(imagenames[:]):\n",
    "    start = time.time()\n",
    "    os.makedirs(CZ_DIR+NAID)\n",
    "    if imagename.split('.')[-1] == 'svs':\n",
    "        pass\n",
    "        \n",
    "    elif imagename.split('.')[-1] == 'czi':\n",
    "        NAID = imagename.split('.')[0]\n",
    "        print(\"Loading\", imagename, \" ......\")\n",
    "        try: \n",
    "            czifile = pylibczi.CziFile(WSI_DIR + imagename, metafile_out = CZ_DIR + NAID + '.cz',use_pylibczi=True, verbose=True)\n",
    "            czifile.read_meta()\n",
    "            \n",
    "            tree = ET.parse(CZ_DIR + NAID + '.cz') \n",
    "            root = tree.getroot() \n",
    "            \n",
    "            tree.write(CZ_DIR + NAID + '.xml')\n",
    "        except:\n",
    "            print(\"Error in extracting annotation\")\n",
    "            \n",
    "    print(\"processed in \", time.time()-start,\" seconds\")\n",
    "    print(\"____________________________________________\")"
   ]
  },
  {
   "cell_type": "code",
   "execution_count": null,
   "id": "781f3850",
   "metadata": {},
   "outputs": [],
   "source": [
    "###### SEGMENTATION - Generate Masks based on Polygon Annotation\n",
    "\n",
    "def create_polygon_mask(vertex_coordinates, file_dimensions):\n",
    "    \n",
    "    mask = np.zeros(file_dimensions,'uint8')\n",
    "    rr, cc = polygon(vertex_coordinates[:,0],vertex_coordinates[:,1],mask.shape)\n",
    "    mask[rr,cc] = 1\n",
    "    \n",
    "    return mask\n",
    "\n",
    "for imagename in tqdm(imagenames[:]):\n",
    "    start = time.time()\n",
    "    if imagename.split('.')[-1] == 'svs':\n",
    "        pass\n",
    "# TODO: FIND HOW TO REMOVE ANNOTATIONS FROM SVS XML\n",
    "\n",
    "#         NAID = imagename.split('.')[0]\n",
    "#         print(\"Loading\", imagename, \" ......\")\n",
    "#         vips_img = Vips.Image.new_from_file(WSI_DIR + imagename, level=0)\n",
    "        \n",
    "#         dimension_dict[NAID] = [vips_img.height, vips_img.width]\n",
    "        \n",
    "#         print(\"Loaded Image: \" + WSI_DIR + imagename)\n",
    "\n",
    "        \n",
    "    elif imagename.split('.')[-1] == 'czi':\n",
    "        NAID = imagename.split('.')[0]\n",
    "        print(\"Loading\", imagename, \" ......\")\n",
    "        try: \n",
    "            vips_img = grabCZI(WSI_DIR + imagename)\n",
    "            print(\"Loaded Image: \" + WSI_DIR + imagename)\n",
    "            \n",
    "            dimension = [vips_img.height, vips_img.width]\n",
    "            \n",
    "            doc = xmltodict.parse(open(CZ_DIR + NAID + '.xml', 'r', encoding='utf-8').read())\n",
    "            \n",
    "            coords = []\n",
    "            for xy in doc['GraphicsDocument']['Elements']['Bezier'][0]['Geometry']['Points'].split(' '):\n",
    "                coord = [int(float(xy[1])),int(float(xy[0]))]\n",
    "                \n",
    "                ### LUCA NOTE:\n",
    "                    # I just assumed y was [1] and x was [0], this must be checked\n",
    "                \n",
    "                coords.append(coord)\n",
    "                \n",
    "            coords = np.asarray(coords,dtype=np.uint8)\n",
    "            \n",
    "            mask = create_polygon_mask(coords, dimension)\n",
    "            \n",
    "            mask = np.packbits(mask,axis=None)\n",
    "            print(\"Binarized mask\")\n",
    "\n",
    "            np.save(MASK_DIR+NAID+'.npy',mask) \n",
    "            \n",
    "            print(\"processed in \", time.time()-start,\" seconds\")\n",
    "            print(\"____________________________________________\")\n",
    "\n",
    "        except:\n",
    "            print(\"Error in generating masks from polygon\")\n",
    "        \n",
    "        \n",
    "    else:\n",
    "        print(\"Skipped,\", imagename, '. This file is either not .czi or .svs, or not the file assigned')\n",
    "        \n",
    "    del vips_img,coords,mask\n",
    "    gc.collect()"
   ]
  },
  {
   "cell_type": "code",
   "execution_count": null,
   "id": "f1d505eb",
   "metadata": {},
   "outputs": [],
   "source": [
    "###### SEGMENTATION - Find BG using ../saved_models/patched_512_NewAnnotation+preprocess_ResNet18_Feb12.pt (in 224)\n",
    "\n",
    "MODEL_SEG_DIR = './patched_512_NewAnnotation+preprocess_ResNet18_Feb12.pt'\n",
    "\n",
    "seg_model = torchvision.models.resnet18()\n",
    "seg_model.fc = nn.Linear(512, 3)\n",
    "\n",
    "checkpoint = torch.load(MODEL_SEG_DIR)\n",
    "seg_model.load_state_dict(checkpoint['model_state_dict'])\n",
    "\n",
    "device = torch.device('cuda:0' if torch.cuda.is_available() else 'cpu')\n",
    "seg_model.to(device)\n",
    "\n",
    "\n",
    "for NAID in os.listdir(SAVE_DIR):\n",
    "    os.makedirs(SEGMENTATION_TILE_DIR+NAID+'/BG/')\n",
    "    for tile_folder in os.listdir(SAVE_DIR+NAID+'/0/'):\n",
    "        for tile in os.listdir(SAVE_DIR+NAID+'/0/'+tile_folder):\n",
    "            seg_model.train(False)\n",
    "            \n",
    "            img = Image.open(SAVE_DIR+NAID+'/0/'+tile_folder+'/'+tile)\n",
    "            \n",
    "            img_tensor = transforms.ToTensor()(img)\n",
    "            img_tensor = transforms.Normalize(mean=[0.4409763317567454, 0.4016568471536302, 0.4988298669112181],\n",
    "                             std=[0.31297803931100737, 0.2990562933047881, 0.33747493782548915])(img_tensor)\n",
    "            img_tensor = torch.reshape(img_tensor,(1,3,512,512))\n",
    "            img_tensor = img_tensor.cuda()\n",
    "            \n",
    "            predict = seg_model(img_tensor)\n",
    "            preds = F.sigmoid(predict)\n",
    "            _, indices = torch.max(predict.data, 1) # indices = 0:Background, 1:WM, 2:GM\n",
    "            indices = indices.type(torch.uint8)\n",
    "            running_seg =  indices.data.cpu()\n",
    "            \n",
    "            \n",
    "            if running_seg == 0:\n",
    "                shutil.copyfile(SAVE_DIR+NAID+'/0/'+tile_folder+'/'+tile, SEGMENTATION_TILE_DIR+NAID+'/BG/'+tile)\n",
    "            else:\n",
    "                pass\n",
    "                #print(\"bg removed\")"
   ]
  },
  {
   "cell_type": "code",
   "execution_count": null,
   "id": "d5e110a4",
   "metadata": {},
   "outputs": [],
   "source": [
    "###### SEGMENTATION - Separate tiles into BG, Inf and Healthy folders\n",
    "\n",
    "for NAID in os.listdir(SAVE_DIR):\n",
    "    proceed = True\n",
    "    \n",
    "    if os.path.isfile(WSI_DIR+NAID+'.svs'):\n",
    "        vips_img = Vips.Image.new_from_file(WSI_DIR+NAID+'.svs', level=0)\n",
    "    elif os.path.isfile(WSI_DIR+NAID+'.czi'):\n",
    "        vips_img = grabCZI(WSI_DIR+NAID+'.czi')\n",
    "    else:\n",
    "        print(\"Could not find WSI - it is not czi nor svs\")\n",
    "        proceed = False\n",
    "    \n",
    "    if proceed:\n",
    "        os.makedirs(SEGMENTATION_TILE_DIR+NAID+'/Heal/')\n",
    "        os.makedirs(SEGMENTATION_TILE_DIR+NAID+'/Inf/')\n",
    "        \n",
    "        img_dim = [vips_img.height,vips_img.width]\n",
    "        mask = np.load(MASK_DIR+NAID+'.npy')\n",
    "        print(\"Loaded mask at \", MASK_DIR+NAID+'.npy' ,\", about to process...\")\n",
    "\n",
    "        im_size = img_dim[0]*img_dim[1]\n",
    "\n",
    "        mask = np.unpackbits(mask,count=im_size).reshape(img_dim).view(bool)\n",
    "        mask = mask.view(np.uint8)\n",
    "        print(\"Unbinarized mask\")\n",
    "        \n",
    "        \n",
    "        for tile_folder in os.listdir(SAVE_DIR+NAID+'/0/'):\n",
    "            for tile in os.listdir(SAVE_DIR+NAID+'/0/'+tile_folder):\n",
    "\n",
    "                #file naming convention --> y0 x0 y1 x1\n",
    "                y0 = tile.split('_')[0]\n",
    "                x0 = tile.split('_')[1]\n",
    "                y1 = tile.split('_')[2]\n",
    "                x1 = tile.split('_')[3]\n",
    "                \n",
    "                if sum(sum(masky[y0:y1,x0:x1])) >= (512/3):\n",
    "                    shutil.copyfile(SAVE_DIR+NAID+'/0/'+tile_folder+'/'+tile, SEGMENTATION_TILE_DIR+NAID+'/Inf/'+tile)\n",
    "                else:\n",
    "                    shutil.copyfile(SAVE_DIR+NAID+'/0/'+tile_folder+'/'+tile, SEGMENTATION_TILE_DIR+NAID+'/Heal/'+tile)\n",
    "            \n",
    "            \n",
    "    del vips_img, mask\n",
    "    gc.collect()"
   ]
  },
  {
   "cell_type": "code",
   "execution_count": null,
   "id": "26e93c37",
   "metadata": {},
   "outputs": [],
   "source": []
  },
  {
   "cell_type": "code",
   "execution_count": null,
   "id": "877c3f66",
   "metadata": {},
   "outputs": [],
   "source": []
  },
  {
   "cell_type": "code",
   "execution_count": null,
   "id": "c30ac832",
   "metadata": {},
   "outputs": [],
   "source": []
  },
  {
   "cell_type": "code",
   "execution_count": null,
   "id": "439b5561",
   "metadata": {},
   "outputs": [],
   "source": []
  },
  {
   "cell_type": "code",
   "execution_count": null,
   "id": "acce7eff",
   "metadata": {},
   "outputs": [],
   "source": []
  },
  {
   "cell_type": "code",
   "execution_count": null,
   "id": "bd6c4ba9",
   "metadata": {},
   "outputs": [],
   "source": []
  },
  {
   "cell_type": "code",
   "execution_count": null,
   "id": "532b3d65",
   "metadata": {},
   "outputs": [],
   "source": []
  },
  {
   "cell_type": "code",
   "execution_count": null,
   "id": "cf8210e3",
   "metadata": {},
   "outputs": [],
   "source": []
  }
 ],
 "metadata": {
  "kernelspec": {
   "display_name": "Python 3",
   "language": "python",
   "name": "python3"
  },
  "language_info": {
   "codemirror_mode": {
    "name": "ipython",
    "version": 3
   },
   "file_extension": ".py",
   "mimetype": "text/x-python",
   "name": "python",
   "nbconvert_exporter": "python",
   "pygments_lexer": "ipython3",
   "version": "3.7.10"
  }
 },
 "nbformat": 4,
 "nbformat_minor": 5
}
