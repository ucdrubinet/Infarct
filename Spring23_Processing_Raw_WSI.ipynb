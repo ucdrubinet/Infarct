{
 "cells": [
  {
   "cell_type": "code",
   "execution_count": 2,
   "id": "87a990ba",
   "metadata": {},
   "outputs": [],
   "source": [
    "#Luca: We must tile all the WSI before proceeding with either segmentation or WSI-level. This notebook does the preprocessing \n",
    "\n",
    "\n",
    "#Segmentation Pipeline\n",
    "    # Tile\n",
    "    # Give tile name based on coordinate\n",
    "    # Extract polygon annotation\n",
    "    # Generate Masks based on Polygon Annotation\n",
    "    # Find BG using ../saved_models/patched_512_NewAnnotation+preprocess_ResNet18_Feb12.pt (in 224)\n",
    "    # Separate tiles into BG, Inf and Healthy folders\n",
    "#WSI-level Pipeline\n",
    "    # Tile\n",
    "    # Remove BG tiles using ../saved_models/patched_512_NewAnnotation+preprocess_ResNet18_Feb12.pt (in 224)\n",
    "        # and name them sequentially"
   ]
  },
  {
   "cell_type": "code",
   "execution_count": 3,
   "id": "529cc090",
   "metadata": {},
   "outputs": [],
   "source": [
    "import os\n",
    "#import os.path\n",
    "import pandas as pd\n",
    "import glob\n",
    "import numpy as np\n",
    "import matplotlib.pyplot as plt\n",
    "import pyvips as Vips\n",
    "from tqdm import tqdm\n",
    "from utils import vips_utils, normalize\n",
    "from torchvision import transforms, utils\n",
    "import time\n",
    "import torchvision.models as models\n",
    "import torchvision.transforms.functional as TF\n",
    "import torch.nn.functional as F\n",
    "from PIL import Image, ImageFile\n",
    "import statistics\n",
    "from typing import Optional, Tuple\n",
    "import pylibczi\n",
    "from pylibczi import CziScene\n",
    "import czifile\n",
    "from czifile import CziFile \n",
    "import xml.etree.ElementTree as ET\n",
    "import argparse\n",
    "import gc \n",
    "import psutil\n",
    "import resource\n",
    "import platform\n",
    "import pickle\n",
    "import xmltodict\n",
    "import time\n",
    "import matplotlib.path as mpath\n",
    "from skimage.draw import polygon\n",
    "import cv2\n",
    "import copy\n",
    "import shutil\n",
    "\n",
    "import torch\n",
    "import random\n",
    "import torchvision\n",
    "import torch.nn as nn\n",
    "from skimage import io, transform\n",
    "from skimage.morphology import convex_hull_image\n",
    "\n",
    "### PARAMETERS"
   ]
  },
  {
   "cell_type": "code",
   "execution_count": 4,
   "id": "25e94be5",
   "metadata": {},
   "outputs": [],
   "source": [
    "TILE_SIZE = 512\n",
    "\n",
    "WSI_DIR = '/cache/Inf_May23_dataset/'\n",
    "SAVE_DIR = '/cache/S23_Infarct/patched_'+str(TILE_SIZE)+'/'\n",
    "CZ_DIR = '/cache/S23_Infarct/annotation/'\n",
    "MASK_DIR = '/cache/S23_Infarct/masks/'\n",
    "\n",
    "SEGMENTATION_TILE_DIR = '/cache/S23_Infarct/twice_parsed_seg_data_'+str(TILE_SIZE)+'/'\n",
    "WSI_TILE_DIR = '/cache/S23_Infarct/wsi_level_data_'+str(TILE_SIZE)+'/'\n",
    "\n",
    "tile_czi = True\n",
    "tile_svs = True"
   ]
  },
  {
   "cell_type": "code",
   "execution_count": 5,
   "id": "099e84bc",
   "metadata": {},
   "outputs": [
    {
     "name": "stdout",
     "output_type": "stream",
     "text": [
      "Found WSI folder... \n",
      "All WSIs in wsi_dir: \n",
      "['NA-5029-16_HE.svs', 'NA-5029-17_HE.svs', 'NA-5029-18_HE.svs', 'NA5004-16_HE.svs', 'NA5004-17_HE.svs', 'NA5004-18_HE.svs', 'NA5007-16_HE.svs', 'NA5007-17_HE.svs', 'NA5007-18_HE.svs', 'NA5009-16_HE.svs', 'NA5009-17_HE.svs', 'NA5009-18_HE.svs', 'NA5031-16_HE.svs', 'NA5031-17_HE.svs', 'NA5031-18_HE.svs', 'NA5041-16_HE.svs', 'NA5041-17_HE.svs', 'NA5041-18_HE.svs', 'NA5045-16_HE.svs', 'NA5045-17_HE.svs', 'NA5045-18_HE.svs', 'NA5051-16_HE.czi', 'NA5051-17_HE.czi', 'NA5051-18_HE.czi', 'NA5057-16_HE.svs', 'NA5057-17_HE.svs', 'NA5057-18_HE.svs', 'NA5063-16_HE.czi', 'NA5063-17_HE.czi', 'NA5063-18_HE.czi', 'NA5077-16_HE.czi', 'NA5077-17_HE.czi', 'NA5077-18_HE.czi', 'NA5085-16_HE.czi', 'NA5085-17_HE.czi', 'NA5085-18_HE.czi', 'NA5089-16_HE.czi', 'NA5089-17_HE.czi', 'NA5089-18_HE.czi', 'NA5090-16_HE.czi', 'NA5090-17_HE.czi', 'NA5090-18_HE.czi', 'NA5091-16_HE.czi', 'NA5091-17_HE.czi', 'NA5091-18_HE.czi', 'NA5093-16_HE.czi', 'NA5093-17_HE.czi', 'NA5093-18_HE.czi', 'NA5095-16_HE.czi', 'NA5095-17_HE.czi', 'NA5095-18_HE.czi', 'NA5098-16_HE.czi', 'NA5098-17_HE.czi', 'NA5098-18_HE.czi', 'NA5114-16_HE.czi', 'NA5114-17_HE.czi', 'NA5114-18_HE.czi', 'NA5116-16_HE.czi', 'NA5116-17_HE.czi', 'NA5116-18_HE.czi', 'NA5137-16_HE.czi', 'NA5137-17_HE.czi', 'NA5137-18_HE.czi', 'NA5146-16_HE.svs', 'NA5146-17_HE.svs', 'NA5146-18_HE.svs', 'NA5161-16_HE.czi', 'NA5161-17_HE.czi', 'NA5161-18_HE.czi']\n"
     ]
    }
   ],
   "source": [
    "if not os.path.exists(WSI_DIR):\n",
    "    print(\"WSI folder does not exist, script should stop now\")\n",
    "else:\n",
    "    if not os.path.exists(SEGMENTATION_TILE_DIR):\n",
    "        print(\"Tile folder you provided us does not exist, being created now...\")\n",
    "        os.makedirs(SEGMENTATION_TILE_DIR)\n",
    "        \n",
    "    if not os.path.exists(WSI_TILE_DIR):\n",
    "        print(\"Tile folder for WSI-level you provided us does not exist, being created now...\")\n",
    "        os.makedirs(WSI_TILE_DIR)\n",
    "\n",
    "    if not os.path.exists(SAVE_DIR):\n",
    "        print(\"Tile folder you provided us does not exist, being created now...\")\n",
    "        os.makedirs(SAVE_DIR)\n",
    "\n",
    "    if not os.path.exists(CZ_DIR):\n",
    "        print(\"Annotation folder you provided us does not exist, being created now...\")\n",
    "        os.makedirs(CZ_DIR)\n",
    "\n",
    "    if not os.path.exists(MASK_DIR):\n",
    "        print(\"Mask folder you provided us does not exist, being created now...\")\n",
    "        os.makedirs(MASK_DIR)\n",
    "\n",
    "    print(\"Found WSI folder... \")\n",
    "    wsi_slides = os.listdir(WSI_DIR)\n",
    "    imagenames = sorted(wsi_slides)\n",
    "    print(\"All WSIs in wsi_dir: \")\n",
    "    print(imagenames)"
   ]
  },
  {
   "cell_type": "code",
   "execution_count": 6,
   "id": "b6772d6e",
   "metadata": {},
   "outputs": [],
   "source": [
    "def grabCZI(path, verbose = False):\n",
    "    img = czifile.imread(path)\n",
    "    if verbose:\n",
    "        print(img.shape)\n",
    "        print(img)\n",
    "    \n",
    "    img = np.array(img, dtype = np.uint8)\n",
    "    \n",
    "    scenes = img.shape[0]\n",
    "    time = img.shape[1]\n",
    "    height = img.shape[2]\n",
    "    width = img.shape[3]\n",
    "    channels = img.shape[4]\n",
    "    \n",
    "    \n",
    "    img = img.reshape((height, width, channels))\n",
    "    if verbose:\n",
    "        print(img)\n",
    "        print(img.shape) \n",
    "        \n",
    "    dtype_to_format = {\n",
    "        'uint8': 'uchar',\n",
    "        'int8': 'char',\n",
    "        'uint16': 'ushort',\n",
    "        'int16': 'short',\n",
    "        'uint32': 'uint',\n",
    "        'int32': 'int',\n",
    "        'float32': 'float',\n",
    "        'float64': 'double',\n",
    "        'complex64': 'complex',\n",
    "        'complex128': 'dpcomplex',\n",
    "    }\n",
    "    \n",
    "    ###codes from numpy2vips\n",
    "    height, width, bands = img.shape\n",
    "    img = img.reshape(width * height * bands)\n",
    "    vips = Vips.Image.new_from_memory(img.data, width, height, bands,\n",
    "                                      dtype_to_format['uint8'])\n",
    "    try: \n",
    "        del img, height, width, bands\n",
    "        gc.collect()\n",
    "    except: \n",
    "        pass\n",
    "    \n",
    "    return vips"
   ]
  },
  {
   "cell_type": "code",
   "execution_count": 6,
   "id": "f781e3a8",
   "metadata": {},
   "outputs": [
    {
     "name": "stdout",
     "output_type": "stream",
     "text": [
      "Starting tiling....\n"
     ]
    },
    {
     "name": "stderr",
     "output_type": "stream",
     "text": [
      "  0%|          | 0/69 [00:00<?, ?it/s]"
     ]
    },
    {
     "name": "stdout",
     "output_type": "stream",
     "text": [
      "Loading NA-5029-16_HE.svs  ......\n",
      "Pre resize:  34033 x 45816\n",
      "Resizing small case\n",
      "Post resize:  68066 x 91632\n",
      "Loaded Image: /cache/Inf_May23_dataset/NA-5029-16_HE.svs\n",
      "/cache/S23_Infarct/patched_512/NA-5029-16_HE\n"
     ]
    },
    {
     "name": "stderr",
     "output_type": "stream",
     "text": [
      "  1%|▏         | 1/69 [01:12<1:22:37, 72.91s/it]"
     ]
    },
    {
     "name": "stdout",
     "output_type": "stream",
     "text": [
      "Done Tiling:  /cache/Inf_May23_dataset/NA-5029-16_HE.svs\n",
      "processed in  72.91144609451294  seconds\n",
      "____________________________________________\n",
      "Loading NA-5029-17_HE.svs  ......\n",
      "Pre resize:  33509 x 53784\n",
      "Resizing small case\n",
      "Post resize:  67018 x 107568\n",
      "Loaded Image: /cache/Inf_May23_dataset/NA-5029-17_HE.svs\n",
      "/cache/S23_Infarct/patched_512/NA-5029-17_HE\n"
     ]
    },
    {
     "name": "stderr",
     "output_type": "stream",
     "text": [
      "  3%|▎         | 2/69 [02:37<1:28:55, 79.63s/it]"
     ]
    },
    {
     "name": "stdout",
     "output_type": "stream",
     "text": [
      "Done Tiling:  /cache/Inf_May23_dataset/NA-5029-17_HE.svs\n",
      "processed in  84.34032082557678  seconds\n",
      "____________________________________________\n",
      "Loading NA-5029-18_HE.svs  ......\n",
      "Pre resize:  41428 x 47808\n",
      "Resizing small case\n",
      "Post resize:  82856 x 95616\n",
      "Loaded Image: /cache/Inf_May23_dataset/NA-5029-18_HE.svs\n",
      "/cache/S23_Infarct/patched_512/NA-5029-18_HE\n"
     ]
    },
    {
     "name": "stderr",
     "output_type": "stream",
     "text": [
      "  4%|▍         | 3/69 [04:07<1:33:01, 84.56s/it]"
     ]
    },
    {
     "name": "stdout",
     "output_type": "stream",
     "text": [
      "Done Tiling:  /cache/Inf_May23_dataset/NA-5029-18_HE.svs\n",
      "processed in  90.42372441291809  seconds\n",
      "____________________________________________\n",
      "Loading NA5004-16_HE.svs  ......\n",
      "Pre resize:  32738 x 43824\n",
      "Resizing small case\n",
      "Post resize:  65476 x 87648\n",
      "Loaded Image: /cache/Inf_May23_dataset/NA5004-16_HE.svs\n",
      "/cache/S23_Infarct/patched_512/NA5004-16_HE\n"
     ]
    },
    {
     "name": "stderr",
     "output_type": "stream",
     "text": [
      "  6%|▌         | 4/69 [05:15<1:24:20, 77.86s/it]"
     ]
    },
    {
     "name": "stdout",
     "output_type": "stream",
     "text": [
      "Done Tiling:  /cache/Inf_May23_dataset/NA5004-16_HE.svs\n",
      "processed in  67.5802903175354  seconds\n",
      "____________________________________________\n",
      "Loading NA5004-17_HE.svs  ......\n",
      "Pre resize:  38781 x 37848\n",
      "Resizing small case\n",
      "Post resize:  77562 x 75696\n",
      "Loaded Image: /cache/Inf_May23_dataset/NA5004-17_HE.svs\n",
      "/cache/S23_Infarct/patched_512/NA5004-17_HE\n"
     ]
    },
    {
     "name": "stderr",
     "output_type": "stream",
     "text": [
      "  7%|▋         | 5/69 [06:22<1:18:59, 74.06s/it]"
     ]
    },
    {
     "name": "stdout",
     "output_type": "stream",
     "text": [
      "Done Tiling:  /cache/Inf_May23_dataset/NA5004-17_HE.svs\n",
      "processed in  67.31805968284607  seconds\n",
      "____________________________________________\n",
      "Loading NA5004-18_HE.svs  ......\n",
      "Pre resize:  25985 x 43824\n",
      "Resizing small case\n",
      "Post resize:  51970 x 87648\n",
      "Loaded Image: /cache/Inf_May23_dataset/NA5004-18_HE.svs\n",
      "/cache/S23_Infarct/patched_512/NA5004-18_HE\n"
     ]
    },
    {
     "name": "stderr",
     "output_type": "stream",
     "text": [
      "  9%|▊         | 6/69 [07:15<1:10:21, 67.01s/it]"
     ]
    },
    {
     "name": "stdout",
     "output_type": "stream",
     "text": [
      "Done Tiling:  /cache/Inf_May23_dataset/NA5004-18_HE.svs\n",
      "processed in  53.323333740234375  seconds\n",
      "____________________________________________\n",
      "Loading NA5007-16_HE.svs  ......\n",
      "Pre resize:  31271 x 45816\n",
      "Resizing small case\n",
      "Post resize:  62542 x 91632\n",
      "Loaded Image: /cache/Inf_May23_dataset/NA5007-16_HE.svs\n",
      "/cache/S23_Infarct/patched_512/NA5007-16_HE\n"
     ]
    },
    {
     "name": "stderr",
     "output_type": "stream",
     "text": [
      " 10%|█         | 7/69 [08:21<1:08:50, 66.63s/it]"
     ]
    },
    {
     "name": "stdout",
     "output_type": "stream",
     "text": [
      "Done Tiling:  /cache/Inf_May23_dataset/NA5007-16_HE.svs\n",
      "processed in  65.8403651714325  seconds\n",
      "____________________________________________\n",
      "Loading NA5007-17_HE.svs  ......\n",
      "Pre resize:  35906 x 45816\n",
      "Resizing small case\n",
      "Post resize:  71812 x 91632\n",
      "Loaded Image: /cache/Inf_May23_dataset/NA5007-17_HE.svs\n",
      "/cache/S23_Infarct/patched_512/NA5007-17_HE\n"
     ]
    },
    {
     "name": "stderr",
     "output_type": "stream",
     "text": [
      " 12%|█▏        | 8/69 [09:38<1:10:54, 69.75s/it]"
     ]
    },
    {
     "name": "stdout",
     "output_type": "stream",
     "text": [
      "Done Tiling:  /cache/Inf_May23_dataset/NA5007-17_HE.svs\n",
      "processed in  76.43814277648926  seconds\n",
      "____________________________________________\n",
      "Loading NA5007-18_HE.svs  ......\n",
      "Pre resize:  32734 x 45816\n",
      "Resizing small case\n",
      "Post resize:  65468 x 91632\n",
      "Loaded Image: /cache/Inf_May23_dataset/NA5007-18_HE.svs\n",
      "/cache/S23_Infarct/patched_512/NA5007-18_HE\n"
     ]
    },
    {
     "name": "stderr",
     "output_type": "stream",
     "text": [
      " 13%|█▎        | 9/69 [10:49<1:10:16, 70.28s/it]"
     ]
    },
    {
     "name": "stdout",
     "output_type": "stream",
     "text": [
      "Done Tiling:  /cache/Inf_May23_dataset/NA5007-18_HE.svs\n",
      "processed in  71.43145871162415  seconds\n",
      "____________________________________________\n",
      "Loading NA5009-16_HE.svs  ......\n",
      "Pre resize:  76304 x 63743\n",
      "Post resize:  76304 x 63743\n",
      "Loaded Image: /cache/Inf_May23_dataset/NA5009-16_HE.svs\n",
      "/cache/S23_Infarct/patched_512/NA5009-16_HE\n"
     ]
    },
    {
     "name": "stderr",
     "output_type": "stream",
     "text": [
      " 14%|█▍        | 10/69 [11:47<1:05:22, 66.48s/it]"
     ]
    },
    {
     "name": "stdout",
     "output_type": "stream",
     "text": [
      "Done Tiling:  /cache/Inf_May23_dataset/NA5009-16_HE.svs\n",
      "processed in  57.964017152786255  seconds\n",
      "____________________________________________\n",
      "Loading NA5009-17_HE.svs  ......\n",
      "Pre resize:  73791 x 83663\n",
      "Post resize:  73791 x 83663\n",
      "Loaded Image: /cache/Inf_May23_dataset/NA5009-17_HE.svs\n",
      "/cache/S23_Infarct/patched_512/NA5009-17_HE\n"
     ]
    },
    {
     "name": "stderr",
     "output_type": "stream",
     "text": [
      " 16%|█▌        | 11/69 [13:01<1:06:26, 68.73s/it]"
     ]
    },
    {
     "name": "stdout",
     "output_type": "stream",
     "text": [
      "Done Tiling:  /cache/Inf_May23_dataset/NA5009-17_HE.svs\n",
      "processed in  73.82476758956909  seconds\n",
      "____________________________________________\n",
      "Loading NA5009-18_HE.svs  ......\n",
      "Pre resize:  62183 x 67727\n",
      "Post resize:  62183 x 67727\n",
      "Loaded Image: /cache/Inf_May23_dataset/NA5009-18_HE.svs\n",
      "/cache/S23_Infarct/patched_512/NA5009-18_HE\n"
     ]
    },
    {
     "name": "stderr",
     "output_type": "stream",
     "text": [
      " 17%|█▋        | 12/69 [13:52<1:00:12, 63.38s/it]"
     ]
    },
    {
     "name": "stdout",
     "output_type": "stream",
     "text": [
      "Done Tiling:  /cache/Inf_May23_dataset/NA5009-18_HE.svs\n",
      "processed in  51.167160511016846  seconds\n",
      "____________________________________________\n",
      "Loading NA5031-16_HE.svs  ......\n",
      "Pre resize:  39219 x 49800\n",
      "Resizing small case\n",
      "Post resize:  78438 x 99600\n",
      "Loaded Image: /cache/Inf_May23_dataset/NA5031-16_HE.svs\n",
      "/cache/S23_Infarct/patched_512/NA5031-16_HE\n"
     ]
    },
    {
     "name": "stderr",
     "output_type": "stream",
     "text": [
      " 19%|█▉        | 13/69 [15:25<1:07:37, 72.45s/it]"
     ]
    },
    {
     "name": "stdout",
     "output_type": "stream",
     "text": [
      "Done Tiling:  /cache/Inf_May23_dataset/NA5031-16_HE.svs\n",
      "processed in  93.31322073936462  seconds\n",
      "____________________________________________\n",
      "Loading NA5031-17_HE.svs  ......\n",
      "Pre resize:  40448 x 47808\n",
      "Resizing small case\n",
      "Post resize:  80896 x 95616\n",
      "Loaded Image: /cache/Inf_May23_dataset/NA5031-17_HE.svs\n",
      "/cache/S23_Infarct/patched_512/NA5031-17_HE\n"
     ]
    },
    {
     "name": "stderr",
     "output_type": "stream",
     "text": [
      " 20%|██        | 14/69 [16:57<1:11:44, 78.27s/it]"
     ]
    },
    {
     "name": "stdout",
     "output_type": "stream",
     "text": [
      "Done Tiling:  /cache/Inf_May23_dataset/NA5031-17_HE.svs\n",
      "processed in  91.70370674133301  seconds\n",
      "____________________________________________\n",
      "Loading NA5031-18_HE.svs  ......\n",
      "Pre resize:  39322 x 45816\n",
      "Resizing small case\n",
      "Post resize:  78644 x 91632\n",
      "Loaded Image: /cache/Inf_May23_dataset/NA5031-18_HE.svs\n",
      "/cache/S23_Infarct/patched_512/NA5031-18_HE\n"
     ]
    },
    {
     "name": "stderr",
     "output_type": "stream",
     "text": [
      " 22%|██▏       | 15/69 [18:21<1:12:00, 80.00s/it]"
     ]
    },
    {
     "name": "stdout",
     "output_type": "stream",
     "text": [
      "Done Tiling:  /cache/Inf_May23_dataset/NA5031-18_HE.svs\n",
      "processed in  84.02076244354248  seconds\n",
      "____________________________________________\n",
      "Loading NA5041-16_HE.svs  ......\n",
      "Pre resize:  39803 x 47808\n",
      "Resizing small case\n",
      "Post resize:  79606 x 95616\n",
      "Loaded Image: /cache/Inf_May23_dataset/NA5041-16_HE.svs\n",
      "/cache/S23_Infarct/patched_512/NA5041-16_HE\n"
     ]
    },
    {
     "name": "stderr",
     "output_type": "stream",
     "text": [
      " 23%|██▎       | 16/69 [19:52<1:13:26, 83.14s/it]"
     ]
    },
    {
     "name": "stdout",
     "output_type": "stream",
     "text": [
      "Done Tiling:  /cache/Inf_May23_dataset/NA5041-16_HE.svs\n",
      "processed in  90.4248857498169  seconds\n",
      "____________________________________________\n",
      "Loading NA5041-17_HE.svs  ......\n",
      "Pre resize:  41872 x 57768\n",
      "Resizing small case\n",
      "Post resize:  83744 x 115536\n",
      "Loaded Image: /cache/Inf_May23_dataset/NA5041-17_HE.svs\n",
      "/cache/S23_Infarct/patched_512/NA5041-17_HE\n"
     ]
    },
    {
     "name": "stderr",
     "output_type": "stream",
     "text": [
      " 25%|██▍       | 17/69 [21:45<1:19:58, 92.27s/it]"
     ]
    },
    {
     "name": "stdout",
     "output_type": "stream",
     "text": [
      "Done Tiling:  /cache/Inf_May23_dataset/NA5041-17_HE.svs\n",
      "processed in  113.51066398620605  seconds\n",
      "____________________________________________\n",
      "Loading NA5041-18_HE.svs  ......\n",
      "Pre resize:  29973 x 43824\n",
      "Resizing small case\n",
      "Post resize:  59946 x 87648\n",
      "Loaded Image: /cache/Inf_May23_dataset/NA5041-18_HE.svs\n",
      "/cache/S23_Infarct/patched_512/NA5041-18_HE\n"
     ]
    },
    {
     "name": "stderr",
     "output_type": "stream",
     "text": [
      " 26%|██▌       | 18/69 [22:47<1:10:40, 83.15s/it]"
     ]
    },
    {
     "name": "stdout",
     "output_type": "stream",
     "text": [
      "Done Tiling:  /cache/Inf_May23_dataset/NA5041-18_HE.svs\n",
      "processed in  61.91445255279541  seconds\n",
      "____________________________________________\n",
      "Loading NA5045-16_HE.svs  ......\n",
      "Pre resize:  32977 x 45816\n",
      "Resizing small case\n",
      "Post resize:  65954 x 91632\n",
      "Loaded Image: /cache/Inf_May23_dataset/NA5045-16_HE.svs\n",
      "/cache/S23_Infarct/patched_512/NA5045-16_HE\n"
     ]
    },
    {
     "name": "stderr",
     "output_type": "stream",
     "text": [
      " 28%|██▊       | 19/69 [23:59<1:06:27, 79.75s/it]"
     ]
    },
    {
     "name": "stdout",
     "output_type": "stream",
     "text": [
      "Done Tiling:  /cache/Inf_May23_dataset/NA5045-16_HE.svs\n",
      "processed in  71.84316515922546  seconds\n",
      "____________________________________________\n",
      "Loading NA5045-17_HE.svs  ......\n",
      "Pre resize:  40773 x 47808\n",
      "Resizing small case\n",
      "Post resize:  81546 x 95616\n",
      "Loaded Image: /cache/Inf_May23_dataset/NA5045-17_HE.svs\n",
      "/cache/S23_Infarct/patched_512/NA5045-17_HE\n"
     ]
    },
    {
     "name": "stderr",
     "output_type": "stream",
     "text": [
      " 29%|██▉       | 20/69 [25:31<1:08:14, 83.57s/it]"
     ]
    },
    {
     "name": "stdout",
     "output_type": "stream",
     "text": [
      "Done Tiling:  /cache/Inf_May23_dataset/NA5045-17_HE.svs\n",
      "processed in  92.45753359794617  seconds\n",
      "____________________________________________\n",
      "Loading NA5045-18_HE.svs  ......\n",
      "Pre resize:  28975 x 49800\n",
      "Resizing small case\n",
      "Post resize:  57950 x 99600\n",
      "Loaded Image: /cache/Inf_May23_dataset/NA5045-18_HE.svs\n",
      "/cache/S23_Infarct/patched_512/NA5045-18_HE\n"
     ]
    },
    {
     "name": "stderr",
     "output_type": "stream",
     "text": [
      " 30%|███       | 21/69 [26:40<1:03:17, 79.12s/it]"
     ]
    },
    {
     "name": "stdout",
     "output_type": "stream",
     "text": [
      "Done Tiling:  /cache/Inf_May23_dataset/NA5045-18_HE.svs\n",
      "processed in  68.73059391975403  seconds\n",
      "____________________________________________\n",
      "Loading NA5051-16_HE.czi  ......\n",
      "Loaded Image: /cache/Inf_May23_dataset/NA5051-16_HE.czi\n",
      "Pre resize:  82132 x 102470\n",
      "/cache/S23_Infarct/patched_512/NA5051-16_HE\n"
     ]
    },
    {
     "name": "stderr",
     "output_type": "stream",
     "text": [
      " 32%|███▏      | 22/69 [28:08<1:04:02, 81.76s/it]"
     ]
    },
    {
     "name": "stdout",
     "output_type": "stream",
     "text": [
      "Done Tiling:  /cache/Inf_May23_dataset/NA5051-16_HE.czi\n",
      "Finish Delete /cache/Inf_May23_dataset/NA5051-16_HE.czi\n",
      "processed in  87.9139986038208  seconds\n",
      "____________________________________________\n",
      "Loading NA5051-17_HE.czi  ......\n",
      "Loaded Image: /cache/Inf_May23_dataset/NA5051-17_HE.czi\n",
      "Pre resize:  102539 x 112542\n",
      "/cache/S23_Infarct/patched_512/NA5051-17_HE\n"
     ]
    },
    {
     "name": "stderr",
     "output_type": "stream",
     "text": [
      " 33%|███▎      | 23/69 [30:06<1:11:03, 92.68s/it]"
     ]
    },
    {
     "name": "stdout",
     "output_type": "stream",
     "text": [
      "Done Tiling:  /cache/Inf_May23_dataset/NA5051-17_HE.czi\n",
      "Finish Delete /cache/Inf_May23_dataset/NA5051-17_HE.czi\n",
      "processed in  118.17221188545227  seconds\n",
      "____________________________________________\n",
      "Loading NA5051-18_HE.czi  ......\n",
      "Loaded Image: /cache/Inf_May23_dataset/NA5051-18_HE.czi\n",
      "Pre resize:  65974 x 76534\n",
      "/cache/S23_Infarct/patched_512/NA5051-18_HE\n"
     ]
    },
    {
     "name": "stderr",
     "output_type": "stream",
     "text": [
      " 35%|███▍      | 24/69 [31:02<1:01:11, 81.58s/it]"
     ]
    },
    {
     "name": "stdout",
     "output_type": "stream",
     "text": [
      "Done Tiling:  /cache/Inf_May23_dataset/NA5051-18_HE.czi\n",
      "Finish Delete /cache/Inf_May23_dataset/NA5051-18_HE.czi\n",
      "processed in  55.668506145477295  seconds\n",
      "____________________________________________\n",
      "Loading NA5057-16_HE.svs  ......\n",
      "Pre resize:  32243 x 45816\n",
      "Resizing small case\n",
      "Post resize:  64486 x 91632\n",
      "Loaded Image: /cache/Inf_May23_dataset/NA5057-16_HE.svs\n",
      "/cache/S23_Infarct/patched_512/NA5057-16_HE\n"
     ]
    },
    {
     "name": "stderr",
     "output_type": "stream",
     "text": [
      " 36%|███▌      | 25/69 [32:11<57:06, 77.88s/it]  "
     ]
    },
    {
     "name": "stdout",
     "output_type": "stream",
     "text": [
      "Done Tiling:  /cache/Inf_May23_dataset/NA5057-16_HE.svs\n",
      "processed in  69.2420666217804  seconds\n",
      "____________________________________________\n",
      "Loading NA5057-17_HE.svs  ......\n",
      "Pre resize:  38022 x 45816\n",
      "Resizing small case\n",
      "Post resize:  76044 x 91632\n",
      "Loaded Image: /cache/Inf_May23_dataset/NA5057-17_HE.svs\n",
      "/cache/S23_Infarct/patched_512/NA5057-17_HE\n"
     ]
    },
    {
     "name": "stderr",
     "output_type": "stream",
     "text": [
      " 38%|███▊      | 26/69 [33:33<56:39, 79.06s/it]"
     ]
    },
    {
     "name": "stdout",
     "output_type": "stream",
     "text": [
      "Done Tiling:  /cache/Inf_May23_dataset/NA5057-17_HE.svs\n",
      "processed in  81.80628061294556  seconds\n",
      "____________________________________________\n",
      "Loading NA5057-18_HE.svs  ......\n",
      "Pre resize:  35798 x 31872\n",
      "Resizing small case\n",
      "Post resize:  71596 x 63744\n",
      "Loaded Image: /cache/Inf_May23_dataset/NA5057-18_HE.svs\n",
      "/cache/S23_Infarct/patched_512/NA5057-18_HE\n"
     ]
    },
    {
     "name": "stderr",
     "output_type": "stream",
     "text": [
      " 39%|███▉      | 27/69 [34:27<50:04, 71.54s/it]"
     ]
    },
    {
     "name": "stdout",
     "output_type": "stream",
     "text": [
      "Done Tiling:  /cache/Inf_May23_dataset/NA5057-18_HE.svs\n",
      "processed in  54.01074433326721  seconds\n",
      "____________________________________________\n",
      "Loading NA5063-16_HE.czi  ......\n",
      "Loaded Image: /cache/Inf_May23_dataset/NA5063-16_HE.czi\n",
      "Pre resize:  78883 x 102452\n",
      "/cache/S23_Infarct/patched_512/NA5063-16_HE\n"
     ]
    },
    {
     "name": "stderr",
     "output_type": "stream",
     "text": [
      " 41%|████      | 28/69 [35:50<51:10, 74.90s/it]"
     ]
    },
    {
     "name": "stdout",
     "output_type": "stream",
     "text": [
      "Done Tiling:  /cache/Inf_May23_dataset/NA5063-16_HE.czi\n",
      "Finish Delete /cache/Inf_May23_dataset/NA5063-16_HE.czi\n",
      "processed in  82.73620390892029  seconds\n",
      "____________________________________________\n",
      "Loading NA5063-17_HE.czi  ......\n",
      "Loaded Image: /cache/Inf_May23_dataset/NA5063-17_HE.czi\n",
      "Pre resize:  86400 x 92365\n",
      "/cache/S23_Infarct/patched_512/NA5063-17_HE\n"
     ]
    },
    {
     "name": "stderr",
     "output_type": "stream",
     "text": [
      " 42%|████▏     | 29/69 [37:17<52:22, 78.56s/it]"
     ]
    },
    {
     "name": "stdout",
     "output_type": "stream",
     "text": [
      "Done Tiling:  /cache/Inf_May23_dataset/NA5063-17_HE.czi\n",
      "Finish Delete /cache/Inf_May23_dataset/NA5063-17_HE.czi\n",
      "processed in  87.08329367637634  seconds\n",
      "____________________________________________\n",
      "Loading NA5063-18_HE.czi  ......\n",
      "Loaded Image: /cache/Inf_May23_dataset/NA5063-18_HE.czi\n",
      "Pre resize:  71310 x 69312\n",
      "/cache/S23_Infarct/patched_512/NA5063-18_HE\n"
     ]
    },
    {
     "name": "stderr",
     "output_type": "stream",
     "text": [
      " 43%|████▎     | 30/69 [38:08<45:47, 70.44s/it]"
     ]
    },
    {
     "name": "stdout",
     "output_type": "stream",
     "text": [
      "Done Tiling:  /cache/Inf_May23_dataset/NA5063-18_HE.czi\n",
      "Finish Delete /cache/Inf_May23_dataset/NA5063-18_HE.czi\n",
      "processed in  51.51707983016968  seconds\n",
      "____________________________________________\n",
      "Loading NA5077-16_HE.czi  ......\n",
      "Loaded Image: /cache/Inf_May23_dataset/NA5077-16_HE.czi\n",
      "Pre resize:  75664 x 83725\n",
      "/cache/S23_Infarct/patched_512/NA5077-16_HE\n"
     ]
    },
    {
     "name": "stderr",
     "output_type": "stream",
     "text": [
      " 45%|████▍     | 31/69 [39:18<44:33, 70.37s/it]"
     ]
    },
    {
     "name": "stdout",
     "output_type": "stream",
     "text": [
      "Done Tiling:  /cache/Inf_May23_dataset/NA5077-16_HE.czi\n",
      "Finish Delete /cache/Inf_May23_dataset/NA5077-16_HE.czi\n",
      "processed in  70.17943930625916  seconds\n",
      "____________________________________________\n",
      "Loading NA5077-17_HE.czi  ......\n",
      "Loaded Image: /cache/Inf_May23_dataset/NA5077-17_HE.czi\n",
      "Pre resize:  75664 x 118281\n",
      "/cache/S23_Infarct/patched_512/NA5077-17_HE\n"
     ]
    },
    {
     "name": "stderr",
     "output_type": "stream",
     "text": [
      " 46%|████▋     | 32/69 [40:46<46:36, 75.58s/it]"
     ]
    },
    {
     "name": "stdout",
     "output_type": "stream",
     "text": [
      "Done Tiling:  /cache/Inf_May23_dataset/NA5077-17_HE.czi\n",
      "Finish Delete /cache/Inf_May23_dataset/NA5077-17_HE.czi\n",
      "processed in  87.75253891944885  seconds\n",
      "____________________________________________\n",
      "Loading NA5077-18_HE.czi  ......\n",
      "Loaded Image: /cache/Inf_May23_dataset/NA5077-18_HE.czi\n",
      "Pre resize:  81060 x 86659\n",
      "/cache/S23_Infarct/patched_512/NA5077-18_HE\n"
     ]
    },
    {
     "name": "stderr",
     "output_type": "stream",
     "text": [
      " 48%|████▊     | 33/69 [41:58<44:42, 74.52s/it]"
     ]
    },
    {
     "name": "stdout",
     "output_type": "stream",
     "text": [
      "Done Tiling:  /cache/Inf_May23_dataset/NA5077-18_HE.czi\n",
      "Finish Delete /cache/Inf_May23_dataset/NA5077-18_HE.czi\n",
      "processed in  72.03708386421204  seconds\n",
      "____________________________________________\n",
      "Loading NA5085-16_HE.czi  ......\n",
      "Loaded Image: /cache/Inf_May23_dataset/NA5085-16_HE.czi\n",
      "Pre resize:  78923 x 124053\n",
      "/cache/S23_Infarct/patched_512/NA5085-16_HE\n"
     ]
    },
    {
     "name": "stderr",
     "output_type": "stream",
     "text": [
      " 49%|████▉     | 34/69 [43:34<47:12, 80.92s/it]"
     ]
    },
    {
     "name": "stdout",
     "output_type": "stream",
     "text": [
      "Done Tiling:  /cache/Inf_May23_dataset/NA5085-16_HE.czi\n",
      "Finish Delete /cache/Inf_May23_dataset/NA5085-16_HE.czi\n",
      "processed in  95.84229636192322  seconds\n",
      "____________________________________________\n",
      "Loading NA5085-17_HE.czi  ......\n",
      "Loaded Image: /cache/Inf_May23_dataset/NA5085-17_HE.czi\n",
      "Pre resize:  88615 x 132743\n",
      "/cache/S23_Infarct/patched_512/NA5085-17_HE\n"
     ]
    },
    {
     "name": "stderr",
     "output_type": "stream",
     "text": [
      " 51%|█████     | 35/69 [45:48<54:53, 96.87s/it]"
     ]
    },
    {
     "name": "stdout",
     "output_type": "stream",
     "text": [
      "Done Tiling:  /cache/Inf_May23_dataset/NA5085-17_HE.czi\n",
      "Finish Delete /cache/Inf_May23_dataset/NA5085-17_HE.czi\n",
      "processed in  134.1004102230072  seconds\n",
      "____________________________________________\n",
      "Loading NA5085-18_HE.czi  ......\n",
      "Loaded Image: /cache/Inf_May23_dataset/NA5085-18_HE.czi\n",
      "Pre resize:  75675 x 89507\n",
      "/cache/S23_Infarct/patched_512/NA5085-18_HE\n"
     ]
    },
    {
     "name": "stderr",
     "output_type": "stream",
     "text": [
      " 52%|█████▏    | 36/69 [47:00<49:06, 89.27s/it]"
     ]
    },
    {
     "name": "stdout",
     "output_type": "stream",
     "text": [
      "Done Tiling:  /cache/Inf_May23_dataset/NA5085-18_HE.czi\n",
      "Finish Delete /cache/Inf_May23_dataset/NA5085-18_HE.czi\n",
      "processed in  71.54345703125  seconds\n",
      "____________________________________________\n",
      "Loading NA5089-16_HE.czi  ......\n",
      "Loaded Image: /cache/Inf_May23_dataset/NA5089-16_HE.czi\n",
      "Pre resize:  77787 x 105331\n",
      "/cache/S23_Infarct/patched_512/NA5089-16_HE\n"
     ]
    },
    {
     "name": "stderr",
     "output_type": "stream",
     "text": [
      " 54%|█████▎    | 37/69 [48:27<47:16, 88.65s/it]"
     ]
    },
    {
     "name": "stdout",
     "output_type": "stream",
     "text": [
      "Done Tiling:  /cache/Inf_May23_dataset/NA5089-16_HE.czi\n",
      "Finish Delete /cache/Inf_May23_dataset/NA5089-16_HE.czi\n",
      "processed in  87.17710947990417  seconds\n",
      "____________________________________________\n",
      "Loading NA5089-17_HE.czi  ......\n",
      "Loaded Image: /cache/Inf_May23_dataset/NA5089-17_HE.czi\n",
      "Pre resize:  83221 x 125462\n",
      "/cache/S23_Infarct/patched_512/NA5089-17_HE\n"
     ]
    },
    {
     "name": "stderr",
     "output_type": "stream",
     "text": [
      " 55%|█████▌    | 38/69 [50:14<48:44, 94.33s/it]"
     ]
    },
    {
     "name": "stdout",
     "output_type": "stream",
     "text": [
      "Done Tiling:  /cache/Inf_May23_dataset/NA5089-17_HE.czi\n",
      "Finish Delete /cache/Inf_May23_dataset/NA5089-17_HE.czi\n",
      "processed in  107.60836744308472  seconds\n",
      "____________________________________________\n",
      "Loading NA5089-18_HE.czi  ......\n",
      "Loaded Image: /cache/Inf_May23_dataset/NA5089-18_HE.czi\n",
      "Pre resize:  92921 x 86686\n",
      "/cache/S23_Infarct/patched_512/NA5089-18_HE\n"
     ]
    },
    {
     "name": "stderr",
     "output_type": "stream",
     "text": [
      " 57%|█████▋    | 39/69 [51:34<44:57, 89.91s/it]"
     ]
    },
    {
     "name": "stdout",
     "output_type": "stream",
     "text": [
      "Done Tiling:  /cache/Inf_May23_dataset/NA5089-18_HE.czi\n",
      "Finish Delete /cache/Inf_May23_dataset/NA5089-18_HE.czi\n",
      "processed in  79.59656238555908  seconds\n",
      "____________________________________________\n",
      "Loading NA5090-16_HE.czi  ......\n",
      "Loaded Image: /cache/Inf_May23_dataset/NA5090-16_HE.czi\n",
      "Pre resize:  70268 x 82356\n",
      "/cache/S23_Infarct/patched_512/NA5090-16_HE\n"
     ]
    },
    {
     "name": "stderr",
     "output_type": "stream",
     "text": [
      " 58%|█████▊    | 40/69 [52:35<39:17, 81.28s/it]"
     ]
    },
    {
     "name": "stdout",
     "output_type": "stream",
     "text": [
      "Done Tiling:  /cache/Inf_May23_dataset/NA5090-16_HE.czi\n",
      "Finish Delete /cache/Inf_May23_dataset/NA5090-16_HE.czi\n",
      "processed in  61.129791498184204  seconds\n",
      "____________________________________________\n",
      "Loading NA5090-17_HE.czi  ......\n",
      "Loaded Image: /cache/Inf_May23_dataset/NA5090-17_HE.czi\n",
      "Pre resize:  97250 x 102463\n",
      "/cache/S23_Infarct/patched_512/NA5090-17_HE\n"
     ]
    },
    {
     "name": "stderr",
     "output_type": "stream",
     "text": [
      " 59%|█████▉    | 41/69 [54:22<41:31, 89.00s/it]"
     ]
    },
    {
     "name": "stdout",
     "output_type": "stream",
     "text": [
      "Done Tiling:  /cache/Inf_May23_dataset/NA5090-17_HE.czi\n",
      "Finish Delete /cache/Inf_May23_dataset/NA5090-17_HE.czi\n",
      "processed in  107.01055908203125  seconds\n",
      "____________________________________________\n",
      "Loading NA5090-18_HE.czi  ......\n",
      "Loaded Image: /cache/Inf_May23_dataset/NA5090-18_HE.czi\n",
      "Pre resize:  77820 x 85200\n",
      "/cache/S23_Infarct/patched_512/NA5090-18_HE\n"
     ]
    },
    {
     "name": "stderr",
     "output_type": "stream",
     "text": [
      " 61%|██████    | 42/69 [55:26<36:40, 81.49s/it]"
     ]
    },
    {
     "name": "stdout",
     "output_type": "stream",
     "text": [
      "Done Tiling:  /cache/Inf_May23_dataset/NA5090-18_HE.czi\n",
      "Finish Delete /cache/Inf_May23_dataset/NA5090-18_HE.czi\n",
      "processed in  63.978079319000244  seconds\n",
      "____________________________________________\n",
      "Loading NA5091-16_HE.czi  ......\n",
      "Loaded Image: /cache/Inf_May23_dataset/NA5091-16_HE.czi\n",
      "Pre resize:  69180 x 93850\n",
      "/cache/S23_Infarct/patched_512/NA5091-16_HE\n"
     ]
    },
    {
     "name": "stderr",
     "output_type": "stream",
     "text": [
      " 62%|██████▏   | 43/69 [56:35<33:43, 77.84s/it]"
     ]
    },
    {
     "name": "stdout",
     "output_type": "stream",
     "text": [
      "Done Tiling:  /cache/Inf_May23_dataset/NA5091-16_HE.czi\n",
      "Finish Delete /cache/Inf_May23_dataset/NA5091-16_HE.czi\n",
      "processed in  69.31801748275757  seconds\n",
      "____________________________________________\n",
      "Loading NA5091-17_HE.czi  ......\n",
      "Loaded Image: /cache/Inf_May23_dataset/NA5091-17_HE.czi\n",
      "Pre resize:  103704 x 124124\n",
      "/cache/S23_Infarct/patched_512/NA5091-17_HE\n"
     ]
    },
    {
     "name": "stderr",
     "output_type": "stream",
     "text": [
      " 64%|██████▍   | 44/69 [58:51<39:38, 95.14s/it]"
     ]
    },
    {
     "name": "stdout",
     "output_type": "stream",
     "text": [
      "Done Tiling:  /cache/Inf_May23_dataset/NA5091-17_HE.czi\n",
      "Finish Delete /cache/Inf_May23_dataset/NA5091-17_HE.czi\n",
      "processed in  135.50541257858276  seconds\n",
      "____________________________________________\n",
      "Loading NA5091-18_HE.czi  ......\n",
      "Loaded Image: /cache/Inf_May23_dataset/NA5091-18_HE.czi\n",
      "Pre resize:  71312 x 83719\n",
      "/cache/S23_Infarct/patched_512/NA5091-18_HE\n"
     ]
    },
    {
     "name": "stderr",
     "output_type": "stream",
     "text": [
      " 65%|██████▌   | 45/69 [59:50<33:44, 84.35s/it]"
     ]
    },
    {
     "name": "stdout",
     "output_type": "stream",
     "text": [
      "Done Tiling:  /cache/Inf_May23_dataset/NA5091-18_HE.czi\n",
      "Finish Delete /cache/Inf_May23_dataset/NA5091-18_HE.czi\n",
      "processed in  59.161136627197266  seconds\n",
      "____________________________________________\n",
      "Loading NA5093-16_HE.czi  ......\n",
      "Loaded Image: /cache/Inf_May23_dataset/NA5093-16_HE.czi\n",
      "Pre resize:  90746 x 131258\n",
      "/cache/S23_Infarct/patched_512/NA5093-16_HE\n"
     ]
    },
    {
     "name": "stderr",
     "output_type": "stream",
     "text": [
      " 67%|██████▋   | 46/69 [1:01:52<36:39, 95.65s/it]"
     ]
    },
    {
     "name": "stdout",
     "output_type": "stream",
     "text": [
      "Done Tiling:  /cache/Inf_May23_dataset/NA5093-16_HE.czi\n",
      "Finish Delete /cache/Inf_May23_dataset/NA5093-16_HE.czi\n",
      "processed in  122.00854086875916  seconds\n",
      "____________________________________________\n",
      "Loading NA5093-17_HE.czi  ......\n",
      "Loaded Image: /cache/Inf_May23_dataset/NA5093-17_HE.czi\n",
      "Pre resize:  82114 x 86587\n",
      "/cache/S23_Infarct/patched_512/NA5093-17_HE\n"
     ]
    },
    {
     "name": "stderr",
     "output_type": "stream",
     "text": [
      " 68%|██████▊   | 47/69 [1:03:08<32:55, 89.81s/it]"
     ]
    },
    {
     "name": "stdout",
     "output_type": "stream",
     "text": [
      "Done Tiling:  /cache/Inf_May23_dataset/NA5093-17_HE.czi\n",
      "Finish Delete /cache/Inf_May23_dataset/NA5093-17_HE.czi\n",
      "processed in  76.18675303459167  seconds\n",
      "____________________________________________\n",
      "Loading NA5093-18_HE.czi  ......\n",
      "Loaded Image: /cache/Inf_May23_dataset/NA5093-18_HE.czi\n",
      "Pre resize:  81054 x 92345\n",
      "/cache/S23_Infarct/patched_512/NA5093-18_HE\n"
     ]
    },
    {
     "name": "stderr",
     "output_type": "stream",
     "text": [
      " 70%|██████▉   | 48/69 [1:04:24<29:59, 85.70s/it]"
     ]
    },
    {
     "name": "stdout",
     "output_type": "stream",
     "text": [
      "Done Tiling:  /cache/Inf_May23_dataset/NA5093-18_HE.czi\n",
      "Finish Delete /cache/Inf_May23_dataset/NA5093-18_HE.czi\n",
      "processed in  76.12409162521362  seconds\n",
      "____________________________________________\n",
      "Loading NA5095-16_HE.czi  ......\n",
      "Loaded Image: /cache/Inf_May23_dataset/NA5095-16_HE.czi\n",
      "Pre resize:  89689 x 89554\n",
      "/cache/S23_Infarct/patched_512/NA5095-16_HE\n"
     ]
    },
    {
     "name": "stderr",
     "output_type": "stream",
     "text": [
      " 71%|███████   | 49/69 [1:05:49<28:25, 85.26s/it]"
     ]
    },
    {
     "name": "stdout",
     "output_type": "stream",
     "text": [
      "Done Tiling:  /cache/Inf_May23_dataset/NA5095-16_HE.czi\n",
      "Finish Delete /cache/Inf_May23_dataset/NA5095-16_HE.czi\n",
      "processed in  84.22979259490967  seconds\n",
      "____________________________________________\n",
      "Loading NA5095-17_HE.czi  ......\n",
      "Loaded Image: /cache/Inf_May23_dataset/NA5095-17_HE.czi\n",
      "Pre resize:  105876 x 121175\n",
      "/cache/S23_Infarct/patched_512/NA5095-17_HE\n"
     ]
    },
    {
     "name": "stderr",
     "output_type": "stream",
     "text": [
      " 72%|███████▏  | 50/69 [1:08:08<32:10, 101.61s/it]"
     ]
    },
    {
     "name": "stdout",
     "output_type": "stream",
     "text": [
      "Done Tiling:  /cache/Inf_May23_dataset/NA5095-17_HE.czi\n",
      "Finish Delete /cache/Inf_May23_dataset/NA5095-17_HE.czi\n",
      "processed in  139.75766801834106  seconds\n",
      "____________________________________________\n",
      "Loading NA5095-18_HE.czi  ......\n",
      "Loaded Image: /cache/Inf_May23_dataset/NA5095-18_HE.czi\n",
      "Pre resize:  79983 x 102518\n",
      "/cache/S23_Infarct/patched_512/NA5095-18_HE\n"
     ]
    },
    {
     "name": "stderr",
     "output_type": "stream",
     "text": [
      " 74%|███████▍  | 51/69 [1:09:32<28:53, 96.31s/it] "
     ]
    },
    {
     "name": "stdout",
     "output_type": "stream",
     "text": [
      "Done Tiling:  /cache/Inf_May23_dataset/NA5095-18_HE.czi\n",
      "Finish Delete /cache/Inf_May23_dataset/NA5095-18_HE.czi\n",
      "processed in  83.93958687782288  seconds\n",
      "____________________________________________\n",
      "Loading NA5098-16_HE.czi  ......\n",
      "Loaded Image: /cache/Inf_May23_dataset/NA5098-16_HE.czi\n",
      "Pre resize:  73484 x 69396\n",
      "/cache/S23_Infarct/patched_512/NA5098-16_HE\n"
     ]
    },
    {
     "name": "stderr",
     "output_type": "stream",
     "text": [
      " 75%|███████▌  | 52/69 [1:10:29<23:54, 84.37s/it]"
     ]
    },
    {
     "name": "stdout",
     "output_type": "stream",
     "text": [
      "Done Tiling:  /cache/Inf_May23_dataset/NA5098-16_HE.czi\n",
      "Finish Delete /cache/Inf_May23_dataset/NA5098-16_HE.czi\n",
      "processed in  56.50024914741516  seconds\n",
      "____________________________________________\n",
      "Loading NA5098-17_HE.czi  ......\n",
      "Loaded Image: /cache/Inf_May23_dataset/NA5098-17_HE.czi\n",
      "Pre resize:  89666 x 102438\n",
      "/cache/S23_Infarct/patched_512/NA5098-17_HE\n"
     ]
    },
    {
     "name": "stderr",
     "output_type": "stream",
     "text": [
      " 77%|███████▋  | 53/69 [1:12:06<23:29, 88.09s/it]"
     ]
    },
    {
     "name": "stdout",
     "output_type": "stream",
     "text": [
      "Done Tiling:  /cache/Inf_May23_dataset/NA5098-17_HE.czi\n",
      "Finish Delete /cache/Inf_May23_dataset/NA5098-17_HE.czi\n",
      "processed in  96.77826023101807  seconds\n",
      "____________________________________________\n",
      "Loading NA5098-18_HE.czi  ......\n",
      "Loaded Image: /cache/Inf_May23_dataset/NA5098-18_HE.czi\n",
      "Pre resize:  59453 x 85154\n",
      "/cache/S23_Infarct/patched_512/NA5098-18_HE\n"
     ]
    },
    {
     "name": "stderr",
     "output_type": "stream",
     "text": [
      " 78%|███████▊  | 54/69 [1:12:58<19:21, 77.44s/it]"
     ]
    },
    {
     "name": "stdout",
     "output_type": "stream",
     "text": [
      "Done Tiling:  /cache/Inf_May23_dataset/NA5098-18_HE.czi\n",
      "Finish Delete /cache/Inf_May23_dataset/NA5098-18_HE.czi\n",
      "processed in  52.57567811012268  seconds\n",
      "____________________________________________\n",
      "Loading NA5114-16_HE.czi  ......\n",
      "Loaded Image: /cache/Inf_May23_dataset/NA5114-16_HE.czi\n",
      "Pre resize:  97244 x 142848\n",
      "/cache/S23_Infarct/patched_512/NA5114-16_HE\n"
     ]
    },
    {
     "name": "stderr",
     "output_type": "stream",
     "text": [
      " 80%|███████▉  | 55/69 [1:15:13<22:04, 94.57s/it]"
     ]
    },
    {
     "name": "stdout",
     "output_type": "stream",
     "text": [
      "Done Tiling:  /cache/Inf_May23_dataset/NA5114-16_HE.czi\n",
      "Finish Delete /cache/Inf_May23_dataset/NA5114-16_HE.czi\n",
      "processed in  134.56202268600464  seconds\n",
      "____________________________________________\n",
      "Loading NA5114-17_HE.czi  ......\n",
      "Loaded Image: /cache/Inf_May23_dataset/NA5114-17_HE.czi\n",
      "Pre resize:  75686 x 108274\n",
      "/cache/S23_Infarct/patched_512/NA5114-17_HE\n"
     ]
    },
    {
     "name": "stderr",
     "output_type": "stream",
     "text": [
      " 81%|████████  | 56/69 [1:16:38<19:51, 91.66s/it]"
     ]
    },
    {
     "name": "stdout",
     "output_type": "stream",
     "text": [
      "Done Tiling:  /cache/Inf_May23_dataset/NA5114-17_HE.czi\n",
      "Finish Delete /cache/Inf_May23_dataset/NA5114-17_HE.czi\n",
      "processed in  84.86516523361206  seconds\n",
      "____________________________________________\n",
      "Loading NA5114-18_HE.czi  ......\n",
      "Loaded Image: /cache/Inf_May23_dataset/NA5114-18_HE.czi\n",
      "Pre resize:  88608 x 134326\n",
      "/cache/S23_Infarct/patched_512/NA5114-18_HE\n"
     ]
    },
    {
     "name": "stderr",
     "output_type": "stream",
     "text": [
      " 83%|████████▎ | 57/69 [1:18:39<20:08, 100.70s/it]"
     ]
    },
    {
     "name": "stdout",
     "output_type": "stream",
     "text": [
      "Done Tiling:  /cache/Inf_May23_dataset/NA5114-18_HE.czi\n",
      "Finish Delete /cache/Inf_May23_dataset/NA5114-18_HE.czi\n",
      "processed in  121.77774810791016  seconds\n",
      "____________________________________________\n",
      "Loading NA5116-16_HE.czi  ......\n",
      "Loaded Image: /cache/Inf_May23_dataset/NA5116-16_HE.czi\n",
      "Pre resize:  82114 x 79382\n",
      "/cache/S23_Infarct/patched_512/NA5116-16_HE\n"
     ]
    },
    {
     "name": "stderr",
     "output_type": "stream",
     "text": [
      " 84%|████████▍ | 58/69 [1:19:46<16:36, 90.57s/it] "
     ]
    },
    {
     "name": "stdout",
     "output_type": "stream",
     "text": [
      "Done Tiling:  /cache/Inf_May23_dataset/NA5116-16_HE.czi\n",
      "Finish Delete /cache/Inf_May23_dataset/NA5116-16_HE.czi\n",
      "processed in  66.92521739006042  seconds\n",
      "____________________________________________\n",
      "Loading NA5116-17_HE.czi  ......\n",
      "Loaded Image: /cache/Inf_May23_dataset/NA5116-17_HE.czi\n",
      "Pre resize:  75635 x 108183\n",
      "/cache/S23_Infarct/patched_512/NA5116-17_HE\n"
     ]
    },
    {
     "name": "stderr",
     "output_type": "stream",
     "text": [
      " 86%|████████▌ | 59/69 [1:21:12<14:51, 89.14s/it]"
     ]
    },
    {
     "name": "stdout",
     "output_type": "stream",
     "text": [
      "Done Tiling:  /cache/Inf_May23_dataset/NA5116-17_HE.czi\n",
      "Finish Delete /cache/Inf_May23_dataset/NA5116-17_HE.czi\n",
      "processed in  85.82036566734314  seconds\n",
      "____________________________________________\n",
      "Loading NA5116-18_HE.czi  ......\n",
      "Loaded Image: /cache/Inf_May23_dataset/NA5116-18_HE.czi\n",
      "Pre resize:  73466 x 118297\n",
      "/cache/S23_Infarct/patched_512/NA5116-18_HE\n"
     ]
    },
    {
     "name": "stderr",
     "output_type": "stream",
     "text": [
      " 87%|████████▋ | 60/69 [1:22:42<13:24, 89.36s/it]"
     ]
    },
    {
     "name": "stdout",
     "output_type": "stream",
     "text": [
      "Done Tiling:  /cache/Inf_May23_dataset/NA5116-18_HE.czi\n",
      "Finish Delete /cache/Inf_May23_dataset/NA5116-18_HE.czi\n",
      "processed in  89.88143992424011  seconds\n",
      "____________________________________________\n",
      "Loading NA5137-16_HE.czi  ......\n",
      "Loaded Image: /cache/Inf_May23_dataset/NA5137-16_HE.czi\n",
      "Pre resize:  59461 x 89487\n",
      "/cache/S23_Infarct/patched_512/NA5137-16_HE\n"
     ]
    },
    {
     "name": "stderr",
     "output_type": "stream",
     "text": [
      " 88%|████████▊ | 61/69 [1:23:41<10:42, 80.36s/it]"
     ]
    },
    {
     "name": "stdout",
     "output_type": "stream",
     "text": [
      "Done Tiling:  /cache/Inf_May23_dataset/NA5137-16_HE.czi\n",
      "Finish Delete /cache/Inf_May23_dataset/NA5137-16_HE.czi\n",
      "processed in  59.335132122039795  seconds\n",
      "____________________________________________\n",
      "Loading NA5137-17_HE.czi  ......\n",
      "Loaded Image: /cache/Inf_May23_dataset/NA5137-17_HE.czi\n",
      "Pre resize:  84281 x 112511\n",
      "/cache/S23_Infarct/patched_512/NA5137-17_HE\n"
     ]
    },
    {
     "name": "stderr",
     "output_type": "stream",
     "text": [
      " 90%|████████▉ | 62/69 [1:25:20<10:01, 85.94s/it]"
     ]
    },
    {
     "name": "stdout",
     "output_type": "stream",
     "text": [
      "Done Tiling:  /cache/Inf_May23_dataset/NA5137-17_HE.czi\n",
      "Finish Delete /cache/Inf_May23_dataset/NA5137-17_HE.czi\n",
      "processed in  98.98392415046692  seconds\n",
      "____________________________________________\n",
      "Loading NA5137-18_HE.czi  ......\n",
      "Loaded Image: /cache/Inf_May23_dataset/NA5137-18_HE.czi\n",
      "Pre resize:  56222 x 52070\n",
      "/cache/S23_Infarct/patched_512/NA5137-18_HE\n"
     ]
    },
    {
     "name": "stderr",
     "output_type": "stream",
     "text": [
      " 91%|█████████▏| 63/69 [1:25:53<06:59, 69.98s/it]"
     ]
    },
    {
     "name": "stdout",
     "output_type": "stream",
     "text": [
      "Done Tiling:  /cache/Inf_May23_dataset/NA5137-18_HE.czi\n",
      "Finish Delete /cache/Inf_May23_dataset/NA5137-18_HE.czi\n",
      "processed in  32.743079662323  seconds\n",
      "____________________________________________\n",
      "Loading NA5146-16_HE.svs  ......\n",
      "Pre resize:  34899 x 51792\n",
      "Resizing small case\n",
      "Post resize:  69798 x 103584\n",
      "Loaded Image: /cache/Inf_May23_dataset/NA5146-16_HE.svs\n",
      "/cache/S23_Infarct/patched_512/NA5146-16_HE\n"
     ]
    },
    {
     "name": "stderr",
     "output_type": "stream",
     "text": [
      " 93%|█████████▎| 64/69 [1:27:18<06:12, 74.41s/it]"
     ]
    },
    {
     "name": "stdout",
     "output_type": "stream",
     "text": [
      "Done Tiling:  /cache/Inf_May23_dataset/NA5146-16_HE.svs\n",
      "processed in  84.74390244483948  seconds\n",
      "____________________________________________\n",
      "Loading NA5146-17_HE.svs  ......\n",
      "Pre resize:  33624 x 45816\n",
      "Resizing small case\n",
      "Post resize:  67248 x 91632\n",
      "Loaded Image: /cache/Inf_May23_dataset/NA5146-17_HE.svs\n",
      "/cache/S23_Infarct/patched_512/NA5146-17_HE\n"
     ]
    },
    {
     "name": "stderr",
     "output_type": "stream",
     "text": [
      " 94%|█████████▍| 65/69 [1:28:29<04:53, 73.50s/it]"
     ]
    },
    {
     "name": "stdout",
     "output_type": "stream",
     "text": [
      "Done Tiling:  /cache/Inf_May23_dataset/NA5146-17_HE.svs\n",
      "processed in  71.36595058441162  seconds\n",
      "____________________________________________\n",
      "Loading NA5146-18_HE.svs  ......\n",
      "Pre resize:  32618 x 33864\n",
      "Resizing small case\n",
      "Post resize:  65236 x 67728\n",
      "Loaded Image: /cache/Inf_May23_dataset/NA5146-18_HE.svs\n",
      "/cache/S23_Infarct/patched_512/NA5146-18_HE\n"
     ]
    },
    {
     "name": "stderr",
     "output_type": "stream",
     "text": [
      " 96%|█████████▌| 66/69 [1:29:20<03:20, 66.76s/it]"
     ]
    },
    {
     "name": "stdout",
     "output_type": "stream",
     "text": [
      "Done Tiling:  /cache/Inf_May23_dataset/NA5146-18_HE.svs\n",
      "processed in  51.049360036849976  seconds\n",
      "____________________________________________\n",
      "Loading NA5161-16_HE.czi  ......\n",
      "Loaded Image: /cache/Inf_May23_dataset/NA5161-16_HE.czi\n",
      "Pre resize:  71435 x 101053\n",
      "/cache/S23_Infarct/patched_512/NA5161-16_HE\n"
     ]
    },
    {
     "name": "stderr",
     "output_type": "stream",
     "text": [
      " 97%|█████████▋| 67/69 [1:30:41<02:21, 70.90s/it]"
     ]
    },
    {
     "name": "stdout",
     "output_type": "stream",
     "text": [
      "Done Tiling:  /cache/Inf_May23_dataset/NA5161-16_HE.czi\n",
      "Finish Delete /cache/Inf_May23_dataset/NA5161-16_HE.czi\n",
      "processed in  80.53560066223145  seconds\n",
      "____________________________________________\n",
      "Loading NA5161-17_HE.czi  ......\n",
      "Loaded Image: /cache/Inf_May23_dataset/NA5161-17_HE.czi\n",
      "Pre resize:  87597 x 105358\n",
      "/cache/S23_Infarct/patched_512/NA5161-17_HE\n"
     ]
    },
    {
     "name": "stderr",
     "output_type": "stream",
     "text": [
      " 99%|█████████▊| 68/69 [1:32:23<01:20, 80.24s/it]"
     ]
    },
    {
     "name": "stdout",
     "output_type": "stream",
     "text": [
      "Done Tiling:  /cache/Inf_May23_dataset/NA5161-17_HE.czi\n",
      "Finish Delete /cache/Inf_May23_dataset/NA5161-17_HE.czi\n",
      "processed in  102.05071091651917  seconds\n",
      "____________________________________________\n",
      "Loading NA5161-18_HE.czi  ......\n",
      "Loaded Image: /cache/Inf_May23_dataset/NA5161-18_HE.czi\n",
      "Pre resize:  63797 x 70783\n",
      "/cache/S23_Infarct/patched_512/NA5161-18_HE\n"
     ]
    },
    {
     "name": "stderr",
     "output_type": "stream",
     "text": [
      "100%|██████████| 69/69 [1:33:13<00:00, 81.07s/it]"
     ]
    },
    {
     "name": "stdout",
     "output_type": "stream",
     "text": [
      "Done Tiling:  /cache/Inf_May23_dataset/NA5161-18_HE.czi\n",
      "Finish Delete /cache/Inf_May23_dataset/NA5161-18_HE.czi\n",
      "processed in  50.153114318847656  seconds\n",
      "____________________________________________\n"
     ]
    },
    {
     "name": "stderr",
     "output_type": "stream",
     "text": [
      "\n"
     ]
    }
   ],
   "source": [
    "###### SEGMENTATION / WSI-level Pipeline - Tile\n",
    "\n",
    "print(\"Starting tiling....\")\n",
    "for imagename in tqdm(imagenames[:]):\n",
    "    start = time.time()\n",
    "    if imagename.split('.')[-1] == 'svs':\n",
    "        NAID = imagename.split('.')[0]\n",
    "        print(\"Loading\", imagename, \" ......\")\n",
    "        vips_img = Vips.Image.new_from_file(WSI_DIR + imagename, level=0)\n",
    "        \n",
    "        print(\"Pre resize: \", vips_img.height, \"x\", vips_img.width)\n",
    "        \n",
    "        if NAID in ['NA5009-16_HE', 'NA5009-17_HE', 'NA5009-18_HE']:\n",
    "            pass\n",
    "            #vips_img = vips_img.resize(0.25)\n",
    "        else:\n",
    "            print(\"Resizing small case\")\n",
    "            vips_img = vips_img.resize(2)\n",
    "            \n",
    "        print(\"Post resize: \", vips_img.height, \"x\", vips_img.width)\n",
    "            \n",
    "        print(\"Loaded Image: \" + WSI_DIR + imagename)\n",
    "\n",
    "        if tile_svs:\n",
    "        \n",
    "            vips_utils.save_and_tile(vips_img, os.path.splitext(imagename)[0] \\\n",
    "                                     , SAVE_DIR, tile_size = TILE_SIZE)\n",
    "            print(\"Done Tiling: \", WSI_DIR + imagename)\n",
    "        \n",
    "    elif imagename.split('.')[-1] == 'czi':\n",
    "        NAID = imagename.split('.')[0]\n",
    "        print(\"Loading\", imagename, \" ......\")\n",
    "        try: \n",
    "            vips_img = grabCZI(WSI_DIR + imagename)\n",
    "            print(\"Loaded Image: \" + WSI_DIR + imagename)\n",
    "            \n",
    "            print(\"Pre resize: \", vips_img.height, \"x\", vips_img.width)\n",
    "            \n",
    "            if tile_czi:\n",
    "        \n",
    "                vips_utils.save_and_tile(vips_img, os.path.splitext(imagename)[0] \\\n",
    "                                         , SAVE_DIR, tile_size = TILE_SIZE)\n",
    "\n",
    "                print(\"Done Tiling: \", WSI_DIR + imagename)\n",
    "                del vips_img\n",
    "                gc.collect()\n",
    "                print(\"Finish Delete\", WSI_DIR + imagename)\n",
    "        except:\n",
    "            print(\"Error in tiling\")\n",
    "        \n",
    "        \n",
    "\n",
    "    else:\n",
    "        print(\"Skipped,\", imagename, '. This file is either not .czi or .svs, or not the file assigned')\n",
    "    \n",
    "    try: \n",
    "        del vips_img \n",
    "        gc.collect()\n",
    "    except:\n",
    "        pass\n",
    "    \n",
    "    print(\"processed in \", time.time()-start,\" seconds\")\n",
    "    print(\"____________________________________________\")"
   ]
  },
  {
   "cell_type": "code",
   "execution_count": 7,
   "id": "26675b34",
   "metadata": {
    "scrolled": true
   },
   "outputs": [
    {
     "name": "stdout",
     "output_type": "stream",
     "text": [
      "About to change names to add coordinates\n",
      "Processing NAID:  NA-5029-16_HE\n",
      "Processing NAID:  NA-5029-17_HE\n",
      "Processing NAID:  NA-5029-18_HE\n",
      "Processing NAID:  NA5004-16_HE\n",
      "Processing NAID:  NA5004-17_HE\n",
      "Processing NAID:  NA5004-18_HE\n",
      "Processing NAID:  NA5007-16_HE\n",
      "Processing NAID:  NA5007-17_HE\n",
      "Processing NAID:  NA5007-18_HE\n",
      "Processing NAID:  NA5009-16_HE\n",
      "Processing NAID:  NA5009-17_HE\n",
      "Processing NAID:  NA5009-18_HE\n",
      "Processing NAID:  NA5031-16_HE\n",
      "Processing NAID:  NA5031-17_HE\n",
      "Processing NAID:  NA5031-18_HE\n",
      "Processing NAID:  NA5041-16_HE\n",
      "Processing NAID:  NA5041-17_HE\n",
      "Processing NAID:  NA5041-18_HE\n",
      "Processing NAID:  NA5045-16_HE\n",
      "Processing NAID:  NA5045-17_HE\n",
      "Processing NAID:  NA5045-18_HE\n",
      "Processing NAID:  NA5051-16_HE\n",
      "Processing NAID:  NA5051-17_HE\n",
      "Processing NAID:  NA5051-18_HE\n",
      "Processing NAID:  NA5057-16_HE\n",
      "Processing NAID:  NA5057-17_HE\n",
      "Processing NAID:  NA5057-18_HE\n",
      "Processing NAID:  NA5063-16_HE\n",
      "Processing NAID:  NA5063-17_HE\n",
      "Processing NAID:  NA5063-18_HE\n",
      "Processing NAID:  NA5077-16_HE\n",
      "Processing NAID:  NA5077-17_HE\n",
      "Processing NAID:  NA5077-18_HE\n",
      "Processing NAID:  NA5085-16_HE\n",
      "Processing NAID:  NA5085-17_HE\n",
      "Processing NAID:  NA5085-18_HE\n",
      "Processing NAID:  NA5089-16_HE\n",
      "Processing NAID:  NA5089-17_HE\n",
      "Processing NAID:  NA5089-18_HE\n",
      "Processing NAID:  NA5090-16_HE\n",
      "Processing NAID:  NA5090-17_HE\n",
      "Processing NAID:  NA5090-18_HE\n",
      "Processing NAID:  NA5091-16_HE\n",
      "Processing NAID:  NA5091-17_HE\n",
      "Processing NAID:  NA5091-18_HE\n",
      "Processing NAID:  NA5093-16_HE\n",
      "Processing NAID:  NA5093-17_HE\n",
      "Processing NAID:  NA5093-18_HE\n",
      "Processing NAID:  NA5095-16_HE\n",
      "Processing NAID:  NA5095-17_HE\n",
      "Processing NAID:  NA5095-18_HE\n",
      "Processing NAID:  NA5098-16_HE\n",
      "Processing NAID:  NA5098-17_HE\n",
      "Processing NAID:  NA5098-18_HE\n",
      "Processing NAID:  NA5114-16_HE\n",
      "Processing NAID:  NA5114-17_HE\n",
      "Processing NAID:  NA5114-18_HE\n",
      "Processing NAID:  NA5116-16_HE\n",
      "Processing NAID:  NA5116-17_HE\n",
      "Processing NAID:  NA5116-18_HE\n",
      "Processing NAID:  NA5137-16_HE\n",
      "Processing NAID:  NA5137-17_HE\n",
      "Processing NAID:  NA5137-18_HE\n",
      "Processing NAID:  NA5146-16_HE\n",
      "Processing NAID:  NA5146-17_HE\n",
      "Processing NAID:  NA5146-18_HE\n",
      "Processing NAID:  NA5161-16_HE\n",
      "Processing NAID:  NA5161-17_HE\n",
      "Processing NAID:  NA5161-18_HE\n"
     ]
    }
   ],
   "source": [
    "###### SEGMENTATION - Give tile name based on coordinate\n",
    "\n",
    "print(\"About to change names to add coordinates\")\n",
    "for case_folder in sorted(os.listdir(SAVE_DIR)):\n",
    "    NAID = case_folder\n",
    "    print('Processing NAID: ', NAID)\n",
    "    for tile_folder in sorted(os.listdir(SAVE_DIR+NAID+'/0/')):\n",
    "        # folder_level == y axis distance determinant\n",
    "        # file_level == x axis distance determinant\n",
    "        y0 = int(tile_folder)*TILE_SIZE\n",
    "        y1 = (int(tile_folder)+1)*TILE_SIZE\n",
    "        #print(\"Y axis = (\", y0,',',y1,')')\n",
    "        for tile_file in sorted(os.listdir(SAVE_DIR+NAID+'/0/'+tile_folder+'/')):\n",
    "            x0 = int(tile_file.split('.')[0])*TILE_SIZE\n",
    "            x1 = (int(tile_file.split('.')[0])+1)*TILE_SIZE\n",
    "            #print(\"X axis = (\", x0,',',x1,')')\n",
    "            #print(\"Renaming \", SAVE_DIR+NAID+'/0/'+str(tile_folder)+'/'+tile_file)\n",
    "            os.rename(SAVE_DIR+NAID+'/0/'+str(tile_folder)+'/'+tile_file, \n",
    "                      SAVE_DIR+NAID+'/0/'+str(tile_folder)+'/'+str(y0)+'_'+str(x0)+'_'+str(y1)+'_'+str(x1)+'_'+tile_file)\n",
    "            #print(\"Renamed into \", SAVE_DIR+NAID+'/0/'+tile_folder+'/'+str(y0)+'_'+str(x0)+'_'+str(y1)+'_'+str(x1)+'_'+t"
   ]
  },
  {
   "cell_type": "code",
   "execution_count": 8,
   "id": "48f40863",
   "metadata": {},
   "outputs": [
    {
     "name": "stderr",
     "output_type": "stream",
     "text": [
      "  0%|          | 0/69 [00:00<?, ?it/s]"
     ]
    },
    {
     "name": "stdout",
     "output_type": "stream",
     "text": [
      "processed in  1.9073486328125e-06  seconds\n",
      "____________________________________________\n",
      "processed in  9.5367431640625e-07  seconds\n",
      "____________________________________________\n",
      "processed in  9.5367431640625e-07  seconds\n",
      "____________________________________________\n",
      "processed in  1.1920928955078125e-06  seconds\n",
      "____________________________________________\n",
      "processed in  9.5367431640625e-07  seconds\n",
      "____________________________________________\n",
      "processed in  7.152557373046875e-07  seconds\n",
      "____________________________________________\n",
      "processed in  4.76837158203125e-07  seconds\n",
      "____________________________________________\n",
      "processed in  4.76837158203125e-07  seconds\n",
      "____________________________________________\n",
      "processed in  7.152557373046875e-07  seconds\n",
      "____________________________________________\n",
      "processed in  4.76837158203125e-07  seconds\n",
      "____________________________________________\n",
      "processed in  4.76837158203125e-07  seconds\n",
      "____________________________________________\n",
      "processed in  4.76837158203125e-07  seconds\n",
      "____________________________________________\n",
      "processed in  4.76837158203125e-07  seconds\n",
      "____________________________________________\n",
      "processed in  9.5367431640625e-07  seconds\n",
      "____________________________________________\n",
      "processed in  4.76837158203125e-07  seconds\n",
      "____________________________________________\n",
      "processed in  4.76837158203125e-07  seconds\n",
      "____________________________________________\n",
      "processed in  4.76837158203125e-07  seconds\n",
      "____________________________________________\n",
      "processed in  7.152557373046875e-07  seconds\n",
      "____________________________________________\n",
      "processed in  4.76837158203125e-07  seconds\n",
      "____________________________________________\n",
      "processed in  7.152557373046875e-07  seconds\n",
      "____________________________________________\n",
      "processed in  4.76837158203125e-07  seconds\n",
      "____________________________________________\n",
      "Loading NA5051-16_HE.czi  ......\n"
     ]
    },
    {
     "name": "stderr",
     "output_type": "stream",
     "text": [
      " 42%|████▏     | 29/69 [00:00<00:00, 56.55it/s]"
     ]
    },
    {
     "name": "stdout",
     "output_type": "stream",
     "text": [
      "processed in  0.31695127487182617  seconds\n",
      "____________________________________________\n",
      "Loading NA5051-17_HE.czi  ......\n",
      "processed in  0.04110527038574219  seconds\n",
      "____________________________________________\n",
      "Loading NA5051-18_HE.czi  ......\n",
      "processed in  0.03639864921569824  seconds\n",
      "____________________________________________\n",
      "processed in  2.6226043701171875e-06  seconds\n",
      "____________________________________________\n",
      "processed in  1.1920928955078125e-06  seconds\n",
      "____________________________________________\n",
      "processed in  1.1920928955078125e-06  seconds\n",
      "____________________________________________\n",
      "Loading NA5063-16_HE.czi  ......\n",
      "processed in  0.04552507400512695  seconds\n",
      "____________________________________________\n",
      "Loading NA5063-17_HE.czi  ......\n",
      "processed in  0.04552483558654785  seconds\n",
      "____________________________________________\n",
      "Loading NA5063-18_HE.czi  ......\n",
      "processed in  0.043135881423950195  seconds\n",
      "____________________________________________\n",
      "Loading NA5077-16_HE.czi  ......\n",
      "processed in  0.04358792304992676  seconds\n",
      "____________________________________________\n",
      "Loading NA5077-17_HE.czi  ......\n",
      "processed in  0.044677734375  seconds\n",
      "____________________________________________\n",
      "Loading NA5077-18_HE.czi  ......\n"
     ]
    },
    {
     "name": "stderr",
     "output_type": "stream",
     "text": [
      " 51%|█████     | 35/69 [00:00<00:00, 34.86it/s]"
     ]
    },
    {
     "name": "stdout",
     "output_type": "stream",
     "text": [
      "processed in  0.12321043014526367  seconds\n",
      "____________________________________________\n",
      "Loading NA5085-16_HE.czi  ......\n",
      "processed in  0.04322457313537598  seconds\n",
      "____________________________________________\n",
      "Loading NA5085-17_HE.czi  ......\n",
      "processed in  0.04259800910949707  seconds\n",
      "____________________________________________\n",
      "Loading NA5085-18_HE.czi  ......\n",
      "processed in  0.03969717025756836  seconds\n",
      "____________________________________________\n",
      "Loading NA5089-16_HE.czi  ......\n",
      "processed in  0.042101144790649414  seconds\n",
      "____________________________________________\n",
      "Loading NA5089-17_HE.czi  ......\n"
     ]
    },
    {
     "name": "stderr",
     "output_type": "stream",
     "text": [
      " 57%|█████▋    | 39/69 [00:01<00:00, 31.47it/s]"
     ]
    },
    {
     "name": "stdout",
     "output_type": "stream",
     "text": [
      "processed in  0.04348015785217285  seconds\n",
      "____________________________________________\n",
      "Loading NA5089-18_HE.czi  ......\n",
      "processed in  0.04617571830749512  seconds\n",
      "____________________________________________\n",
      "Loading NA5090-16_HE.czi  ......\n",
      "processed in  0.037961483001708984  seconds\n",
      "____________________________________________\n",
      "Loading NA5090-17_HE.czi  ......\n",
      "processed in  0.03997611999511719  seconds\n",
      "____________________________________________\n",
      "Loading NA5090-18_HE.czi  ......\n",
      "processed in  0.04053044319152832  seconds\n",
      "____________________________________________\n",
      "Loading NA5091-16_HE.czi  ......\n"
     ]
    },
    {
     "name": "stderr",
     "output_type": "stream",
     "text": [
      " 67%|██████▋   | 46/69 [00:01<00:00, 25.10it/s]"
     ]
    },
    {
     "name": "stdout",
     "output_type": "stream",
     "text": [
      "processed in  0.12075090408325195  seconds\n",
      "____________________________________________\n",
      "Loading NA5091-17_HE.czi  ......\n",
      "processed in  0.04732203483581543  seconds\n",
      "____________________________________________\n",
      "Loading NA5091-18_HE.czi  ......\n",
      "processed in  0.042705535888671875  seconds\n",
      "____________________________________________\n",
      "Loading NA5093-16_HE.czi  ......\n",
      "processed in  0.044513702392578125  seconds\n",
      "____________________________________________\n",
      "Loading NA5093-17_HE.czi  ......\n",
      "processed in  0.04636788368225098  seconds\n",
      "____________________________________________\n",
      "Loading NA5093-18_HE.czi  ......\n"
     ]
    },
    {
     "name": "stderr",
     "output_type": "stream",
     "text": [
      " 71%|███████   | 49/69 [00:01<00:00, 23.77it/s]"
     ]
    },
    {
     "name": "stdout",
     "output_type": "stream",
     "text": [
      "processed in  0.05385446548461914  seconds\n",
      "____________________________________________\n",
      "Loading NA5095-16_HE.czi  ......\n",
      "processed in  0.04791712760925293  seconds\n",
      "____________________________________________\n",
      "Loading NA5095-17_HE.czi  ......\n",
      "processed in  0.045368194580078125  seconds\n",
      "____________________________________________\n",
      "Loading NA5095-18_HE.czi  ......\n"
     ]
    },
    {
     "name": "stderr",
     "output_type": "stream",
     "text": [
      " 80%|███████▉  | 55/69 [00:01<00:00, 20.67it/s]"
     ]
    },
    {
     "name": "stdout",
     "output_type": "stream",
     "text": [
      "processed in  0.12688660621643066  seconds\n",
      "____________________________________________\n",
      "Loading NA5098-16_HE.czi  ......\n",
      "processed in  0.04195213317871094  seconds\n",
      "____________________________________________\n",
      "Loading NA5098-17_HE.czi  ......\n",
      "processed in  0.04507875442504883  seconds\n",
      "____________________________________________\n",
      "Loading NA5098-18_HE.czi  ......\n",
      "processed in  0.041235923767089844  seconds\n",
      "____________________________________________\n",
      "Loading NA5114-16_HE.czi  ......\n",
      "processed in  0.048322200775146484  seconds\n",
      "____________________________________________\n",
      "Loading NA5114-17_HE.czi  ......\n"
     ]
    },
    {
     "name": "stderr",
     "output_type": "stream",
     "text": [
      " 84%|████████▍ | 58/69 [00:02<00:00, 20.98it/s]"
     ]
    },
    {
     "name": "stdout",
     "output_type": "stream",
     "text": [
      "processed in  0.04732966423034668  seconds\n",
      "____________________________________________\n",
      "Loading NA5114-18_HE.czi  ......\n",
      "processed in  0.047271728515625  seconds\n",
      "____________________________________________\n",
      "Loading NA5116-16_HE.czi  ......\n",
      "processed in  0.03992033004760742  seconds\n",
      "____________________________________________\n",
      "Loading NA5116-17_HE.czi  ......\n",
      "processed in  0.04051804542541504  seconds\n",
      "____________________________________________\n",
      "Loading NA5116-18_HE.czi  ......\n"
     ]
    },
    {
     "name": "stderr",
     "output_type": "stream",
     "text": [
      " 97%|█████████▋| 67/69 [00:02<00:00, 25.21it/s]"
     ]
    },
    {
     "name": "stdout",
     "output_type": "stream",
     "text": [
      "processed in  0.12010645866394043  seconds\n",
      "____________________________________________\n",
      "Loading NA5137-16_HE.czi  ......\n",
      "processed in  0.0431218147277832  seconds\n",
      "____________________________________________\n",
      "Loading NA5137-17_HE.czi  ......\n",
      "processed in  0.04361104965209961  seconds\n",
      "____________________________________________\n",
      "Loading NA5137-18_HE.czi  ......\n",
      "processed in  0.04049277305603027  seconds\n",
      "____________________________________________\n",
      "processed in  5.4836273193359375e-06  seconds\n",
      "____________________________________________\n",
      "processed in  2.1457672119140625e-06  seconds\n",
      "____________________________________________\n",
      "processed in  1.6689300537109375e-06  seconds\n",
      "____________________________________________\n",
      "Loading NA5161-16_HE.czi  ......\n",
      "processed in  0.046466827392578125  seconds\n",
      "____________________________________________\n",
      "Loading NA5161-17_HE.czi  ......\n"
     ]
    },
    {
     "name": "stderr",
     "output_type": "stream",
     "text": [
      "100%|██████████| 69/69 [00:02<00:00, 28.05it/s]"
     ]
    },
    {
     "name": "stdout",
     "output_type": "stream",
     "text": [
      "processed in  0.04495358467102051  seconds\n",
      "____________________________________________\n",
      "Loading NA5161-18_HE.czi  ......\n",
      "processed in  0.0419158935546875  seconds\n",
      "____________________________________________\n"
     ]
    },
    {
     "name": "stderr",
     "output_type": "stream",
     "text": [
      "\n"
     ]
    }
   ],
   "source": [
    "###### SEGMENTATION - Extract polygon annotation\n",
    "\n",
    "for imagename in tqdm(imagenames[:]):\n",
    "    start = time.time()\n",
    "    if imagename.split('.')[-1] == 'svs':\n",
    "        pass\n",
    "        \n",
    "    elif imagename.split('.')[-1] == 'czi':\n",
    "        NAID = imagename.split('.')[0]\n",
    "        print(\"Loading\", imagename, \" ......\")\n",
    "        try: \n",
    "            czifile = pylibczi.CziFile(WSI_DIR + imagename, metafile_out = CZ_DIR + NAID + '.cz',use_pylibczi=True, verbose=True)\n",
    "            czifile.read_meta()\n",
    "            \n",
    "            tree = ET.parse(CZ_DIR + NAID + '.cz') \n",
    "            root = tree.getroot() \n",
    "            \n",
    "            tree.write(CZ_DIR + NAID + '.xml')\n",
    "        except:\n",
    "            print(\"Error in extracting annotation\")\n",
    "            \n",
    "    print(\"processed in \", time.time()-start,\" seconds\")\n",
    "    print(\"____________________________________________\")"
   ]
  },
  {
   "cell_type": "code",
   "execution_count": 9,
   "id": "9e1796e3",
   "metadata": {},
   "outputs": [],
   "source": [
    "def grab_svs_annot(path):\n",
    "    doc = xmltodict.parse(open(path, 'r', encoding='utf-8').read())\n",
    "    \n",
    "    all_annot = []\n",
    "    if type(doc['Annotations']['Annotation']['Regions']['Region']) == list:\n",
    "        for region_idx in range(len(doc['Annotations']['Annotation']['Regions']['Region'])):\n",
    "            coords = []\n",
    "            for annot in doc['Annotations']['Annotation']['Regions']['Region'][region_idx]['Vertices']['Vertex']:\n",
    "                coord = [int(annot['@Y']),int(annot['@X'])]\n",
    "\n",
    "                coords.append(coord)\n",
    "            all_annot.append(coords)\n",
    "    else:\n",
    "        coords = []\n",
    "        for annot in doc['Annotations']['Annotation']['Regions']['Region']['Vertices']['Vertex']:\n",
    "            coord = [int(annot['@Y']),int(annot['@X'])]\n",
    "\n",
    "            coords.append(coord)\n",
    "        all_annot.append(coords)\n",
    "    \n",
    "    return all_annot\n",
    "\n",
    "#from: https://stackoverflow.com/questions/9807634/find-all-occurrences-of-a-key-in-nested-dictionaries-and-lists\n",
    "def findkeys(node, kv):\n",
    "    if isinstance(node, list):\n",
    "        for i in node:\n",
    "            for x in findkeys(i, kv):\n",
    "               yield x\n",
    "    elif isinstance(node, dict):\n",
    "        if kv in node:\n",
    "            yield node[kv]\n",
    "        for j in node.values():\n",
    "            for x in findkeys(j, kv):\n",
    "                yield x\n",
    "\n",
    "def grab_czi_annot(path):\n",
    "    doc = xmltodict.parse(open(path, 'r', encoding='utf-8').read())\n",
    "    \n",
    "    amt_annot = len(list(findkeys(doc,'Points')))\n",
    "    \n",
    "    all_annot = []\n",
    "    coords = []\n",
    "    \n",
    "    #print(\"AMOUNT ANNOT = \", amt_annot)\n",
    "    \n",
    "    for annot_idx in range(amt_annot):\n",
    "        coords = []\n",
    "        all_cord = list(findkeys(doc,'Points'))[annot_idx].split(' ')\n",
    "        isGood = False\n",
    "        for xy in all_cord:\n",
    "            #print(xy)\n",
    "            if int(float(xy.split(',')[1])) < 0 or int(float(xy.split(',')[0])) < 0:\n",
    "                pass\n",
    "                #print(\"Passed on negative coordinates\")\n",
    "            else:\n",
    "                coord = [int(float(xy.split(',')[1])),int(float(xy.split(',')[0]))]\n",
    "                isGood = True\n",
    "                \n",
    "                coords.append(coord)\n",
    "        if isGood:\n",
    "            all_annot.append(coords)\n",
    "    \n",
    "    return all_annot\n",
    "\n",
    "\n",
    "\n",
    "def create_polygon_mask(vertex_coordinates, mask):\n",
    "    \n",
    "    rr, cc = polygon(vertex_coordinates[:,0],vertex_coordinates[:,1],mask.shape)\n",
    "    mask[rr,cc] = 1\n",
    "    \n",
    "    return mask\n",
    "\n",
    "\n",
    "# https://stackoverflow.com/questions/41925853/fill-shapes-contours-using-numpy\n",
    "def fill_contours(arr):\n",
    "    return np.maximum.accumulate(arr,1) & \\\n",
    "           np.maximum.accumulate(arr[:,::-1],1)[:,::-1]"
   ]
  },
  {
   "cell_type": "code",
   "execution_count": 13,
   "id": "7cd7a81b",
   "metadata": {},
   "outputs": [
    {
     "name": "stderr",
     "output_type": "stream",
     "text": [
      "  0%|          | 0/69 [00:00<?, ?it/s]"
     ]
    },
    {
     "name": "stdout",
     "output_type": "stream",
     "text": [
      "Skipped, NA-5029-16_HE.svs . This file is either not .czi or .svs, or not the file assigned\n",
      "Skipped, NA-5029-17_HE.svs . This file is either not .czi or .svs, or not the file assigned\n",
      "Loading NA-5029-18_HE.svs  ......\n",
      "Loaded Image: /cache/Inf_May23_dataset/NA-5029-18_HE.svs\n",
      "Resizing small case\n",
      "Starting to build mask\n",
      "Number of annotation groups = 9\n",
      "Saving mask contours\n"
     ]
    },
    {
     "name": "stderr",
     "output_type": "stream",
     "text": [
      "  4%|▍         | 3/69 [01:50<40:40, 36.97s/it]"
     ]
    },
    {
     "name": "stdout",
     "output_type": "stream",
     "text": [
      "processed in  110.78698921203613  seconds\n",
      "____________________________________________\n",
      "Skipped, NA5004-16_HE.svs . This file is either not .czi or .svs, or not the file assigned\n",
      "Skipped, NA5004-17_HE.svs . This file is either not .czi or .svs, or not the file assigned\n",
      "Loading NA5004-18_HE.svs  ......\n",
      "Loaded Image: /cache/Inf_May23_dataset/NA5004-18_HE.svs\n",
      "Resizing small case\n",
      "Starting to build mask\n",
      "Number of annotation groups = 1\n",
      "Saving mask contours\n"
     ]
    },
    {
     "name": "stderr",
     "output_type": "stream",
     "text": [
      "  9%|▊         | 6/69 [01:55<16:54, 16.10s/it]"
     ]
    },
    {
     "name": "stdout",
     "output_type": "stream",
     "text": [
      "processed in  4.384645223617554  seconds\n",
      "____________________________________________\n",
      "Skipped, NA5007-16_HE.svs . This file is either not .czi or .svs, or not the file assigned\n",
      "Skipped, NA5007-17_HE.svs . This file is either not .czi or .svs, or not the file assigned\n",
      "Skipped, NA5007-18_HE.svs . This file is either not .czi or .svs, or not the file assigned\n",
      "Skipped, NA5009-16_HE.svs . This file is either not .czi or .svs, or not the file assigned\n",
      "Skipped, NA5009-17_HE.svs . This file is either not .czi or .svs, or not the file assigned\n",
      "Loading NA5009-18_HE.svs  ......\n",
      "Loaded Image: /cache/Inf_May23_dataset/NA5009-18_HE.svs\n",
      "Starting to build mask\n",
      "Number of annotation groups = 7\n",
      "Saving mask contours\n"
     ]
    },
    {
     "name": "stderr",
     "output_type": "stream",
     "text": [
      " 17%|█▋        | 12/69 [02:17<07:51,  8.27s/it]"
     ]
    },
    {
     "name": "stdout",
     "output_type": "stream",
     "text": [
      "processed in  21.544822454452515  seconds\n",
      "____________________________________________\n",
      "Skipped, NA5031-16_HE.svs . This file is either not .czi or .svs, or not the file assigned\n",
      "Skipped, NA5031-17_HE.svs . This file is either not .czi or .svs, or not the file assigned\n",
      "Loading NA5031-18_HE.svs  ......\n",
      "Loaded Image: /cache/Inf_May23_dataset/NA5031-18_HE.svs\n",
      "Resizing small case\n",
      "Starting to build mask\n",
      "Number of annotation groups = 4\n",
      "Saving mask contours\n"
     ]
    },
    {
     "name": "stderr",
     "output_type": "stream",
     "text": [
      " 22%|██▏       | 15/69 [02:35<06:49,  7.58s/it]"
     ]
    },
    {
     "name": "stdout",
     "output_type": "stream",
     "text": [
      "processed in  18.014150142669678  seconds\n",
      "____________________________________________\n",
      "Loading NA5041-16_HE.svs  ......\n",
      "Loaded Image: /cache/Inf_May23_dataset/NA5041-16_HE.svs\n",
      "Resizing small case\n",
      "Starting to build mask\n",
      "Number of annotation groups = 2\n",
      "Saving mask contours\n"
     ]
    },
    {
     "name": "stderr",
     "output_type": "stream",
     "text": [
      " 23%|██▎       | 16/69 [02:57<08:24,  9.52s/it]"
     ]
    },
    {
     "name": "stdout",
     "output_type": "stream",
     "text": [
      "processed in  22.564063549041748  seconds\n",
      "____________________________________________\n",
      "Skipped, NA5041-17_HE.svs . This file is either not .czi or .svs, or not the file assigned\n",
      "Skipped, NA5041-18_HE.svs . This file is either not .czi or .svs, or not the file assigned\n",
      "Skipped, NA5045-16_HE.svs . This file is either not .czi or .svs, or not the file assigned\n",
      "Skipped, NA5045-17_HE.svs . This file is either not .czi or .svs, or not the file assigned\n",
      "Loading NA5045-18_HE.svs  ......\n",
      "Loaded Image: /cache/Inf_May23_dataset/NA5045-18_HE.svs\n",
      "Resizing small case\n",
      "Starting to build mask\n",
      "Number of annotation groups = 1\n",
      "Saving mask contours\n"
     ]
    },
    {
     "name": "stderr",
     "output_type": "stream",
     "text": [
      " 30%|███       | 21/69 [03:18<05:34,  6.97s/it]"
     ]
    },
    {
     "name": "stdout",
     "output_type": "stream",
     "text": [
      "processed in  20.81583571434021  seconds\n",
      "____________________________________________\n",
      "Skipped, NA5051-16_HE.czi . This file is either not .czi or .svs, or not the file assigned\n",
      "Skipped, NA5051-17_HE.czi . This file is either not .czi or .svs, or not the file assigned\n",
      "Loading NA5051-18_HE.czi  ......\n",
      "Loaded Image: /cache/Inf_May23_dataset/NA5051-18_HE.czi\n",
      "Starting to build mask\n",
      "Number of annotation groups = 3\n",
      "Saving mask contours\n"
     ]
    },
    {
     "name": "stderr",
     "output_type": "stream",
     "text": [
      " 35%|███▍      | 24/69 [04:52<10:32, 14.06s/it]"
     ]
    },
    {
     "name": "stdout",
     "output_type": "stream",
     "text": [
      "processed in  93.86612796783447  seconds\n",
      "____________________________________________\n",
      "Loading NA5057-16_HE.svs  ......\n",
      "Loaded Image: /cache/Inf_May23_dataset/NA5057-16_HE.svs\n",
      "Resizing small case\n",
      "Starting to build mask\n",
      "Number of annotation groups = 5\n",
      "Saving mask contours\n"
     ]
    },
    {
     "name": "stderr",
     "output_type": "stream",
     "text": [
      " 36%|███▌      | 25/69 [07:36<23:39, 32.26s/it]"
     ]
    },
    {
     "name": "stdout",
     "output_type": "stream",
     "text": [
      "processed in  163.55960130691528  seconds\n",
      "____________________________________________\n",
      "Skipped, NA5057-17_HE.svs . This file is either not .czi or .svs, or not the file assigned\n",
      "Loading NA5057-18_HE.svs  ......\n",
      "Loaded Image: /cache/Inf_May23_dataset/NA5057-18_HE.svs\n",
      "Resizing small case\n",
      "Starting to build mask\n",
      "Number of annotation groups = 5\n",
      "Saving mask contours\n"
     ]
    },
    {
     "name": "stderr",
     "output_type": "stream",
     "text": [
      " 39%|███▉      | 27/69 [08:18<20:33, 29.36s/it]"
     ]
    },
    {
     "name": "stdout",
     "output_type": "stream",
     "text": [
      "processed in  41.945971727371216  seconds\n",
      "____________________________________________\n",
      "Loading NA5063-16_HE.czi  ......\n",
      "Loaded Image: /cache/Inf_May23_dataset/NA5063-16_HE.czi\n",
      "Starting to build mask\n",
      "Number of annotation groups = 3\n",
      "Saving mask contours\n"
     ]
    },
    {
     "name": "stderr",
     "output_type": "stream",
     "text": [
      " 41%|████      | 28/69 [09:47<26:23, 38.62s/it]"
     ]
    },
    {
     "name": "stdout",
     "output_type": "stream",
     "text": [
      "processed in  88.6410653591156  seconds\n",
      "____________________________________________\n",
      "Skipped, NA5063-17_HE.czi . This file is either not .czi or .svs, or not the file assigned\n",
      "Loading NA5063-18_HE.czi  ......\n",
      "Loaded Image: /cache/Inf_May23_dataset/NA5063-18_HE.czi\n",
      "Starting to build mask\n",
      "Number of annotation groups = 1\n",
      "Saving mask contours\n"
     ]
    },
    {
     "name": "stderr",
     "output_type": "stream",
     "text": [
      " 43%|████▎     | 30/69 [10:17<20:23, 31.36s/it]"
     ]
    },
    {
     "name": "stdout",
     "output_type": "stream",
     "text": [
      "processed in  29.884232997894287  seconds\n",
      "____________________________________________\n",
      "Skipped, NA5077-16_HE.czi . This file is either not .czi or .svs, or not the file assigned\n",
      "Loading NA5077-17_HE.czi  ......\n",
      "Loaded Image: /cache/Inf_May23_dataset/NA5077-17_HE.czi\n",
      "Starting to build mask\n",
      "Number of annotation groups = 2\n",
      "Saving mask contours\n"
     ]
    },
    {
     "name": "stderr",
     "output_type": "stream",
     "text": [
      " 46%|████▋     | 32/69 [11:08<18:15, 29.60s/it]"
     ]
    },
    {
     "name": "stdout",
     "output_type": "stream",
     "text": [
      "processed in  50.98391795158386  seconds\n",
      "____________________________________________\n",
      "Loading NA5077-18_HE.czi  ......\n",
      "Loaded Image: /cache/Inf_May23_dataset/NA5077-18_HE.czi\n",
      "Starting to build mask\n",
      "Number of annotation groups = 1\n",
      "Saving mask contours\n"
     ]
    },
    {
     "name": "stderr",
     "output_type": "stream",
     "text": [
      " 48%|████▊     | 33/69 [11:39<17:52, 29.79s/it]"
     ]
    },
    {
     "name": "stdout",
     "output_type": "stream",
     "text": [
      "processed in  30.487606287002563  seconds\n",
      "____________________________________________\n",
      "Skipped, NA5085-16_HE.czi . This file is either not .czi or .svs, or not the file assigned\n",
      "Skipped, NA5085-17_HE.czi . This file is either not .czi or .svs, or not the file assigned\n",
      "Loading NA5085-18_HE.czi  ......\n",
      "Loaded Image: /cache/Inf_May23_dataset/NA5085-18_HE.czi\n",
      "Starting to build mask\n",
      "Number of annotation groups = 3\n",
      "Saving mask contours\n"
     ]
    },
    {
     "name": "stderr",
     "output_type": "stream",
     "text": [
      " 52%|█████▏    | 36/69 [12:26<13:03, 23.73s/it]"
     ]
    },
    {
     "name": "stdout",
     "output_type": "stream",
     "text": [
      "processed in  47.30327272415161  seconds\n",
      "____________________________________________\n",
      "Skipped, NA5089-16_HE.czi . This file is either not .czi or .svs, or not the file assigned\n",
      "Loading NA5089-17_HE.czi  ......\n",
      "Loaded Image: /cache/Inf_May23_dataset/NA5089-17_HE.czi\n",
      "Starting to build mask\n",
      "Number of annotation groups = 4\n",
      "Saving mask contours\n"
     ]
    },
    {
     "name": "stderr",
     "output_type": "stream",
     "text": [
      " 55%|█████▌    | 38/69 [13:42<14:22, 27.81s/it]"
     ]
    },
    {
     "name": "stdout",
     "output_type": "stream",
     "text": [
      "processed in  75.09142518043518  seconds\n",
      "____________________________________________\n",
      "Loading NA5089-18_HE.czi  ......\n",
      "Loaded Image: /cache/Inf_May23_dataset/NA5089-18_HE.czi\n",
      "Starting to build mask\n",
      "Number of annotation groups = 4\n",
      "Saving mask contours\n"
     ]
    },
    {
     "name": "stderr",
     "output_type": "stream",
     "text": [
      " 57%|█████▋    | 39/69 [14:29<15:33, 31.11s/it]"
     ]
    },
    {
     "name": "stdout",
     "output_type": "stream",
     "text": [
      "processed in  46.70089268684387  seconds\n",
      "____________________________________________\n",
      "Skipped, NA5090-16_HE.czi . This file is either not .czi or .svs, or not the file assigned\n",
      "Skipped, NA5090-17_HE.czi . This file is either not .czi or .svs, or not the file assigned\n",
      "Skipped, NA5090-18_HE.czi . This file is either not .czi or .svs, or not the file assigned\n",
      "Skipped, NA5091-16_HE.czi . This file is either not .czi or .svs, or not the file assigned\n",
      "Skipped, NA5091-17_HE.czi . This file is either not .czi or .svs, or not the file assigned\n",
      "Skipped, NA5091-18_HE.czi . This file is either not .czi or .svs, or not the file assigned\n",
      "Skipped, NA5093-16_HE.czi . This file is either not .czi or .svs, or not the file assigned\n",
      "Loading NA5093-17_HE.czi  ......\n",
      "Loaded Image: /cache/Inf_May23_dataset/NA5093-17_HE.czi\n",
      "Starting to build mask\n",
      "Number of annotation groups = 10\n",
      "Saving mask contours\n"
     ]
    },
    {
     "name": "stderr",
     "output_type": "stream",
     "text": [
      " 68%|██████▊   | 47/69 [15:41<06:01, 16.43s/it]"
     ]
    },
    {
     "name": "stdout",
     "output_type": "stream",
     "text": [
      "processed in  71.86122870445251  seconds\n",
      "____________________________________________\n",
      "Loading NA5093-18_HE.czi  ......\n",
      "Loaded Image: /cache/Inf_May23_dataset/NA5093-18_HE.czi\n",
      "Starting to build mask\n",
      "Number of annotation groups = 7\n",
      "Saving mask contours\n"
     ]
    },
    {
     "name": "stderr",
     "output_type": "stream",
     "text": [
      " 70%|██████▉   | 48/69 [16:37<07:14, 20.67s/it]"
     ]
    },
    {
     "name": "stdout",
     "output_type": "stream",
     "text": [
      "processed in  56.21528220176697  seconds\n",
      "____________________________________________\n",
      "Skipped, NA5095-16_HE.czi . This file is either not .czi or .svs, or not the file assigned\n",
      "Skipped, NA5095-17_HE.czi . This file is either not .czi or .svs, or not the file assigned\n",
      "Skipped, NA5095-18_HE.czi . This file is either not .czi or .svs, or not the file assigned\n",
      "Skipped, NA5098-16_HE.czi . This file is either not .czi or .svs, or not the file assigned\n",
      "Loading NA5098-17_HE.czi  ......\n",
      "Loaded Image: /cache/Inf_May23_dataset/NA5098-17_HE.czi\n",
      "Starting to build mask\n",
      "Number of annotation groups = 4\n",
      "Saving mask contours\n"
     ]
    },
    {
     "name": "stderr",
     "output_type": "stream",
     "text": [
      " 77%|███████▋  | 53/69 [17:38<04:32, 17.04s/it]"
     ]
    },
    {
     "name": "stdout",
     "output_type": "stream",
     "text": [
      "processed in  60.9813666343689  seconds\n",
      "____________________________________________\n",
      "Skipped, NA5098-18_HE.czi . This file is either not .czi or .svs, or not the file assigned\n",
      "Loading NA5114-16_HE.czi  ......\n",
      "Loaded Image: /cache/Inf_May23_dataset/NA5114-16_HE.czi\n",
      "Starting to build mask\n",
      "Number of annotation groups = 1\n",
      "Saving mask contours\n"
     ]
    },
    {
     "name": "stderr",
     "output_type": "stream",
     "text": [
      " 80%|███████▉  | 55/69 [19:27<05:42, 24.45s/it]"
     ]
    },
    {
     "name": "stdout",
     "output_type": "stream",
     "text": [
      "processed in  108.76578259468079  seconds\n",
      "____________________________________________\n",
      "Loading NA5114-17_HE.czi  ......\n",
      "Loaded Image: /cache/Inf_May23_dataset/NA5114-17_HE.czi\n",
      "Starting to build mask\n",
      "Number of annotation groups = 6\n",
      "Saving mask contours\n"
     ]
    },
    {
     "name": "stderr",
     "output_type": "stream",
     "text": [
      " 81%|████████  | 56/69 [20:26<06:12, 28.62s/it]"
     ]
    },
    {
     "name": "stdout",
     "output_type": "stream",
     "text": [
      "processed in  57.972618103027344  seconds\n",
      "____________________________________________\n",
      "Loading NA5114-18_HE.czi  ......\n",
      "Loaded Image: /cache/Inf_May23_dataset/NA5114-18_HE.czi\n",
      "Starting to build mask\n",
      "Number of annotation groups = 3\n",
      "Saving mask contours\n"
     ]
    },
    {
     "name": "stderr",
     "output_type": "stream",
     "text": [
      " 83%|████████▎ | 57/69 [32:16<26:11, 130.99s/it]"
     ]
    },
    {
     "name": "stdout",
     "output_type": "stream",
     "text": [
      "processed in  710.182338476181  seconds\n",
      "____________________________________________\n",
      "Loading NA5116-16_HE.czi  ......\n",
      "Loaded Image: /cache/Inf_May23_dataset/NA5116-16_HE.czi\n",
      "Starting to build mask\n",
      "Number of annotation groups = 0\n",
      "Saving mask contours\n"
     ]
    },
    {
     "name": "stderr",
     "output_type": "stream",
     "text": [
      " 84%|████████▍ | 58/69 [32:42<20:35, 112.36s/it]"
     ]
    },
    {
     "name": "stdout",
     "output_type": "stream",
     "text": [
      "processed in  25.457425832748413  seconds\n",
      "____________________________________________\n",
      "Skipped, NA5116-17_HE.czi . This file is either not .czi or .svs, or not the file assigned\n",
      "Skipped, NA5116-18_HE.czi . This file is either not .czi or .svs, or not the file assigned\n",
      "Skipped, NA5137-16_HE.czi . This file is either not .czi or .svs, or not the file assigned\n",
      "Skipped, NA5137-17_HE.czi . This file is either not .czi or .svs, or not the file assigned\n",
      "Skipped, NA5137-18_HE.czi . This file is either not .czi or .svs, or not the file assigned\n",
      "Loading NA5146-16_HE.svs  ......\n",
      "Loaded Image: /cache/Inf_May23_dataset/NA5146-16_HE.svs\n",
      "Resizing small case\n",
      "Starting to build mask\n",
      "Number of annotation groups = 2\n",
      "Saving mask contours\n"
     ]
    },
    {
     "name": "stderr",
     "output_type": "stream",
     "text": [
      " 93%|█████████▎| 64/69 [32:52<03:48, 45.77s/it] "
     ]
    },
    {
     "name": "stdout",
     "output_type": "stream",
     "text": [
      "processed in  10.53893518447876  seconds\n",
      "____________________________________________\n",
      "Loading NA5146-17_HE.svs  ......\n",
      "Loaded Image: /cache/Inf_May23_dataset/NA5146-17_HE.svs\n",
      "Resizing small case\n",
      "Starting to build mask\n",
      "Number of annotation groups = 11\n",
      "Saving mask contours\n"
     ]
    },
    {
     "name": "stderr",
     "output_type": "stream",
     "text": [
      " 94%|█████████▍| 65/69 [33:34<03:01, 45.27s/it]"
     ]
    },
    {
     "name": "stdout",
     "output_type": "stream",
     "text": [
      "processed in  41.64433288574219  seconds\n",
      "____________________________________________\n",
      "Loading NA5146-18_HE.svs  ......\n",
      "Loaded Image: /cache/Inf_May23_dataset/NA5146-18_HE.svs\n",
      "Resizing small case\n",
      "Starting to build mask\n",
      "Number of annotation groups = 1\n",
      "Saving mask contours\n"
     ]
    },
    {
     "name": "stderr",
     "output_type": "stream",
     "text": [
      " 96%|█████████▌| 66/69 [33:46<02:00, 40.21s/it]"
     ]
    },
    {
     "name": "stdout",
     "output_type": "stream",
     "text": [
      "processed in  11.84977650642395  seconds\n",
      "____________________________________________\n",
      "Skipped, NA5161-16_HE.czi . This file is either not .czi or .svs, or not the file assigned\n",
      "Loading NA5161-17_HE.czi  ......\n",
      "Loaded Image: /cache/Inf_May23_dataset/NA5161-17_HE.czi\n",
      "Starting to build mask\n",
      "Number of annotation groups = 2\n",
      "Saving mask contours\n",
      "processed in  67.65470099449158  seconds\n",
      "____________________________________________\n"
     ]
    },
    {
     "name": "stderr",
     "output_type": "stream",
     "text": [
      "100%|██████████| 69/69 [34:54<00:00, 30.35s/it]"
     ]
    },
    {
     "name": "stdout",
     "output_type": "stream",
     "text": [
      "Skipped, NA5161-18_HE.czi . This file is either not .czi or .svs, or not the file assigned\n"
     ]
    },
    {
     "name": "stderr",
     "output_type": "stream",
     "text": [
      "\n"
     ]
    }
   ],
   "source": [
    "###### SEGMENTATION - Generate Masks based on Polygon Annotation\n",
    "\n",
    "gt_df = pd.read_csv('/cache/S23_Infarct/gt.csv')\n",
    "\n",
    "for imagename in tqdm(imagenames[:]):\n",
    "    start = time.time()\n",
    "\n",
    "    wsi_gt = gt_df[gt_df.cases == imagename].iat[0,2]\n",
    "    \n",
    "    resized = False\n",
    "    if wsi_gt == 1:\n",
    "        if imagename.split('.')[-1] == 'svs':\n",
    "            NAID = imagename.split('.')[0]\n",
    "            print(\"Loading\", imagename, \" ......\")\n",
    "            if True: \n",
    "                vips_img = Vips.Image.new_from_file(WSI_DIR + imagename, level=0)\n",
    "                print(\"Loaded Image: \" + WSI_DIR + imagename)\n",
    "                \n",
    "                if NAID in ['NA5009-16_HE', 'NA5009-17_HE', 'NA5009-18_HE']:\n",
    "                    pass\n",
    "                    #vips_img = vips_img.resize(0.25)\n",
    "                else:\n",
    "                    print(\"Resizing small case\")\n",
    "                    vips_img = vips_img.resize(2)\n",
    "                    resized = True\n",
    "\n",
    "                dimension = [vips_img.height, vips_img.width]\n",
    "\n",
    "                all_annot = grab_svs_annot(CZ_DIR + NAID + '.xml')\n",
    "\n",
    "                mask = np.zeros(dimension,'uint8')\n",
    "                \n",
    "                # It is all matching xml up to here\n",
    "                #print(all_annot)\n",
    "                \n",
    "                print(\"Starting to build mask\")\n",
    "                print(\"Number of annotation groups =\", len(all_annot))\n",
    "                for coords in all_annot:\n",
    "                    #Old method - faulty\n",
    "                    #mask = create_polygon_mask(coords, mask)\n",
    "                    \n",
    "                    #New method\n",
    "                    max_y = 0\n",
    "                    max_x = 0\n",
    "                    min_y = 10000000000\n",
    "                    min_x = 10000000000\n",
    "                    \n",
    "                    submask = np.zeros(dimension,'uint8')\n",
    "                    for coord in coords:\n",
    "                        y = coord[0]\n",
    "                        x = coord[1]\n",
    "                        \n",
    "                        #print(\"y = \", y, \"x = \", x)\n",
    "                        if resized:\n",
    "                            y = y*2\n",
    "                            x = x*2\n",
    "                            submask[y][x] = 1\n",
    "                        else:\n",
    "                            submask[y][x] = 1\n",
    "                            \n",
    "                        if y > max_y:\n",
    "                            max_y = y\n",
    "                            \n",
    "                        if x > max_x:\n",
    "                            max_x = x\n",
    "                            \n",
    "                        if y < min_y:\n",
    "                            min_y = y\n",
    "                            \n",
    "                        if x < min_x:\n",
    "                            min_x = x\n",
    "                    \n",
    "                    submask[min_y:max_y+1, min_x:max_x+1] = convex_hull_image(submask[min_y:max_y+1, min_x:max_x+1])\n",
    "                    \n",
    "                    mask = mask + submask\n",
    "                        \n",
    "                \n",
    "                #print(\"Filling contours\")\n",
    "                #mask = fill_contours(mask)\n",
    "\n",
    "                #mask = np.packbits(mask,axis=None)\n",
    "                #print(\"Binarized mask\")\n",
    "                \n",
    "                print(\"Saving mask contours\")\n",
    "                np.save(MASK_DIR+NAID+'.npy',mask)\n",
    "\n",
    "                print(\"processed in \", time.time()-start,\" seconds\")\n",
    "                print(\"____________________________________________\")\n",
    "\n",
    "            else:\n",
    "                print(\"Error in generating masks from polygon for \", NAID)\n",
    "\n",
    "\n",
    "        elif imagename.split('.')[-1] == 'czi':\n",
    "            NAID = imagename.split('.')[0]\n",
    "            print(\"Loading\", imagename, \" ......\")\n",
    "            if True: \n",
    "                vips_img = grabCZI(WSI_DIR + imagename)\n",
    "                print(\"Loaded Image: \" + WSI_DIR + imagename)\n",
    "\n",
    "                dimension = [vips_img.height, vips_img.width]\n",
    "                all_annot = grab_czi_annot(CZ_DIR + NAID + '.xml')\n",
    "\n",
    "                mask = np.zeros(dimension,'uint8')\n",
    "                \n",
    "                # It is all matching up to here\n",
    "                #print(all_annot)\n",
    "                \n",
    "                print(\"Starting to build mask\")\n",
    "                print(\"Number of annotation groups =\", len(all_annot))\n",
    "                for coords in all_annot:\n",
    "                    #Old method - faulty\n",
    "                    #mask = create_polygon_mask(coords, mask)\n",
    "                    \n",
    "                    #New method\n",
    "                    max_y = 0\n",
    "                    max_x = 0\n",
    "                    min_y = 10000000000\n",
    "                    min_x = 10000000000\n",
    "                    \n",
    "                    submask = np.zeros(dimension,'uint8')\n",
    "                    for coord in coords:\n",
    "                        y = coord[0]\n",
    "                        x = coord[1]\n",
    "                        \n",
    "                        #print(\"y = \", y, \"x = \", x)\n",
    "                        if resized:\n",
    "                            y = y*2\n",
    "                            x = x*2\n",
    "                            submask[y][x] = 1\n",
    "                        else:\n",
    "                            submask[y][x] = 1\n",
    "                            \n",
    "                        if y > max_y:\n",
    "                            max_y = y\n",
    "                            \n",
    "                        if x > max_x:\n",
    "                            max_x = x\n",
    "                            \n",
    "                        if y < min_y:\n",
    "                            min_y = y\n",
    "                            \n",
    "                        if x < min_x:\n",
    "                            min_x = x\n",
    "                    \n",
    "                    submask[min_y:max_y+1, min_x:max_x+1] = convex_hull_image(submask[min_y:max_y+1, min_x:max_x+1])\n",
    "                    \n",
    "                    mask = mask + submask\n",
    "                        \n",
    "                #print(\"Filling contours\")\n",
    "                #mask = fill_contours(mask)\n",
    "                \n",
    "\n",
    "                #mask = np.packbits(mask,axis=None)\n",
    "                #print(\"Binarized mask\")\n",
    "                \n",
    "                print(\"Saving mask contours\")\n",
    "                np.save(MASK_DIR+NAID+'.npy',mask) \n",
    "\n",
    "                print(\"processed in \", time.time()-start,\" seconds\")\n",
    "                print(\"____________________________________________\")\n",
    "            else:\n",
    "                print(\"Error in generating masks from polygon for \", NAID)\n",
    "        \n",
    "        \n",
    "    else:\n",
    "        print(\"Skipped,\", imagename, '. This file is either not .czi or .svs, or not the file assigned')\n",
    "    \n",
    "    if wsi_gt == 1:\n",
    "        try:\n",
    "            del vips_img,coords,mask,submask\n",
    "            gc.collect()\n",
    "        except:\n",
    "            pass"
   ]
  },
  {
   "cell_type": "code",
   "execution_count": 14,
   "id": "814175dd",
   "metadata": {},
   "outputs": [
    {
     "name": "stderr",
     "output_type": "stream",
     "text": [
      "/home/lzhengfe/anaconda3/envs/vips/lib/python3.7/site-packages/torch/nn/functional.py:1569: UserWarning: nn.functional.sigmoid is deprecated. Use torch.sigmoid instead.\n",
      "  warnings.warn(\"nn.functional.sigmoid is deprecated. Use torch.sigmoid instead.\")\n"
     ]
    }
   ],
   "source": [
    "###### SEGMENTATION - Find BG using ../saved_models/patched_512_NewAnnotation+preprocess_ResNet18_Feb12.pt (in 224)\n",
    "\n",
    "MODEL_SEG_DIR = './patched_512_NewAnnotation+preprocess_ResNet18_Feb12.pt'\n",
    "\n",
    "seg_model = torchvision.models.resnet18()\n",
    "seg_model.fc = nn.Linear(512, 3)\n",
    "\n",
    "checkpoint = torch.load(MODEL_SEG_DIR)\n",
    "seg_model.load_state_dict(checkpoint['model_state_dict'])\n",
    "\n",
    "device = torch.device('cuda:0' if torch.cuda.is_available() else 'cpu')\n",
    "seg_model.to(device)\n",
    "\n",
    "# # Brainseg\n",
    "# BS_SEG_DIR = './ResNet18_19.pkl'\n",
    "# brainsec_model = torch.load(BS_SEG_DIR, map_location=lambda storage, loc: storage)\n",
    "# brainsec_model = brainsec_model.cuda()\n",
    "    \n",
    "\n",
    "\n",
    "for NAID in os.listdir(SAVE_DIR):\n",
    "    start = time.time()\n",
    "    print(\"Processing \", NAID)\n",
    "    \n",
    "    try:\n",
    "        os.makedirs(SEGMENTATION_TILE_DIR+NAID)\n",
    "    except:\n",
    "        pass\n",
    "    \n",
    "    try:\n",
    "        os.makedirs(SEGMENTATION_TILE_DIR+NAID+'/BG/')\n",
    "    except:\n",
    "        pass\n",
    "    \n",
    "    for tile_folder in os.listdir(SAVE_DIR+NAID+'/0/'):\n",
    "        for tile in os.listdir(SAVE_DIR+NAID+'/0/'+tile_folder):\n",
    "            seg_model.train(False)\n",
    "            brainsec_model.train(False)\n",
    "            \n",
    "            img = Image.open(SAVE_DIR+NAID+'/0/'+tile_folder+'/'+tile)\n",
    "            \n",
    "            img_tensor = transforms.ToTensor()(img)\n",
    "            img_tensor = transforms.Normalize(mean=[0.4409763317567454, 0.4016568471536302, 0.4988298669112181],\n",
    "                             std=[0.31297803931100737, 0.2990562933047881, 0.33747493782548915])(img_tensor)\n",
    "            img_tensor = torch.reshape(img_tensor,(1,3,512,512))\n",
    "            img_tensor = img_tensor.cuda()\n",
    "            \n",
    "            predict = seg_model(img_tensor)\n",
    "            preds = F.sigmoid(predict)\n",
    "            _, indices = torch.max(predict.data, 1) # indices = 0:Background, 1:WM, 2:GM\n",
    "            indices = indices.type(torch.uint8)\n",
    "            running_seg =  indices.data.cpu()\n",
    "            \n",
    "#             predict2 = brainsec_model(img_tensor)\n",
    "#             preds2 = F.sigmoid(predict2)\n",
    "#             #print(preds)\n",
    "#             _, indices2 = torch.max(predict2.data, 1) # indices = 0:Background, 1:WM, 2:GM\n",
    "#             indices2 = indices.type(torch.uint8)\n",
    "#             running_seg2 =  indices.data.cpu()\n",
    "            \n",
    "            \n",
    "            if running_seg == 0:# or running_seg2 == 0:\n",
    "                shutil.move(SAVE_DIR+NAID+'/0/'+tile_folder+'/'+tile, SEGMENTATION_TILE_DIR+NAID+'/BG/'+tile)\n",
    "            else:\n",
    "                pass\n",
    "                #print(\"bg removed\")\n",
    "                \n",
    "    print(\"processed in \", time.time()-start,\" seconds\")\n",
    "    print(\"____________________________________________\")"
   ]
  },
  {
   "cell_type": "code",
   "execution_count": 8,
   "id": "6e7c162f",
   "metadata": {},
   "outputs": [
    {
     "name": "stderr",
     "output_type": "stream",
     "text": [
      "  0%|          | 0/69 [00:00<?, ?it/s]"
     ]
    },
    {
     "name": "stdout",
     "output_type": "stream",
     "text": [
      "Loading NA-5029-16_HE.svs  ......\n"
     ]
    },
    {
     "name": "stderr",
     "output_type": "stream",
     "text": [
      "  1%|▏         | 1/69 [00:11<13:20, 11.78s/it]"
     ]
    },
    {
     "name": "stdout",
     "output_type": "stream",
     "text": [
      "processed in  11.777730226516724  seconds\n",
      "____________________________________________\n",
      "Loading NA-5029-17_HE.svs  ......\n"
     ]
    },
    {
     "name": "stderr",
     "output_type": "stream",
     "text": [
      "  3%|▎         | 2/69 [00:30<17:56, 16.07s/it]"
     ]
    },
    {
     "name": "stdout",
     "output_type": "stream",
     "text": [
      "processed in  19.075334787368774  seconds\n",
      "____________________________________________\n",
      "Loading NA-5029-18_HE.svs  ......\n",
      "Loaded mask at  /cache/S23_Infarct/masks/NA-5029-18_HE.npy , about to process...\n"
     ]
    },
    {
     "name": "stderr",
     "output_type": "stream",
     "text": [
      "  4%|▍         | 3/69 [01:14<31:37, 28.75s/it]"
     ]
    },
    {
     "name": "stdout",
     "output_type": "stream",
     "text": [
      "processed in  43.845864057540894  seconds\n",
      "____________________________________________\n",
      "Loading NA5004-16_HE.svs  ......\n"
     ]
    },
    {
     "name": "stderr",
     "output_type": "stream",
     "text": [
      "  6%|▌         | 4/69 [01:23<22:44, 21.00s/it]"
     ]
    },
    {
     "name": "stdout",
     "output_type": "stream",
     "text": [
      "processed in  9.09952425956726  seconds\n",
      "____________________________________________\n",
      "Loading NA5004-17_HE.svs  ......\n"
     ]
    },
    {
     "name": "stderr",
     "output_type": "stream",
     "text": [
      "  7%|▋         | 5/69 [01:38<19:49, 18.58s/it]"
     ]
    },
    {
     "name": "stdout",
     "output_type": "stream",
     "text": [
      "processed in  14.293789863586426  seconds\n",
      "____________________________________________\n",
      "Loading NA5004-18_HE.svs  ......\n",
      "Loaded mask at  /cache/S23_Infarct/masks/NA5004-18_HE.npy , about to process...\n"
     ]
    },
    {
     "name": "stderr",
     "output_type": "stream",
     "text": [
      "  9%|▊         | 6/69 [01:57<19:53, 18.95s/it]"
     ]
    },
    {
     "name": "stdout",
     "output_type": "stream",
     "text": [
      "processed in  19.653162717819214  seconds\n",
      "____________________________________________\n",
      "Loading NA5007-16_HE.svs  ......\n"
     ]
    },
    {
     "name": "stderr",
     "output_type": "stream",
     "text": [
      " 10%|█         | 7/69 [02:10<17:19, 16.77s/it]"
     ]
    },
    {
     "name": "stdout",
     "output_type": "stream",
     "text": [
      "processed in  12.301002264022827  seconds\n",
      "____________________________________________\n",
      "Loading NA5007-17_HE.svs  ......\n"
     ]
    },
    {
     "name": "stderr",
     "output_type": "stream",
     "text": [
      " 12%|█▏        | 8/69 [02:25<16:36, 16.34s/it]"
     ]
    },
    {
     "name": "stdout",
     "output_type": "stream",
     "text": [
      "processed in  15.410229444503784  seconds\n",
      "____________________________________________\n",
      "Loading NA5007-18_HE.svs  ......\n"
     ]
    },
    {
     "name": "stderr",
     "output_type": "stream",
     "text": [
      " 13%|█▎        | 9/69 [02:39<15:31, 15.53s/it]"
     ]
    },
    {
     "name": "stdout",
     "output_type": "stream",
     "text": [
      "processed in  13.741540431976318  seconds\n",
      "____________________________________________\n",
      "Loading NA5009-16_HE.svs  ......\n"
     ]
    },
    {
     "name": "stderr",
     "output_type": "stream",
     "text": [
      " 14%|█▍        | 10/69 [02:46<12:46, 12.99s/it]"
     ]
    },
    {
     "name": "stdout",
     "output_type": "stream",
     "text": [
      "processed in  7.318816423416138  seconds\n",
      "____________________________________________\n",
      "Loading NA5009-17_HE.svs  ......\n"
     ]
    },
    {
     "name": "stderr",
     "output_type": "stream",
     "text": [
      " 16%|█▌        | 11/69 [02:55<11:22, 11.77s/it]"
     ]
    },
    {
     "name": "stdout",
     "output_type": "stream",
     "text": [
      "processed in  8.987509965896606  seconds\n",
      "____________________________________________\n",
      "Loading NA5009-18_HE.svs  ......\n",
      "Loaded mask at  /cache/S23_Infarct/masks/NA5009-18_HE.npy , about to process...\n"
     ]
    },
    {
     "name": "stderr",
     "output_type": "stream",
     "text": [
      " 17%|█▋        | 12/69 [03:13<13:06, 13.80s/it]"
     ]
    },
    {
     "name": "stdout",
     "output_type": "stream",
     "text": [
      "processed in  18.431748867034912  seconds\n",
      "____________________________________________\n",
      "Loading NA5031-16_HE.svs  ......\n"
     ]
    },
    {
     "name": "stderr",
     "output_type": "stream",
     "text": [
      " 19%|█▉        | 13/69 [03:26<12:38, 13.55s/it]"
     ]
    },
    {
     "name": "stdout",
     "output_type": "stream",
     "text": [
      "processed in  12.990071296691895  seconds\n",
      "____________________________________________\n",
      "Loading NA5031-17_HE.svs  ......\n"
     ]
    },
    {
     "name": "stderr",
     "output_type": "stream",
     "text": [
      " 20%|██        | 14/69 [03:40<12:19, 13.45s/it]"
     ]
    },
    {
     "name": "stdout",
     "output_type": "stream",
     "text": [
      "processed in  13.207723379135132  seconds\n",
      "____________________________________________\n",
      "Loading NA5031-18_HE.svs  ......\n",
      "Loaded mask at  /cache/S23_Infarct/masks/NA5031-18_HE.npy , about to process...\n"
     ]
    },
    {
     "name": "stderr",
     "output_type": "stream",
     "text": [
      " 22%|██▏       | 15/69 [04:10<16:41, 18.55s/it]"
     ]
    },
    {
     "name": "stdout",
     "output_type": "stream",
     "text": [
      "processed in  30.358651876449585  seconds\n",
      "____________________________________________\n",
      "Loading NA5041-16_HE.svs  ......\n",
      "Loaded mask at  /cache/S23_Infarct/masks/NA5041-16_HE.npy , about to process...\n"
     ]
    },
    {
     "name": "stderr",
     "output_type": "stream",
     "text": [
      " 23%|██▎       | 16/69 [04:43<20:09, 22.82s/it]"
     ]
    },
    {
     "name": "stdout",
     "output_type": "stream",
     "text": [
      "processed in  32.75600600242615  seconds\n",
      "____________________________________________\n",
      "Loading NA5041-17_HE.svs  ......\n"
     ]
    },
    {
     "name": "stderr",
     "output_type": "stream",
     "text": [
      " 25%|██▍       | 17/69 [04:58<17:47, 20.54s/it]"
     ]
    },
    {
     "name": "stdout",
     "output_type": "stream",
     "text": [
      "processed in  15.217618703842163  seconds\n",
      "____________________________________________\n",
      "Loading NA5041-18_HE.svs  ......\n"
     ]
    },
    {
     "name": "stderr",
     "output_type": "stream",
     "text": [
      " 26%|██▌       | 18/69 [05:04<13:42, 16.12s/it]"
     ]
    },
    {
     "name": "stdout",
     "output_type": "stream",
     "text": [
      "processed in  5.841396331787109  seconds\n",
      "____________________________________________\n",
      "Loading NA5045-16_HE.svs  ......\n"
     ]
    },
    {
     "name": "stderr",
     "output_type": "stream",
     "text": [
      " 28%|██▊       | 19/69 [05:12<11:19, 13.59s/it]"
     ]
    },
    {
     "name": "stdout",
     "output_type": "stream",
     "text": [
      "processed in  7.681131839752197  seconds\n",
      "____________________________________________\n",
      "Loading NA5045-17_HE.svs  ......\n"
     ]
    },
    {
     "name": "stderr",
     "output_type": "stream",
     "text": [
      " 29%|██▉       | 20/69 [05:25<10:57, 13.41s/it]"
     ]
    },
    {
     "name": "stdout",
     "output_type": "stream",
     "text": [
      "processed in  12.991291522979736  seconds\n",
      "____________________________________________\n",
      "Loading NA5045-18_HE.svs  ......\n",
      "Loaded mask at  /cache/S23_Infarct/masks/NA5045-18_HE.npy , about to process...\n"
     ]
    },
    {
     "name": "stderr",
     "output_type": "stream",
     "text": [
      " 30%|███       | 21/69 [05:49<13:23, 16.73s/it]"
     ]
    },
    {
     "name": "stdout",
     "output_type": "stream",
     "text": [
      "processed in  24.46793484687805  seconds\n",
      "____________________________________________\n",
      "Loading NA5051-16_HE.czi  ......\n"
     ]
    },
    {
     "name": "stderr",
     "output_type": "stream",
     "text": [
      " 32%|███▏      | 22/69 [06:09<13:52, 17.71s/it]"
     ]
    },
    {
     "name": "stdout",
     "output_type": "stream",
     "text": [
      "processed in  20.010831832885742  seconds\n",
      "____________________________________________\n",
      "Loading NA5051-17_HE.czi  ......\n"
     ]
    },
    {
     "name": "stderr",
     "output_type": "stream",
     "text": [
      " 33%|███▎      | 23/69 [06:37<15:50, 20.65s/it]"
     ]
    },
    {
     "name": "stdout",
     "output_type": "stream",
     "text": [
      "processed in  27.502427101135254  seconds\n",
      "____________________________________________\n",
      "Loading NA5051-18_HE.czi  ......\n",
      "Loaded mask at  /cache/S23_Infarct/masks/NA5051-18_HE.npy , about to process...\n"
     ]
    },
    {
     "name": "stderr",
     "output_type": "stream",
     "text": [
      " 35%|███▍      | 24/69 [06:58<15:45, 21.01s/it]"
     ]
    },
    {
     "name": "stdout",
     "output_type": "stream",
     "text": [
      "processed in  21.859400033950806  seconds\n",
      "____________________________________________\n",
      "Loading NA5057-16_HE.svs  ......\n",
      "Loaded mask at  /cache/S23_Infarct/masks/NA5057-16_HE.npy , about to process...\n"
     ]
    },
    {
     "name": "stderr",
     "output_type": "stream",
     "text": [
      " 36%|███▌      | 25/69 [07:23<16:14, 22.15s/it]"
     ]
    },
    {
     "name": "stdout",
     "output_type": "stream",
     "text": [
      "processed in  24.79750895500183  seconds\n",
      "____________________________________________\n",
      "Loading NA5057-17_HE.svs  ......\n"
     ]
    },
    {
     "name": "stderr",
     "output_type": "stream",
     "text": [
      " 38%|███▊      | 26/69 [07:35<13:35, 18.96s/it]"
     ]
    },
    {
     "name": "stdout",
     "output_type": "stream",
     "text": [
      "processed in  11.507474422454834  seconds\n",
      "____________________________________________\n",
      "Loading NA5057-18_HE.svs  ......\n",
      "Loaded mask at  /cache/S23_Infarct/masks/NA5057-18_HE.npy , about to process...\n"
     ]
    },
    {
     "name": "stderr",
     "output_type": "stream",
     "text": [
      " 39%|███▉      | 27/69 [07:54<13:25, 19.17s/it]"
     ]
    },
    {
     "name": "stdout",
     "output_type": "stream",
     "text": [
      "processed in  19.670384883880615  seconds\n",
      "____________________________________________\n",
      "Loading NA5063-16_HE.czi  ......\n",
      "Loaded mask at  /cache/S23_Infarct/masks/NA5063-16_HE.npy , about to process...\n"
     ]
    },
    {
     "name": "stderr",
     "output_type": "stream",
     "text": [
      " 41%|████      | 28/69 [08:29<16:16, 23.83s/it]"
     ]
    },
    {
     "name": "stdout",
     "output_type": "stream",
     "text": [
      "processed in  34.68734693527222  seconds\n",
      "____________________________________________\n",
      "Loading NA5063-17_HE.czi  ......\n"
     ]
    },
    {
     "name": "stderr",
     "output_type": "stream",
     "text": [
      " 42%|████▏     | 29/69 [08:49<15:10, 22.75s/it]"
     ]
    },
    {
     "name": "stdout",
     "output_type": "stream",
     "text": [
      "processed in  20.250872373580933  seconds\n",
      "____________________________________________\n",
      "Loading NA5063-18_HE.czi  ......\n",
      "Loaded mask at  /cache/S23_Infarct/masks/NA5063-18_HE.npy , about to process...\n"
     ]
    },
    {
     "name": "stderr",
     "output_type": "stream",
     "text": [
      " 43%|████▎     | 30/69 [09:11<14:38, 22.52s/it]"
     ]
    },
    {
     "name": "stdout",
     "output_type": "stream",
     "text": [
      "processed in  21.962170839309692  seconds\n",
      "____________________________________________\n",
      "Loading NA5077-16_HE.czi  ......\n"
     ]
    },
    {
     "name": "stderr",
     "output_type": "stream",
     "text": [
      " 45%|████▍     | 31/69 [09:33<14:01, 22.14s/it]"
     ]
    },
    {
     "name": "stdout",
     "output_type": "stream",
     "text": [
      "processed in  21.25354504585266  seconds\n",
      "____________________________________________\n",
      "Loading NA5077-17_HE.czi  ......\n",
      "Loaded mask at  /cache/S23_Infarct/masks/NA5077-17_HE.npy , about to process...\n"
     ]
    },
    {
     "name": "stderr",
     "output_type": "stream",
     "text": [
      " 46%|████▋     | 32/69 [10:11<16:39, 27.01s/it]"
     ]
    },
    {
     "name": "stdout",
     "output_type": "stream",
     "text": [
      "processed in  38.363468647003174  seconds\n",
      "____________________________________________\n",
      "Loading NA5077-18_HE.czi  ......\n",
      "Loaded mask at  /cache/S23_Infarct/masks/NA5077-18_HE.npy , about to process...\n"
     ]
    },
    {
     "name": "stderr",
     "output_type": "stream",
     "text": [
      " 48%|████▊     | 33/69 [10:43<17:08, 28.58s/it]"
     ]
    },
    {
     "name": "stdout",
     "output_type": "stream",
     "text": [
      "processed in  32.24988532066345  seconds\n",
      "____________________________________________\n",
      "Loading NA5085-16_HE.czi  ......\n"
     ]
    },
    {
     "name": "stderr",
     "output_type": "stream",
     "text": [
      " 49%|████▉     | 34/69 [10:47<12:17, 21.06s/it]"
     ]
    },
    {
     "name": "stdout",
     "output_type": "stream",
     "text": [
      "processed in  3.52193021774292  seconds\n",
      "____________________________________________\n",
      "Loading NA5085-17_HE.czi  ......\n"
     ]
    },
    {
     "name": "stderr",
     "output_type": "stream",
     "text": [
      " 51%|█████     | 35/69 [10:51<09:09, 16.17s/it]"
     ]
    },
    {
     "name": "stdout",
     "output_type": "stream",
     "text": [
      "processed in  4.738671779632568  seconds\n",
      "____________________________________________\n",
      "Loading NA5085-18_HE.czi  ......\n",
      "Loaded mask at  /cache/S23_Infarct/masks/NA5085-18_HE.npy , about to process...\n"
     ]
    },
    {
     "name": "stderr",
     "output_type": "stream",
     "text": [
      " 52%|█████▏    | 36/69 [11:23<11:22, 20.68s/it]"
     ]
    },
    {
     "name": "stdout",
     "output_type": "stream",
     "text": [
      "processed in  31.213018655776978  seconds\n",
      "____________________________________________\n",
      "Loading NA5089-16_HE.czi  ......\n"
     ]
    },
    {
     "name": "stderr",
     "output_type": "stream",
     "text": [
      " 54%|█████▎    | 37/69 [11:26<08:15, 15.48s/it]"
     ]
    },
    {
     "name": "stdout",
     "output_type": "stream",
     "text": [
      "processed in  3.326031446456909  seconds\n",
      "____________________________________________\n",
      "Loading NA5089-17_HE.czi  ......\n",
      "Loaded mask at  /cache/S23_Infarct/masks/NA5089-17_HE.npy , about to process...\n"
     ]
    },
    {
     "name": "stderr",
     "output_type": "stream",
     "text": [
      " 55%|█████▌    | 38/69 [12:19<13:51, 26.81s/it]"
     ]
    },
    {
     "name": "stdout",
     "output_type": "stream",
     "text": [
      "processed in  53.25045704841614  seconds\n",
      "____________________________________________\n",
      "Loading NA5089-18_HE.czi  ......\n",
      "Loaded mask at  /cache/S23_Infarct/masks/NA5089-18_HE.npy , about to process...\n"
     ]
    },
    {
     "name": "stderr",
     "output_type": "stream",
     "text": [
      " 57%|█████▋    | 39/69 [12:56<14:56, 29.89s/it]"
     ]
    },
    {
     "name": "stdout",
     "output_type": "stream",
     "text": [
      "processed in  37.08373284339905  seconds\n",
      "____________________________________________\n",
      "Loading NA5090-16_HE.czi  ......\n"
     ]
    },
    {
     "name": "stderr",
     "output_type": "stream",
     "text": [
      " 58%|█████▊    | 40/69 [12:59<10:27, 21.65s/it]"
     ]
    },
    {
     "name": "stdout",
     "output_type": "stream",
     "text": [
      "processed in  2.403475046157837  seconds\n",
      "____________________________________________\n",
      "Loading NA5090-17_HE.czi  ......\n"
     ]
    },
    {
     "name": "stderr",
     "output_type": "stream",
     "text": [
      " 59%|█████▉    | 41/69 [13:03<07:40, 16.43s/it]"
     ]
    },
    {
     "name": "stdout",
     "output_type": "stream",
     "text": [
      "processed in  4.262521266937256  seconds\n",
      "____________________________________________\n",
      "Loading NA5090-18_HE.czi  ......\n"
     ]
    },
    {
     "name": "stderr",
     "output_type": "stream",
     "text": [
      " 61%|██████    | 42/69 [13:05<05:30, 12.23s/it]"
     ]
    },
    {
     "name": "stdout",
     "output_type": "stream",
     "text": [
      "processed in  2.431574583053589  seconds\n",
      "____________________________________________\n",
      "Loading NA5091-16_HE.czi  ......\n"
     ]
    },
    {
     "name": "stderr",
     "output_type": "stream",
     "text": [
      " 62%|██████▏   | 43/69 [13:08<04:03,  9.36s/it]"
     ]
    },
    {
     "name": "stdout",
     "output_type": "stream",
     "text": [
      "processed in  2.6493489742279053  seconds\n",
      "____________________________________________\n",
      "Loading NA5091-17_HE.czi  ......\n"
     ]
    },
    {
     "name": "stderr",
     "output_type": "stream",
     "text": [
      " 64%|██████▍   | 44/69 [13:13<03:22,  8.08s/it]"
     ]
    },
    {
     "name": "stdout",
     "output_type": "stream",
     "text": [
      "processed in  5.1022257804870605  seconds\n",
      "____________________________________________\n",
      "Loading NA5091-18_HE.czi  ......\n"
     ]
    },
    {
     "name": "stderr",
     "output_type": "stream",
     "text": [
      " 65%|██████▌   | 45/69 [13:15<02:31,  6.32s/it]"
     ]
    },
    {
     "name": "stdout",
     "output_type": "stream",
     "text": [
      "processed in  2.195622205734253  seconds\n",
      "____________________________________________\n",
      "Loading NA5093-16_HE.czi  ......\n"
     ]
    },
    {
     "name": "stderr",
     "output_type": "stream",
     "text": [
      " 67%|██████▋   | 46/69 [13:20<02:15,  5.88s/it]"
     ]
    },
    {
     "name": "stdout",
     "output_type": "stream",
     "text": [
      "processed in  4.858076095581055  seconds\n",
      "____________________________________________\n",
      "Loading NA5093-17_HE.czi  ......\n",
      "Loaded mask at  /cache/S23_Infarct/masks/NA5093-17_HE.npy , about to process...\n"
     ]
    },
    {
     "name": "stderr",
     "output_type": "stream",
     "text": [
      " 68%|██████▊   | 47/69 [14:05<06:28, 17.67s/it]"
     ]
    },
    {
     "name": "stdout",
     "output_type": "stream",
     "text": [
      "processed in  45.16629672050476  seconds\n",
      "____________________________________________\n",
      "Loading NA5093-18_HE.czi  ......\n",
      "Loaded mask at  /cache/S23_Infarct/masks/NA5093-18_HE.npy , about to process...\n"
     ]
    },
    {
     "name": "stderr",
     "output_type": "stream",
     "text": [
      " 70%|██████▉   | 48/69 [14:38<07:46, 22.22s/it]"
     ]
    },
    {
     "name": "stdout",
     "output_type": "stream",
     "text": [
      "processed in  32.834407567977905  seconds\n",
      "____________________________________________\n",
      "Loading NA5095-16_HE.czi  ......\n"
     ]
    },
    {
     "name": "stderr",
     "output_type": "stream",
     "text": [
      " 71%|███████   | 49/69 [14:41<05:30, 16.52s/it]"
     ]
    },
    {
     "name": "stdout",
     "output_type": "stream",
     "text": [
      "processed in  3.2187294960021973  seconds\n",
      "____________________________________________\n",
      "Loading NA5095-17_HE.czi  ......\n"
     ]
    },
    {
     "name": "stderr",
     "output_type": "stream",
     "text": [
      " 72%|███████▏  | 50/69 [14:47<04:10, 13.20s/it]"
     ]
    },
    {
     "name": "stdout",
     "output_type": "stream",
     "text": [
      "processed in  5.445710182189941  seconds\n",
      "____________________________________________\n",
      "Loading NA5095-18_HE.czi  ......\n"
     ]
    },
    {
     "name": "stderr",
     "output_type": "stream",
     "text": [
      " 74%|███████▍  | 51/69 [14:50<03:03, 10.21s/it]"
     ]
    },
    {
     "name": "stdout",
     "output_type": "stream",
     "text": [
      "processed in  3.229520320892334  seconds\n",
      "____________________________________________\n",
      "Loading NA5098-16_HE.czi  ......\n"
     ]
    },
    {
     "name": "stderr",
     "output_type": "stream",
     "text": [
      " 75%|███████▌  | 52/69 [14:52<02:12,  7.82s/it]"
     ]
    },
    {
     "name": "stdout",
     "output_type": "stream",
     "text": [
      "processed in  2.2374889850616455  seconds\n",
      "____________________________________________\n",
      "Loading NA5098-17_HE.czi  ......\n",
      "Loaded mask at  /cache/S23_Infarct/masks/NA5098-17_HE.npy , about to process...\n"
     ]
    },
    {
     "name": "stderr",
     "output_type": "stream",
     "text": [
      " 77%|███████▋  | 53/69 [15:38<05:08, 19.28s/it]"
     ]
    },
    {
     "name": "stdout",
     "output_type": "stream",
     "text": [
      "processed in  46.01008749008179  seconds\n",
      "____________________________________________\n",
      "Loading NA5098-18_HE.czi  ......\n"
     ]
    },
    {
     "name": "stderr",
     "output_type": "stream",
     "text": [
      " 78%|███████▊  | 54/69 [15:40<03:31, 14.08s/it]"
     ]
    },
    {
     "name": "stdout",
     "output_type": "stream",
     "text": [
      "processed in  1.9691755771636963  seconds\n",
      "____________________________________________\n",
      "Loading NA5114-16_HE.czi  ......\n",
      "Loaded mask at  /cache/S23_Infarct/masks/NA5114-16_HE.npy , about to process...\n"
     ]
    },
    {
     "name": "stderr",
     "output_type": "stream",
     "text": [
      " 80%|███████▉  | 55/69 [16:43<06:42, 28.72s/it]"
     ]
    },
    {
     "name": "stdout",
     "output_type": "stream",
     "text": [
      "processed in  62.87618899345398  seconds\n",
      "____________________________________________\n",
      "Loading NA5114-17_HE.czi  ......\n",
      "Loaded mask at  /cache/S23_Infarct/masks/NA5114-17_HE.npy , about to process...\n"
     ]
    },
    {
     "name": "stderr",
     "output_type": "stream",
     "text": [
      " 81%|████████  | 56/69 [17:19<06:42, 30.93s/it]"
     ]
    },
    {
     "name": "stdout",
     "output_type": "stream",
     "text": [
      "processed in  36.085673570632935  seconds\n",
      "____________________________________________\n",
      "Loading NA5114-18_HE.czi  ......\n",
      "Loaded mask at  /cache/S23_Infarct/masks/NA5114-18_HE.npy , about to process...\n"
     ]
    },
    {
     "name": "stderr",
     "output_type": "stream",
     "text": [
      " 83%|████████▎ | 57/69 [18:10<07:22, 36.87s/it]"
     ]
    },
    {
     "name": "stdout",
     "output_type": "stream",
     "text": [
      "processed in  50.70813012123108  seconds\n",
      "____________________________________________\n",
      "Loading NA5116-16_HE.czi  ......\n",
      "Loaded mask at  /cache/S23_Infarct/masks/NA5116-16_HE.npy , about to process...\n"
     ]
    },
    {
     "name": "stderr",
     "output_type": "stream",
     "text": [
      " 84%|████████▍ | 58/69 [18:38<06:16, 34.21s/it]"
     ]
    },
    {
     "name": "stdout",
     "output_type": "stream",
     "text": [
      "processed in  27.997337341308594  seconds\n",
      "____________________________________________\n",
      "Loading NA5116-17_HE.czi  ......\n"
     ]
    },
    {
     "name": "stderr",
     "output_type": "stream",
     "text": [
      " 86%|████████▌ | 59/69 [18:41<04:09, 24.93s/it]"
     ]
    },
    {
     "name": "stdout",
     "output_type": "stream",
     "text": [
      "processed in  3.2888550758361816  seconds\n",
      "____________________________________________\n",
      "Loading NA5116-18_HE.czi  ......\n"
     ]
    },
    {
     "name": "stderr",
     "output_type": "stream",
     "text": [
      " 87%|████████▋ | 60/69 [18:45<02:46, 18.47s/it]"
     ]
    },
    {
     "name": "stdout",
     "output_type": "stream",
     "text": [
      "processed in  3.381720781326294  seconds\n",
      "____________________________________________\n",
      "Loading NA5137-16_HE.czi  ......\n"
     ]
    },
    {
     "name": "stderr",
     "output_type": "stream",
     "text": [
      " 88%|████████▊ | 61/69 [18:47<01:48, 13.62s/it]"
     ]
    },
    {
     "name": "stdout",
     "output_type": "stream",
     "text": [
      "processed in  2.2960991859436035  seconds\n",
      "____________________________________________\n",
      "Loading NA5137-17_HE.czi  ......\n"
     ]
    },
    {
     "name": "stderr",
     "output_type": "stream",
     "text": [
      " 90%|████████▉ | 62/69 [18:51<01:14, 10.66s/it]"
     ]
    },
    {
     "name": "stdout",
     "output_type": "stream",
     "text": [
      "processed in  3.7744193077087402  seconds\n",
      "____________________________________________\n",
      "Loading NA5137-18_HE.czi  ......\n"
     ]
    },
    {
     "name": "stderr",
     "output_type": "stream",
     "text": [
      " 91%|█████████▏| 63/69 [18:52<00:46,  7.83s/it]"
     ]
    },
    {
     "name": "stdout",
     "output_type": "stream",
     "text": [
      "processed in  1.205054521560669  seconds\n",
      "____________________________________________\n",
      "Loading NA5146-16_HE.svs  ......\n",
      "Loaded mask at  /cache/S23_Infarct/masks/NA5146-16_HE.npy , about to process...\n"
     ]
    },
    {
     "name": "stderr",
     "output_type": "stream",
     "text": [
      " 93%|█████████▎| 64/69 [19:27<01:19, 15.99s/it]"
     ]
    },
    {
     "name": "stdout",
     "output_type": "stream",
     "text": [
      "processed in  35.026503801345825  seconds\n",
      "____________________________________________\n",
      "Loading NA5146-17_HE.svs  ......\n",
      "Loaded mask at  /cache/S23_Infarct/masks/NA5146-17_HE.npy , about to process...\n"
     ]
    },
    {
     "name": "stderr",
     "output_type": "stream",
     "text": [
      " 94%|█████████▍| 65/69 [19:53<01:15, 18.90s/it]"
     ]
    },
    {
     "name": "stdout",
     "output_type": "stream",
     "text": [
      "processed in  25.68551802635193  seconds\n",
      "____________________________________________\n",
      "Loading NA5146-18_HE.svs  ......\n",
      "Loaded mask at  /cache/S23_Infarct/masks/NA5146-18_HE.npy , about to process...\n"
     ]
    },
    {
     "name": "stderr",
     "output_type": "stream",
     "text": [
      " 96%|█████████▌| 66/69 [20:11<00:56, 18.83s/it]"
     ]
    },
    {
     "name": "stdout",
     "output_type": "stream",
     "text": [
      "processed in  18.666985511779785  seconds\n",
      "____________________________________________\n",
      "Loading NA5161-16_HE.czi  ......\n"
     ]
    },
    {
     "name": "stderr",
     "output_type": "stream",
     "text": [
      " 97%|█████████▋| 67/69 [20:15<00:28, 14.17s/it]"
     ]
    },
    {
     "name": "stdout",
     "output_type": "stream",
     "text": [
      "processed in  3.309877395629883  seconds\n",
      "____________________________________________\n",
      "Loading NA5161-17_HE.czi  ......\n",
      "Loaded mask at  /cache/S23_Infarct/masks/NA5161-17_HE.npy , about to process...\n"
     ]
    },
    {
     "name": "stderr",
     "output_type": "stream",
     "text": [
      " 99%|█████████▊| 68/69 [21:01<00:23, 23.68s/it]"
     ]
    },
    {
     "name": "stdout",
     "output_type": "stream",
     "text": [
      "processed in  45.86230278015137  seconds\n",
      "____________________________________________\n",
      "Loading NA5161-18_HE.czi  ......\n"
     ]
    },
    {
     "name": "stderr",
     "output_type": "stream",
     "text": [
      "100%|██████████| 69/69 [21:02<00:00, 18.30s/it]"
     ]
    },
    {
     "name": "stdout",
     "output_type": "stream",
     "text": [
      "processed in  1.986387014389038  seconds\n",
      "____________________________________________\n"
     ]
    },
    {
     "name": "stderr",
     "output_type": "stream",
     "text": [
      "\n"
     ]
    }
   ],
   "source": [
    "###### SEGMENTATION - Separate tiles into BG, Inf and Healthy folders\n",
    "gt_df = pd.read_csv('/cache/S23_Infarct/gt.csv')\n",
    "\n",
    "for imagename in tqdm(imagenames[:]):\n",
    "    start = time.time()\n",
    "\n",
    "    wsi_gt = gt_df[gt_df.cases == imagename].iat[0,2]\n",
    "    \n",
    "    NAID = imagename.split('.')[0]\n",
    "    print(\"Loading\", imagename, \" ......\")\n",
    "\n",
    "    try:\n",
    "        os.makedirs(SEGMENTATION_TILE_DIR+NAID+'/Heal/')\n",
    "    except:\n",
    "        pass\n",
    "    \n",
    "    if wsi_gt == 1:\n",
    "        try:\n",
    "            os.makedirs(SEGMENTATION_TILE_DIR+NAID+'/Inf/')\n",
    "        except:\n",
    "            pass\n",
    "        mask = np.load(MASK_DIR+NAID+'.npy')\n",
    "    \n",
    "        print(\"Loaded mask at \", MASK_DIR+NAID+'.npy' ,\", about to process...\")\n",
    "\n",
    "    #mask = np.unpackbits(mask,count=im_size).reshape(img_dim).view(bool)\n",
    "    #mask = mask.view(np.uint8)\n",
    "    #print(\"Unbinarized mask\")\n",
    "\n",
    "    for tile_folder in os.listdir(SAVE_DIR+NAID+'/0/'):\n",
    "        for tile in os.listdir(SAVE_DIR+NAID+'/0/'+tile_folder):\n",
    "            \n",
    "            try:\n",
    "                #file naming convention --> y0 x0 y1 x1\n",
    "                y0 = int(tile.split('_')[0])\n",
    "                x0 = int(tile.split('_')[1])\n",
    "                y1 = int(tile.split('_')[2])\n",
    "                x1 = int(tile.split('_')[3])\n",
    "\n",
    "                if wsi_gt == 1:\n",
    "                    if sum(sum(mask[y0:y1,x0:x1])) >= ((512*512)/2):\n",
    "                        shutil.copyfile(SAVE_DIR+NAID+'/0/'+tile_folder+'/'+tile, SEGMENTATION_TILE_DIR+NAID+'/Inf/'+tile)\n",
    "                    elif sum(sum(mask[y0:y1,x0:x1])) == 0:\n",
    "                        shutil.copyfile(SAVE_DIR+NAID+'/0/'+tile_folder+'/'+tile, SEGMENTATION_TILE_DIR+NAID+'/Heal/'+tile)\n",
    "                    else:\n",
    "                        pass\n",
    "                else:\n",
    "                    shutil.copyfile(SAVE_DIR+NAID+'/0/'+tile_folder+'/'+tile, SEGMENTATION_TILE_DIR+NAID+'/Heal/'+tile)\n",
    "            except:\n",
    "                print(\"Issue with tile \", tile)\n",
    "                \n",
    "    print(\"processed in \", time.time()-start,\" seconds\")\n",
    "    print(\"____________________________________________\")"
   ]
  },
  {
   "cell_type": "code",
   "execution_count": null,
   "id": "bec952b6",
   "metadata": {},
   "outputs": [],
   "source": []
  }
 ],
 "metadata": {
  "kernelspec": {
   "display_name": "Python 3",
   "language": "python",
   "name": "python3"
  },
  "language_info": {
   "codemirror_mode": {
    "name": "ipython",
    "version": 3
   },
   "file_extension": ".py",
   "mimetype": "text/x-python",
   "name": "python",
   "nbconvert_exporter": "python",
   "pygments_lexer": "ipython3",
   "version": "3.7.10"
  }
 },
 "nbformat": 4,
 "nbformat_minor": 5
}
